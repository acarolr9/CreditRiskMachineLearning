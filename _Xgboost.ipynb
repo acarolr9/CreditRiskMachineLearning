{
 "cells": [
  {
   "cell_type": "markdown",
   "metadata": {},
   "source": [
    "# 0. Initial setups"
   ]
  },
  {
   "cell_type": "markdown",
   "metadata": {},
   "source": [
    "## 0.1. Checking the version of the GRMLAB that has been installed in Sandbox"
   ]
  },
  {
   "cell_type": "code",
   "execution_count": 1,
   "metadata": {},
   "outputs": [
    {
     "data": {
      "text/plain": [
       "'1.9.7'"
      ]
     },
     "execution_count": 1,
     "metadata": {},
     "output_type": "execute_result"
    }
   ],
   "source": [
    "%load_ext autoreload\n",
    "%autoreload 2\n",
    "import grmlab\n",
    "grmlab.__version__"
   ]
  },
  {
   "cell_type": "markdown",
   "metadata": {},
   "source": [
    "## 0.2. Import the required libreries"
   ]
  },
  {
   "cell_type": "markdown",
   "metadata": {},
   "source": [
    "The following lines should be executed in Terminal<br>\n",
    "* pip install sparkdl\n",
    "* pip install keras\n",
    "* pip install tensorframes"
   ]
  },
  {
   "cell_type": "code",
   "execution_count": 2,
   "metadata": {},
   "outputs": [],
   "source": [
    "# Python\n",
    "import numpy as np\n",
    "import pandas as pd\n",
    "import seaborn as sns\n",
    "import matplotlib.pyplot as plt\n",
    "\n",
    "from matplotlib.ticker         import StrMethodFormatter \n",
    "from datetime                  import datetime\n",
    "import pyarrow as pa\n",
    "import scipy.stats as st \n",
    "\n",
    "from enki import HDFSConnector\n",
    "\n",
    "# Pyspark\n",
    "from pyspark.sql import functions as F\n",
    "from pyspark.sql.types import *\n",
    "from pyspark.sql.functions import *\n",
    "from pyspark.mllib.stat        import Statistics\n",
    "from pyspark.ml.feature        import VectorAssembler, StandardScaler, ChiSqSelector, StringIndexer, OneHotEncoder\n",
    "from pyspark.ml                import Pipeline\n",
    "from pyspark.ml.evaluation     import BinaryClassificationEvaluator, RegressionEvaluator, MulticlassClassificationEvaluator\n",
    "from pyspark.ml.regression     import LinearRegression\n",
    "from pyspark.ml.tuning         import CrossValidator, ParamGridBuilder\n",
    "from pyspark.mllib.evaluation  import MulticlassMetrics\n",
    "from pyspark.ml.classification import LogisticRegression, GBTClassifier\n",
    "\n",
    "import pyspark\n",
    "import xgboost as xgb\n",
    "#import multiprocessing\n",
    "from sklearn.metrics import roc_auc_score\n",
    "import time"
   ]
  },
  {
   "cell_type": "markdown",
   "metadata": {},
   "source": [
    "## 0.3. Display settings"
   ]
  },
  {
   "cell_type": "code",
   "execution_count": 3,
   "metadata": {},
   "outputs": [
    {
     "data": {
      "text/html": [
       "<style>pre { white-space: pre !important; }</style>"
      ],
      "text/plain": [
       "<IPython.core.display.HTML object>"
      ]
     },
     "metadata": {},
     "output_type": "display_data"
    }
   ],
   "source": [
    "#Scroll horizontal en tablas\n",
    "from IPython.core.display import HTML\n",
    "display(HTML(\"<style>pre { white-space: pre !important; }</style>\"))"
   ]
  },
  {
   "cell_type": "code",
   "execution_count": 4,
   "metadata": {},
   "outputs": [],
   "source": [
    "#Generamos una función para poder observar mas filas y columnas\n",
    "# Valor por defecto de columnas y filas\n",
    "def_number_rows = 20\n",
    "def_number_cols = 20\n",
    "def dameMasFilas(num = None):\n",
    "    if num is None:\n",
    "        pd.set_option('display.max_rows', def_number_rows)\n",
    "    else:\n",
    "        pd.set_option('display.max_rows', num)\n",
    "def dameMasColumnas(num = None):\n",
    "    if num is None:\n",
    "        pd.set_option('display.max_columns', def_number_cols)\n",
    "    else:\n",
    "        pd.set_option('display.max_columns', num)\n",
    "        \n",
    "#damos una mirada a las variables del dataframe\n",
    "dameMasColumnas(num = 1100)"
   ]
  },
  {
   "cell_type": "markdown",
   "metadata": {},
   "source": [
    "## 0.4. Specify the routes"
   ]
  },
  {
   "cell_type": "code",
   "execution_count": 5,
   "metadata": {},
   "outputs": [
    {
     "name": "stdout",
     "output_type": "stream",
     "text": [
      "UBICACIÓN SALIDAS: \n",
      " /var/sds/homes/C805821/workspace/Comportamental_PN_TG/Reportes/07_xgboost_2/\n"
     ]
    }
   ],
   "source": [
    "ruta_reportes = \"/var/sds/homes/C805821/workspace/Comportamental_PN_TG/Reportes/\"\n",
    "ruta_bases_tratadas_sb = '/data/sandboxes/risk/data/Analytics/ModelosCarolina/Comportamental_PN_TG/Bases_tratadas/'\n",
    "segment = 'bi_consolidated'\n",
    "user = 'C805821/'\n",
    "descripcion = \"Informe Multivariante Consolidado\"\n",
    "fecha_sistema = datetime.today().strftime(\"%Y%m%d_%H%M%S\")\n",
    "fileName = 'comportamental'\n",
    "WS_PATH_Reportes = ruta_reportes + \"07_xgboost_2/\"\n",
    "title = 'report'\n",
    "ruta_reportes_mv = ruta_reportes + \"05_multivariate/\"\n",
    "ruta_bases_tratadas = \"/var/sds/homes/\" + user + \"workspace/Comportamental_PN_TG/Reportes/\"\n",
    "print('UBICACIÓN SALIDAS: \\n',WS_PATH_Reportes)"
   ]
  },
  {
   "cell_type": "markdown",
   "metadata": {},
   "source": [
    "# 1. Load data"
   ]
  },
  {
   "cell_type": "code",
   "execution_count": 6,
   "metadata": {},
   "outputs": [],
   "source": [
    "def func_importdata(path, data, data_type, delimiter):\n",
    "    global df_output\n",
    "    \n",
    "    if (data_type == 'csv') or ((data_type == 'txt')):\n",
    "        df_output = spark.read.option(\"header\", \"true\")\\\n",
    "                .option(\"delimiter\", delimiter)\\\n",
    "                .option(\"decimal\", \",\")\\\n",
    "                .option(\"inferSchema\", \"true\")\\\n",
    "                .option(\"treatEmptyValuesAsNulls\",\"true\")\\\n",
    "                .csv(path + data)\n",
    "        \n",
    "    else:\n",
    "        df_output = spark.read.parquet(path + data)\n",
    "       \n",
    "    return df_output"
   ]
  },
  {
   "cell_type": "markdown",
   "metadata": {},
   "source": [
    "## 1.1. Import the list of variables"
   ]
  },
  {
   "cell_type": "code",
   "execution_count": 7,
   "metadata": {
    "tags": []
   },
   "outputs": [
    {
     "name": "stdout",
     "output_type": "stream",
     "text": [
      "344\n",
      "['var_240', 'var_241', 'var_113', 'var_114', 'var_242', 'var_244', 'var_11', 'var_248', 'var_14', 'var_116', 'var_506', 'var_249', 'var_250', 'var_801', 'var_252', 'var_118', 'var_804', 'var_146', 'var_223', 'var_507', 'var_258', 'var_259', 'var_262', 'var_816', 'var_122', 'var_260', 'var_179', 'var_125', 'var_548', 'var_264', 'var_265', 'var_445', 'var_17', 'var_814', 'var_269', 'var_267', 'var_510', 'var_18', 'var_271', 'var_212', 'var_130', 'var_272', 'var_273', 'var_274', 'var_132', 'var_275', 'var_278', 'var_822', 'var_648', 'var_133', 'var_281', 'var_20', 'var_257', 'var_280', 'var_283', 'var_282', 'var_285', 'var_286', 'var_137', 'var_288', 'var_138', 'var_21', 'var_290', 'var_301', 'var_289', 'var_141', 'var_649', 'var_456', 'var_292', 'var_458', 'var_293', 'var_667', 'var_650', 'var_25', 'var_142', 'var_23', 'var_28', 'var_335', 'var_652', 'var_294', 'var_296', 'var_30', 'var_299', 'var_558', 'var_144', 'var_31', 'var_298', 'var_145', 'var_300', 'var_559', 'var_147', 'var_459', 'var_149', 'var_37', 'var_460', 'var_516', 'var_150', 'var_305', 'var_306', 'var_38', 'var_308', 'var_517', 'var_747', 'var_39', 'var_40', 'var_412', 'var_316', 'var_518', 'var_314', 'var_315', 'var_317', 'var_319', 'var_320', 'var_561', 'var_520', 'var_327', 'var_457', 'var_322', 'var_465', 'var_446', 'var_45', 'var_326', 'var_563', 'var_2', 'var_48', 'var_161', 'var_51', 'var_331', 'var_329', 'var_332', 'var_13', 'var_164', 'var_166', 'var_53', 'var_663', 'var_337', 'var_525', 'var_470', 'var_342', 'var_54', 'var_809', 'var_341', 'var_338', 'var_339', 'var_527', 'var_662', 'var_55', 'var_344', 'var_172', 'var_472', 'var_343', 'var_566', 'var_345', 'var_351', 'var_475', 'var_176', 'var_60', 'var_350', 'var_476', 'var_58', 'var_354', 'var_63', 'var_175', 'var_665', 'var_666', 'var_352', 'var_59', 'var_24', 'var_349', 'var_355', 'var_485', 'var_358', 'var_482', 'var_530', 'var_480', 'var_557', 'var_481', 'var_177', 'var_361', 'var_601', 'var_531', 'var_590', 'var_532', 'var_536', 'var_489', 'var_538', 'var_367', 'var_178', 'var_64', 'var_670', 'var_369', 'var_65', 'var_372', 'var_675', 'var_729', 'var_672', 'var_374', 'var_612', 'var_674', 'var_371', 'var_183', 'var_363', 'var_376', 'var_645', 'var_72', 'var_723', 'var_383', 'var_375', 'var_380', 'var_656', 'var_382', 'var_69', 'var_586', 'var_384', 'var_580', 'var_78', 'var_57', 'var_581', 'var_378', 'var_817', 'var_668', 'var_701', 'var_676', 'var_387', 'var_735', 'var_393', 'var_539', 'var_189', 'var_737', 'var_391', 'var_389', 'var_742', 'var_738', 'var_741', 'var_587', 'var_399', 'var_188', 'var_193', 'var_84', 'var_499', 'var_200', 'var_81', 'var_79', 'var_588', 'var_409', 'var_204', 'var_406', 'var_199', 'var_407', 'var_682', 'var_198', 'var_195', 'var_413', 'var_87', 'var_408', 'var_598', 'var_502', 'var_684', 'var_202', 'var_592', 'var_416', 'var_421', 'var_596', 'var_410', 'var_94', 'var_743', 'var_419', 'var_599', 'var_206', 'var_210', 'var_424', 'var_593', 'var_203', 'var_88', 'var_686', 'var_685', 'var_683', 'var_418', 'var_422', 'var_93', 'var_748', 'var_543', 'var_503', 'var_213', 'var_610', 'var_96', 'var_216', 'var_693', 'var_425', 'var_614', 'var_211', 'var_214', 'var_611', 'var_754', 'var_97', 'var_102', 'var_219', 'var_429', 'var_544', 'var_694', 'var_752', 'var_620', 'var_546', 'var_624', 'var_618', 'var_215', 'var_711', 'var_617', 'var_704', 'var_90', 'var_220', 'var_221', 'var_430', 'var_431', 'var_627', 'var_227', 'var_438', 'var_705', 'var_226', 'var_228', 'var_718', 'var_547', 'var_628', 'var_432', 'var_106', 'var_719', 'var_8', 'var_234', 'var_9', 'var_722', 'var_230', 'var_641', 'var_636', 'var_440', 'var_633', 'var_107', 'var_437', 'var_236', 'var_233', 'var_629', 'var_208', 'var_239', 'var_447', 'var_441']\n"
     ]
    }
   ],
   "source": [
    "varlist = pd.read_csv(ruta_reportes_mv + \"bivariate_results_bi_consolidated_correl_eliminated.csv\").variable.values.tolist()\n",
    "target = 'cohort_default_ind12'\n",
    "varlist = [item for item in varlist if item != target]\n",
    "print(len(varlist))\n",
    "print(varlist)"
   ]
  },
  {
   "cell_type": "code",
   "execution_count": 8,
   "metadata": {
    "tags": []
   },
   "outputs": [
    {
     "name": "stdout",
     "output_type": "stream",
     "text": [
      "['var_240', 'var_241', 'var_113', 'var_114', 'var_242', 'var_244', 'var_11', 'var_248', 'var_14', 'var_116', 'var_506', 'var_249', 'var_250', 'var_252', 'var_118', 'var_146', 'var_223', 'var_507', 'var_258', 'var_259', 'var_262', 'var_122', 'var_260', 'var_179', 'var_125', 'var_548', 'var_264', 'var_265', 'var_445', 'var_17', 'var_269', 'var_267', 'var_510', 'var_18', 'var_271', 'var_212', 'var_130', 'var_272', 'var_273', 'var_274', 'var_132', 'var_275', 'var_278', 'var_648', 'var_133', 'var_281', 'var_20', 'var_257', 'var_280', 'var_283', 'var_282', 'var_285', 'var_286', 'var_137', 'var_288', 'var_138', 'var_21', 'var_290', 'var_301', 'var_289', 'var_141', 'var_649', 'var_456', 'var_292', 'var_458', 'var_293', 'var_667', 'var_650', 'var_25', 'var_142', 'var_23', 'var_28', 'var_335', 'var_652', 'var_294', 'var_296', 'var_30', 'var_299', 'var_558', 'var_144', 'var_31', 'var_298', 'var_145', 'var_300', 'var_559', 'var_147', 'var_459', 'var_149', 'var_37', 'var_460', 'var_516', 'var_150', 'var_305', 'var_306', 'var_38', 'var_308', 'var_517', 'var_747', 'var_39', 'var_40', 'var_412', 'var_316', 'var_518', 'var_314', 'var_315', 'var_317', 'var_319', 'var_320', 'var_561', 'var_520', 'var_327', 'var_457', 'var_322', 'var_465', 'var_446', 'var_45', 'var_326', 'var_563', 'var_2', 'var_48', 'var_161', 'var_51', 'var_331', 'var_329', 'var_332', 'var_13', 'var_164', 'var_166', 'var_53', 'var_663', 'var_337', 'var_525', 'var_470', 'var_342', 'var_54', 'var_341', 'var_338', 'var_339', 'var_527', 'var_662', 'var_55', 'var_344', 'var_172', 'var_472', 'var_343', 'var_566', 'var_345', 'var_351', 'var_475', 'var_176', 'var_60', 'var_350', 'var_476', 'var_58', 'var_354', 'var_63', 'var_175', 'var_665', 'var_666', 'var_352', 'var_59', 'var_24', 'var_349', 'var_355', 'var_485', 'var_358', 'var_482', 'var_530', 'var_480', 'var_557', 'var_481', 'var_177', 'var_361', 'var_601', 'var_531', 'var_590', 'var_532', 'var_536', 'var_489', 'var_538', 'var_367', 'var_178', 'var_64', 'var_670', 'var_369', 'var_65', 'var_372', 'var_675', 'var_729', 'var_672', 'var_374', 'var_612', 'var_674', 'var_371', 'var_183', 'var_363', 'var_376', 'var_645', 'var_72', 'var_723', 'var_383', 'var_375', 'var_380', 'var_656', 'var_382', 'var_69', 'var_586', 'var_384', 'var_580', 'var_78', 'var_57', 'var_581', 'var_378', 'var_668', 'var_701', 'var_676', 'var_387', 'var_735', 'var_393', 'var_539', 'var_189', 'var_737', 'var_391', 'var_389', 'var_742', 'var_738', 'var_741', 'var_587', 'var_399', 'var_188', 'var_193', 'var_84', 'var_499', 'var_200', 'var_81', 'var_79', 'var_588', 'var_409', 'var_204', 'var_406', 'var_199', 'var_407', 'var_682', 'var_198', 'var_195', 'var_413', 'var_87', 'var_408', 'var_598', 'var_502', 'var_684', 'var_202', 'var_592', 'var_416', 'var_421', 'var_596', 'var_410', 'var_94', 'var_743', 'var_419', 'var_599', 'var_206', 'var_210', 'var_424', 'var_593', 'var_203', 'var_88', 'var_686', 'var_685', 'var_683', 'var_418', 'var_422', 'var_93', 'var_748', 'var_543', 'var_503', 'var_213', 'var_610', 'var_96', 'var_216', 'var_693', 'var_425', 'var_614', 'var_211', 'var_214', 'var_611', 'var_754', 'var_97', 'var_102', 'var_219', 'var_429', 'var_544', 'var_694', 'var_752', 'var_620', 'var_546', 'var_624', 'var_618', 'var_215', 'var_711', 'var_617', 'var_704', 'var_90', 'var_220', 'var_221', 'var_430', 'var_431', 'var_627', 'var_227', 'var_438', 'var_705', 'var_226', 'var_228', 'var_718', 'var_547', 'var_628', 'var_432', 'var_106', 'var_719', 'var_8', 'var_234', 'var_9', 'var_722', 'var_230', 'var_641', 'var_636', 'var_440', 'var_633', 'var_107', 'var_437', 'var_236', 'var_233', 'var_629', 'var_208', 'var_239', 'var_447', 'var_441']\n",
      "337\n"
     ]
    }
   ],
   "source": [
    "varlist_2 = [item for item in varlist if not (item.startswith(\"var_8\") and len(item) == 7)]\n",
    "print(varlist_2)\n",
    "print(len(varlist_2))"
   ]
  },
  {
   "cell_type": "markdown",
   "metadata": {},
   "source": [
    "## 1.2. Import the consolidated data"
   ]
  },
  {
   "cell_type": "code",
   "execution_count": 9,
   "metadata": {},
   "outputs": [],
   "source": [
    "#1 if the analyst wants to execute Xgboost with the original variables\n",
    "#0 if the analyst wants to use the output of the bivariate process as input\n",
    "original_flag = 1\n",
    "pyspark_flag_woe = 0\n",
    "pyspark_flag_org = 1"
   ]
  },
  {
   "cell_type": "code",
   "execution_count": 10,
   "metadata": {},
   "outputs": [
    {
     "name": "stdout",
     "output_type": "stream",
     "text": [
      "475383 346\n",
      "203376 346\n"
     ]
    }
   ],
   "source": [
    "input_path_train = '06_db_consolidated_train'\n",
    "df_train = spark.read.parquet(ruta_bases_tratadas_sb + input_path_train)\n",
    "print(df_train.count(),len(df_train.columns))\n",
    "\n",
    "input_path_test = '06_db_consolidated_test'\n",
    "df_test = spark.read.parquet(ruta_bases_tratadas_sb + input_path_test)\n",
    "print(df_test.count(),len(df_test.columns))"
   ]
  },
  {
   "cell_type": "code",
   "execution_count": 11,
   "metadata": {
    "tags": []
   },
   "outputs": [
    {
     "name": "stdout",
     "output_type": "stream",
     "text": [
      "['cohort_default_ind12', 'var_240', 'var_241', 'var_113', 'var_114', 'var_242', 'var_244', 'var_11', 'var_248', 'var_14', 'var_116', 'var_506', 'var_249', 'var_250', 'var_252', 'var_118', 'var_146', 'var_223', 'var_507', 'var_258', 'var_259', 'var_262', 'var_122', 'var_260', 'var_179', 'var_125', 'var_548', 'var_264', 'var_265', 'var_445', 'var_17', 'var_269', 'var_267', 'var_510', 'var_18', 'var_271', 'var_212', 'var_130', 'var_272', 'var_273', 'var_274', 'var_132', 'var_275', 'var_278', 'var_648', 'var_133', 'var_281', 'var_20', 'var_257', 'var_280', 'var_283', 'var_282', 'var_285', 'var_286', 'var_137', 'var_288', 'var_138', 'var_21', 'var_290', 'var_301', 'var_289', 'var_141', 'var_649', 'var_456', 'var_292', 'var_458', 'var_293', 'var_667', 'var_650', 'var_25', 'var_142', 'var_23', 'var_28', 'var_335', 'var_652', 'var_294', 'var_296', 'var_30', 'var_299', 'var_558', 'var_144', 'var_31', 'var_298', 'var_145', 'var_300', 'var_559', 'var_147', 'var_459', 'var_149', 'var_37', 'var_460', 'var_516', 'var_150', 'var_305', 'var_306', 'var_38', 'var_308', 'var_517', 'var_747', 'var_39', 'var_40', 'var_412', 'var_316', 'var_518', 'var_314', 'var_315', 'var_317', 'var_319', 'var_320', 'var_561', 'var_520', 'var_327', 'var_457', 'var_322', 'var_465', 'var_446', 'var_45', 'var_326', 'var_563', 'var_2', 'var_48', 'var_161', 'var_51', 'var_331', 'var_329', 'var_332', 'var_13', 'var_164', 'var_166', 'var_53', 'var_663', 'var_337', 'var_525', 'var_470', 'var_342', 'var_54', 'var_341', 'var_338', 'var_339', 'var_527', 'var_662', 'var_55', 'var_344', 'var_172', 'var_472', 'var_343', 'var_566', 'var_345', 'var_351', 'var_475', 'var_176', 'var_60', 'var_350', 'var_476', 'var_58', 'var_354', 'var_63', 'var_175', 'var_665', 'var_666', 'var_352', 'var_59', 'var_24', 'var_349', 'var_355', 'var_485', 'var_358', 'var_482', 'var_530', 'var_480', 'var_557', 'var_481', 'var_177', 'var_361', 'var_601', 'var_531', 'var_590', 'var_532', 'var_536', 'var_489', 'var_538', 'var_367', 'var_178', 'var_64', 'var_670', 'var_369', 'var_65', 'var_372', 'var_675', 'var_729', 'var_672', 'var_374', 'var_612', 'var_674', 'var_371', 'var_183', 'var_363', 'var_376', 'var_645', 'var_72', 'var_723', 'var_383', 'var_375', 'var_380', 'var_656', 'var_382', 'var_69', 'var_586', 'var_384', 'var_580', 'var_78', 'var_57', 'var_581', 'var_378', 'var_668', 'var_701', 'var_676', 'var_387', 'var_735', 'var_393', 'var_539', 'var_189', 'var_737', 'var_391', 'var_389', 'var_742', 'var_738', 'var_741', 'var_587', 'var_399', 'var_188', 'var_193', 'var_84', 'var_499', 'var_200', 'var_81', 'var_79', 'var_588', 'var_409', 'var_204', 'var_406', 'var_199', 'var_407', 'var_682', 'var_198', 'var_195', 'var_413', 'var_87', 'var_408', 'var_598', 'var_502', 'var_684', 'var_202', 'var_592', 'var_416', 'var_421', 'var_596', 'var_410', 'var_94', 'var_743', 'var_419', 'var_599', 'var_206', 'var_210', 'var_424', 'var_593', 'var_203', 'var_88', 'var_686', 'var_685', 'var_683', 'var_418', 'var_422', 'var_93', 'var_748', 'var_543', 'var_503', 'var_213', 'var_610', 'var_96', 'var_216', 'var_693', 'var_425', 'var_614', 'var_211', 'var_214', 'var_611', 'var_754', 'var_97', 'var_102', 'var_219', 'var_429', 'var_544', 'var_694', 'var_752', 'var_620', 'var_546', 'var_624', 'var_618', 'var_215', 'var_711', 'var_617', 'var_704', 'var_90', 'var_220', 'var_221', 'var_430', 'var_431', 'var_627', 'var_227', 'var_438', 'var_705', 'var_226', 'var_228', 'var_718', 'var_547', 'var_628', 'var_432', 'var_106', 'var_719', 'var_8', 'var_234', 'var_9', 'var_722', 'var_230', 'var_641', 'var_636', 'var_440', 'var_633', 'var_107', 'var_437', 'var_236', 'var_233', 'var_629', 'var_208', 'var_239', 'var_447', 'var_441']\n"
     ]
    }
   ],
   "source": [
    "target = 'cohort_default_ind12'\n",
    "date = 'cohort_date'\n",
    "customer_num = 'customer_num'\n",
    "varlist_withkeys = [customer_num,date,target] + varlist_2\n",
    "varlist_withtarget = [target] + varlist_2\n",
    "print(varlist_withtarget)"
   ]
  },
  {
   "cell_type": "code",
   "execution_count": 12,
   "metadata": {},
   "outputs": [
    {
     "name": "stdout",
     "output_type": "stream",
     "text": [
      "475383 338\n",
      "203376 338\n"
     ]
    }
   ],
   "source": [
    "df_train2 = df_train.select(varlist_withtarget)\n",
    "print(df_train2.count(),len(df_train2.columns))    \n",
    "df_train2.write.format('parquet').mode(\"overwrite\").save(ruta_bases_tratadas_sb + input_path_train + '_orgvars_all_after_multiv')\n",
    "        \n",
    "df_test2 = df_test.select(varlist_withtarget)\n",
    "print(df_test2.count(),len(df_test2.columns))\n",
    "df_test2.write.format('parquet').mode(\"overwrite\").save(ruta_bases_tratadas_sb + input_path_test + '_orgvars_all_after_multiv')\n"
   ]
  },
  {
   "cell_type": "markdown",
   "metadata": {},
   "source": [
    "> Import the \"reduced\" consolidated data stored in Sandbox"
   ]
  },
  {
   "cell_type": "code",
   "execution_count": 13,
   "metadata": {},
   "outputs": [
    {
     "name": "stdout",
     "output_type": "stream",
     "text": [
      "475383 338\n",
      "(475383, 338)\n",
      "203376 338\n",
      "(203376, 338)\n"
     ]
    }
   ],
   "source": [
    "input_path_train = '06_db_consolidated_train'\n",
    "input_path_test = '06_db_consolidated_test'\n",
    "input_path_train_reduced = input_path_train + '_orgvars_all_after_multiv'\n",
    "df_train_reduced = spark.read.parquet(ruta_bases_tratadas_sb + input_path_train_reduced)\n",
    "print(df_train_reduced.count(),len(df_train_reduced.columns))\n",
    "hdfs = HDFSConnector()\n",
    "hdfs.download(ruta_bases_tratadas_sb + input_path_train_reduced, ruta_bases_tratadas + input_path_train_reduced)\n",
    "df_train_panda2 = pd.read_parquet(ruta_bases_tratadas + input_path_train_reduced)\n",
    "print(df_train_panda2.shape)\n",
    "        \n",
    "input_path_test_reduced = input_path_test + '_orgvars_all_after_multiv'\n",
    "df_test_reduced = spark.read.parquet(ruta_bases_tratadas_sb + input_path_test_reduced)\n",
    "print(df_test_reduced.count(),len(df_test_reduced.columns))\n",
    "hdfs.download(ruta_bases_tratadas_sb + input_path_test_reduced, ruta_bases_tratadas + input_path_test_reduced)\n",
    "df_test_panda2 = pd.read_parquet(ruta_bases_tratadas + input_path_test_reduced)\n",
    "print(df_test_panda2.shape)\n"
   ]
  },
  {
   "cell_type": "code",
   "execution_count": 14,
   "metadata": {},
   "outputs": [
    {
     "data": {
      "text/plain": [
       "'/var/sds/homes/C805821/workspace/Comportamental_PN_TG/Reportes/'"
      ]
     },
     "execution_count": 14,
     "metadata": {},
     "output_type": "execute_result"
    }
   ],
   "source": [
    "ruta_bases_tratadas"
   ]
  },
  {
   "cell_type": "code",
   "execution_count": 15,
   "metadata": {},
   "outputs": [
    {
     "data": {
      "text/html": [
       "<div>\n",
       "<style scoped>\n",
       "    .dataframe tbody tr th:only-of-type {\n",
       "        vertical-align: middle;\n",
       "    }\n",
       "\n",
       "    .dataframe tbody tr th {\n",
       "        vertical-align: top;\n",
       "    }\n",
       "\n",
       "    .dataframe thead th {\n",
       "        text-align: right;\n",
       "    }\n",
       "</style>\n",
       "<table border=\"1\" class=\"dataframe\">\n",
       "  <thead>\n",
       "    <tr style=\"text-align: right;\">\n",
       "      <th></th>\n",
       "      <th>cohort_default_ind12</th>\n",
       "      <th>var_240</th>\n",
       "      <th>var_241</th>\n",
       "      <th>var_113</th>\n",
       "      <th>var_114</th>\n",
       "      <th>var_242</th>\n",
       "      <th>var_244</th>\n",
       "      <th>var_11</th>\n",
       "      <th>var_248</th>\n",
       "      <th>var_14</th>\n",
       "      <th>var_116</th>\n",
       "      <th>var_506</th>\n",
       "      <th>var_249</th>\n",
       "      <th>var_250</th>\n",
       "      <th>var_252</th>\n",
       "      <th>var_118</th>\n",
       "      <th>var_146</th>\n",
       "      <th>var_223</th>\n",
       "      <th>var_507</th>\n",
       "      <th>var_258</th>\n",
       "      <th>var_259</th>\n",
       "      <th>var_262</th>\n",
       "      <th>var_122</th>\n",
       "      <th>var_260</th>\n",
       "      <th>var_179</th>\n",
       "      <th>var_125</th>\n",
       "      <th>var_548</th>\n",
       "      <th>var_264</th>\n",
       "      <th>var_265</th>\n",
       "      <th>var_445</th>\n",
       "      <th>var_17</th>\n",
       "      <th>var_269</th>\n",
       "      <th>var_267</th>\n",
       "      <th>var_510</th>\n",
       "      <th>var_18</th>\n",
       "      <th>var_271</th>\n",
       "      <th>var_212</th>\n",
       "      <th>var_130</th>\n",
       "      <th>var_272</th>\n",
       "      <th>var_273</th>\n",
       "      <th>var_274</th>\n",
       "      <th>var_132</th>\n",
       "      <th>var_275</th>\n",
       "      <th>var_278</th>\n",
       "      <th>var_648</th>\n",
       "      <th>var_133</th>\n",
       "      <th>var_281</th>\n",
       "      <th>var_20</th>\n",
       "      <th>var_257</th>\n",
       "      <th>var_280</th>\n",
       "      <th>var_283</th>\n",
       "      <th>var_282</th>\n",
       "      <th>var_285</th>\n",
       "      <th>var_286</th>\n",
       "      <th>var_137</th>\n",
       "      <th>var_288</th>\n",
       "      <th>var_138</th>\n",
       "      <th>var_21</th>\n",
       "      <th>var_290</th>\n",
       "      <th>var_301</th>\n",
       "      <th>var_289</th>\n",
       "      <th>var_141</th>\n",
       "      <th>var_649</th>\n",
       "      <th>var_456</th>\n",
       "      <th>var_292</th>\n",
       "      <th>var_458</th>\n",
       "      <th>var_293</th>\n",
       "      <th>var_667</th>\n",
       "      <th>var_650</th>\n",
       "      <th>var_25</th>\n",
       "      <th>var_142</th>\n",
       "      <th>var_23</th>\n",
       "      <th>var_28</th>\n",
       "      <th>var_335</th>\n",
       "      <th>var_652</th>\n",
       "      <th>var_294</th>\n",
       "      <th>var_296</th>\n",
       "      <th>var_30</th>\n",
       "      <th>var_299</th>\n",
       "      <th>var_558</th>\n",
       "      <th>var_144</th>\n",
       "      <th>var_31</th>\n",
       "      <th>var_298</th>\n",
       "      <th>var_145</th>\n",
       "      <th>var_300</th>\n",
       "      <th>var_559</th>\n",
       "      <th>var_147</th>\n",
       "      <th>var_459</th>\n",
       "      <th>var_149</th>\n",
       "      <th>var_37</th>\n",
       "      <th>var_460</th>\n",
       "      <th>var_516</th>\n",
       "      <th>var_150</th>\n",
       "      <th>var_305</th>\n",
       "      <th>var_306</th>\n",
       "      <th>var_38</th>\n",
       "      <th>var_308</th>\n",
       "      <th>var_517</th>\n",
       "      <th>var_747</th>\n",
       "      <th>var_39</th>\n",
       "      <th>var_40</th>\n",
       "      <th>var_412</th>\n",
       "      <th>var_316</th>\n",
       "      <th>var_518</th>\n",
       "      <th>var_314</th>\n",
       "      <th>var_315</th>\n",
       "      <th>var_317</th>\n",
       "      <th>var_319</th>\n",
       "      <th>var_320</th>\n",
       "      <th>var_561</th>\n",
       "      <th>var_520</th>\n",
       "      <th>var_327</th>\n",
       "      <th>var_457</th>\n",
       "      <th>var_322</th>\n",
       "      <th>var_465</th>\n",
       "      <th>var_446</th>\n",
       "      <th>var_45</th>\n",
       "      <th>var_326</th>\n",
       "      <th>var_563</th>\n",
       "      <th>var_2</th>\n",
       "      <th>var_48</th>\n",
       "      <th>var_161</th>\n",
       "      <th>var_51</th>\n",
       "      <th>var_331</th>\n",
       "      <th>var_329</th>\n",
       "      <th>var_332</th>\n",
       "      <th>var_13</th>\n",
       "      <th>var_164</th>\n",
       "      <th>var_166</th>\n",
       "      <th>var_53</th>\n",
       "      <th>var_663</th>\n",
       "      <th>var_337</th>\n",
       "      <th>var_525</th>\n",
       "      <th>var_470</th>\n",
       "      <th>var_342</th>\n",
       "      <th>var_54</th>\n",
       "      <th>var_341</th>\n",
       "      <th>var_338</th>\n",
       "      <th>var_339</th>\n",
       "      <th>var_527</th>\n",
       "      <th>var_662</th>\n",
       "      <th>var_55</th>\n",
       "      <th>var_344</th>\n",
       "      <th>var_172</th>\n",
       "      <th>var_472</th>\n",
       "      <th>var_343</th>\n",
       "      <th>var_566</th>\n",
       "      <th>var_345</th>\n",
       "      <th>var_351</th>\n",
       "      <th>var_475</th>\n",
       "      <th>var_176</th>\n",
       "      <th>var_60</th>\n",
       "      <th>var_350</th>\n",
       "      <th>var_476</th>\n",
       "      <th>var_58</th>\n",
       "      <th>var_354</th>\n",
       "      <th>var_63</th>\n",
       "      <th>var_175</th>\n",
       "      <th>var_665</th>\n",
       "      <th>var_666</th>\n",
       "      <th>var_352</th>\n",
       "      <th>var_59</th>\n",
       "      <th>var_24</th>\n",
       "      <th>var_349</th>\n",
       "      <th>var_355</th>\n",
       "      <th>var_485</th>\n",
       "      <th>var_358</th>\n",
       "      <th>var_482</th>\n",
       "      <th>var_530</th>\n",
       "      <th>var_480</th>\n",
       "      <th>var_557</th>\n",
       "      <th>var_481</th>\n",
       "      <th>var_177</th>\n",
       "      <th>var_361</th>\n",
       "      <th>var_601</th>\n",
       "      <th>var_531</th>\n",
       "      <th>var_590</th>\n",
       "      <th>var_532</th>\n",
       "      <th>var_536</th>\n",
       "      <th>var_489</th>\n",
       "      <th>var_538</th>\n",
       "      <th>var_367</th>\n",
       "      <th>var_178</th>\n",
       "      <th>var_64</th>\n",
       "      <th>var_670</th>\n",
       "      <th>var_369</th>\n",
       "      <th>var_65</th>\n",
       "      <th>var_372</th>\n",
       "      <th>var_675</th>\n",
       "      <th>var_729</th>\n",
       "      <th>var_672</th>\n",
       "      <th>var_374</th>\n",
       "      <th>var_612</th>\n",
       "      <th>var_674</th>\n",
       "      <th>var_371</th>\n",
       "      <th>var_183</th>\n",
       "      <th>var_363</th>\n",
       "      <th>var_376</th>\n",
       "      <th>var_645</th>\n",
       "      <th>var_72</th>\n",
       "      <th>var_723</th>\n",
       "      <th>var_383</th>\n",
       "      <th>var_375</th>\n",
       "      <th>var_380</th>\n",
       "      <th>var_656</th>\n",
       "      <th>var_382</th>\n",
       "      <th>var_69</th>\n",
       "      <th>var_586</th>\n",
       "      <th>var_384</th>\n",
       "      <th>var_580</th>\n",
       "      <th>var_78</th>\n",
       "      <th>var_57</th>\n",
       "      <th>var_581</th>\n",
       "      <th>var_378</th>\n",
       "      <th>var_668</th>\n",
       "      <th>var_701</th>\n",
       "      <th>var_676</th>\n",
       "      <th>var_387</th>\n",
       "      <th>var_735</th>\n",
       "      <th>var_393</th>\n",
       "      <th>var_539</th>\n",
       "      <th>var_189</th>\n",
       "      <th>var_737</th>\n",
       "      <th>var_391</th>\n",
       "      <th>var_389</th>\n",
       "      <th>var_742</th>\n",
       "      <th>var_738</th>\n",
       "      <th>var_741</th>\n",
       "      <th>var_587</th>\n",
       "      <th>var_399</th>\n",
       "      <th>var_188</th>\n",
       "      <th>var_193</th>\n",
       "      <th>var_84</th>\n",
       "      <th>var_499</th>\n",
       "      <th>var_200</th>\n",
       "      <th>var_81</th>\n",
       "      <th>var_79</th>\n",
       "      <th>var_588</th>\n",
       "      <th>var_409</th>\n",
       "      <th>var_204</th>\n",
       "      <th>var_406</th>\n",
       "      <th>var_199</th>\n",
       "      <th>var_407</th>\n",
       "      <th>var_682</th>\n",
       "      <th>var_198</th>\n",
       "      <th>var_195</th>\n",
       "      <th>var_413</th>\n",
       "      <th>var_87</th>\n",
       "      <th>var_408</th>\n",
       "      <th>var_598</th>\n",
       "      <th>var_502</th>\n",
       "      <th>var_684</th>\n",
       "      <th>var_202</th>\n",
       "      <th>var_592</th>\n",
       "      <th>var_416</th>\n",
       "      <th>var_421</th>\n",
       "      <th>var_596</th>\n",
       "      <th>var_410</th>\n",
       "      <th>var_94</th>\n",
       "      <th>var_743</th>\n",
       "      <th>var_419</th>\n",
       "      <th>var_599</th>\n",
       "      <th>var_206</th>\n",
       "      <th>var_210</th>\n",
       "      <th>var_424</th>\n",
       "      <th>var_593</th>\n",
       "      <th>var_203</th>\n",
       "      <th>var_88</th>\n",
       "      <th>var_686</th>\n",
       "      <th>var_685</th>\n",
       "      <th>var_683</th>\n",
       "      <th>var_418</th>\n",
       "      <th>var_422</th>\n",
       "      <th>var_93</th>\n",
       "      <th>var_748</th>\n",
       "      <th>var_543</th>\n",
       "      <th>var_503</th>\n",
       "      <th>var_213</th>\n",
       "      <th>var_610</th>\n",
       "      <th>var_96</th>\n",
       "      <th>var_216</th>\n",
       "      <th>var_693</th>\n",
       "      <th>var_425</th>\n",
       "      <th>var_614</th>\n",
       "      <th>var_211</th>\n",
       "      <th>var_214</th>\n",
       "      <th>var_611</th>\n",
       "      <th>var_754</th>\n",
       "      <th>var_97</th>\n",
       "      <th>var_102</th>\n",
       "      <th>var_219</th>\n",
       "      <th>var_429</th>\n",
       "      <th>var_544</th>\n",
       "      <th>var_694</th>\n",
       "      <th>var_752</th>\n",
       "      <th>var_620</th>\n",
       "      <th>var_546</th>\n",
       "      <th>var_624</th>\n",
       "      <th>var_618</th>\n",
       "      <th>var_215</th>\n",
       "      <th>var_711</th>\n",
       "      <th>var_617</th>\n",
       "      <th>var_704</th>\n",
       "      <th>var_90</th>\n",
       "      <th>var_220</th>\n",
       "      <th>var_221</th>\n",
       "      <th>var_430</th>\n",
       "      <th>var_431</th>\n",
       "      <th>var_627</th>\n",
       "      <th>var_227</th>\n",
       "      <th>var_438</th>\n",
       "      <th>var_705</th>\n",
       "      <th>var_226</th>\n",
       "      <th>var_228</th>\n",
       "      <th>var_718</th>\n",
       "      <th>var_547</th>\n",
       "      <th>var_628</th>\n",
       "      <th>var_432</th>\n",
       "      <th>var_106</th>\n",
       "      <th>var_719</th>\n",
       "      <th>var_8</th>\n",
       "      <th>var_234</th>\n",
       "      <th>var_9</th>\n",
       "      <th>var_722</th>\n",
       "      <th>var_230</th>\n",
       "      <th>var_641</th>\n",
       "      <th>var_636</th>\n",
       "      <th>var_440</th>\n",
       "      <th>var_633</th>\n",
       "      <th>var_107</th>\n",
       "      <th>var_437</th>\n",
       "      <th>var_236</th>\n",
       "      <th>var_233</th>\n",
       "      <th>var_629</th>\n",
       "      <th>var_208</th>\n",
       "      <th>var_239</th>\n",
       "      <th>var_447</th>\n",
       "      <th>var_441</th>\n",
       "    </tr>\n",
       "  </thead>\n",
       "  <tbody>\n",
       "    <tr>\n",
       "      <th>0</th>\n",
       "      <td>0</td>\n",
       "      <td>0.772735</td>\n",
       "      <td>-0.467019</td>\n",
       "      <td>0.319647</td>\n",
       "      <td>0.692237</td>\n",
       "      <td>-0.264729</td>\n",
       "      <td>0.496441</td>\n",
       "      <td>0.588575</td>\n",
       "      <td>-0.681370</td>\n",
       "      <td>0.388277</td>\n",
       "      <td>-0.112116</td>\n",
       "      <td>0.645818</td>\n",
       "      <td>-0.992588</td>\n",
       "      <td>0.292395</td>\n",
       "      <td>-0.050171</td>\n",
       "      <td>0.401726</td>\n",
       "      <td>0.288197</td>\n",
       "      <td>0.635835</td>\n",
       "      <td>-0.214275</td>\n",
       "      <td>0.368241</td>\n",
       "      <td>0.776549</td>\n",
       "      <td>0.481077</td>\n",
       "      <td>0.310947</td>\n",
       "      <td>0.389921</td>\n",
       "      <td>-0.002609</td>\n",
       "      <td>0.488545</td>\n",
       "      <td>0.722084</td>\n",
       "      <td>0.349757</td>\n",
       "      <td>0.343739</td>\n",
       "      <td>0.147174</td>\n",
       "      <td>0.525983</td>\n",
       "      <td>0.635621</td>\n",
       "      <td>0.547062</td>\n",
       "      <td>0.8218</td>\n",
       "      <td>0.690025</td>\n",
       "      <td>0.618804</td>\n",
       "      <td>-0.042258</td>\n",
       "      <td>0.26682</td>\n",
       "      <td>0.422005</td>\n",
       "      <td>0.608210</td>\n",
       "      <td>0.143843</td>\n",
       "      <td>0.067780</td>\n",
       "      <td>0.255053</td>\n",
       "      <td>0.642463</td>\n",
       "      <td>0.425431</td>\n",
       "      <td>0.145511</td>\n",
       "      <td>0.842951</td>\n",
       "      <td>0.620518</td>\n",
       "      <td>-0.414664</td>\n",
       "      <td>0.117699</td>\n",
       "      <td>0.772909</td>\n",
       "      <td>0.241259</td>\n",
       "      <td>0.160834</td>\n",
       "      <td>0.556127</td>\n",
       "      <td>0.18572</td>\n",
       "      <td>0.16104</td>\n",
       "      <td>0.247487</td>\n",
       "      <td>0.626100</td>\n",
       "      <td>-0.047464</td>\n",
       "      <td>-0.480957</td>\n",
       "      <td>0.707491</td>\n",
       "      <td>0.293905</td>\n",
       "      <td>-0.400908</td>\n",
       "      <td>0.300495</td>\n",
       "      <td>-0.169661</td>\n",
       "      <td>0.373009</td>\n",
       "      <td>0.189838</td>\n",
       "      <td>0.388889</td>\n",
       "      <td>-0.355257</td>\n",
       "      <td>0.506361</td>\n",
       "      <td>0.156906</td>\n",
       "      <td>0.312828</td>\n",
       "      <td>-0.325788</td>\n",
       "      <td>0.378012</td>\n",
       "      <td>0.564033</td>\n",
       "      <td>0.21079</td>\n",
       "      <td>0.970557</td>\n",
       "      <td>0.275527</td>\n",
       "      <td>0.832939</td>\n",
       "      <td>0.140466</td>\n",
       "      <td>-1.037215</td>\n",
       "      <td>-0.213333</td>\n",
       "      <td>-0.17302</td>\n",
       "      <td>0.196168</td>\n",
       "      <td>-0.693724</td>\n",
       "      <td>-0.297491</td>\n",
       "      <td>0.319651</td>\n",
       "      <td>0.132293</td>\n",
       "      <td>0.162659</td>\n",
       "      <td>0.514775</td>\n",
       "      <td>0.188652</td>\n",
       "      <td>0.172076</td>\n",
       "      <td>0.1848</td>\n",
       "      <td>0.564169</td>\n",
       "      <td>0.179431</td>\n",
       "      <td>-0.125690</td>\n",
       "      <td>0.093778</td>\n",
       "      <td>0.038780</td>\n",
       "      <td>0.303570</td>\n",
       "      <td>-0.281490</td>\n",
       "      <td>0.753654</td>\n",
       "      <td>0.674165</td>\n",
       "      <td>-0.687976</td>\n",
       "      <td>0.202705</td>\n",
       "      <td>0.373452</td>\n",
       "      <td>0.292177</td>\n",
       "      <td>0.124293</td>\n",
       "      <td>0.758098</td>\n",
       "      <td>0.157911</td>\n",
       "      <td>-0.111869</td>\n",
       "      <td>0.102571</td>\n",
       "      <td>0.046897</td>\n",
       "      <td>-0.338766</td>\n",
       "      <td>0.808837</td>\n",
       "      <td>-0.178204</td>\n",
       "      <td>0.290907</td>\n",
       "      <td>0.241720</td>\n",
       "      <td>0.225611</td>\n",
       "      <td>-0.156482</td>\n",
       "      <td>0.124835</td>\n",
       "      <td>0.512671</td>\n",
       "      <td>0.590017</td>\n",
       "      <td>-0.255408</td>\n",
       "      <td>0.136161</td>\n",
       "      <td>0.134072</td>\n",
       "      <td>0.175793</td>\n",
       "      <td>-0.344184</td>\n",
       "      <td>0.438446</td>\n",
       "      <td>0.093507</td>\n",
       "      <td>0.180892</td>\n",
       "      <td>0.156891</td>\n",
       "      <td>-0.646483</td>\n",
       "      <td>0.128521</td>\n",
       "      <td>0.092612</td>\n",
       "      <td>-0.619077</td>\n",
       "      <td>-0.213333</td>\n",
       "      <td>-0.283257</td>\n",
       "      <td>0.514662</td>\n",
       "      <td>0.12283</td>\n",
       "      <td>0.090013</td>\n",
       "      <td>-0.165178</td>\n",
       "      <td>0.084699</td>\n",
       "      <td>0.274218</td>\n",
       "      <td>0.287687</td>\n",
       "      <td>-0.026393</td>\n",
       "      <td>0.041390</td>\n",
       "      <td>-0.120804</td>\n",
       "      <td>-0.194875</td>\n",
       "      <td>-0.324701</td>\n",
       "      <td>0.099424</td>\n",
       "      <td>0.08781</td>\n",
       "      <td>-0.138865</td>\n",
       "      <td>-0.253279</td>\n",
       "      <td>0.075248</td>\n",
       "      <td>0.267322</td>\n",
       "      <td>0.617472</td>\n",
       "      <td>0.090932</td>\n",
       "      <td>0.087307</td>\n",
       "      <td>0.196529</td>\n",
       "      <td>0.148557</td>\n",
       "      <td>0.365851</td>\n",
       "      <td>0.018289</td>\n",
       "      <td>0.095992</td>\n",
       "      <td>-0.094701</td>\n",
       "      <td>0.049811</td>\n",
       "      <td>0.109184</td>\n",
       "      <td>-0.115068</td>\n",
       "      <td>0.105052</td>\n",
       "      <td>0.066025</td>\n",
       "      <td>0.074989</td>\n",
       "      <td>0.279975</td>\n",
       "      <td>-0.446916</td>\n",
       "      <td>0.076759</td>\n",
       "      <td>0.523487</td>\n",
       "      <td>0.246557</td>\n",
       "      <td>0.058420</td>\n",
       "      <td>0.010287</td>\n",
       "      <td>0.077513</td>\n",
       "      <td>0.067282</td>\n",
       "      <td>0.084641</td>\n",
       "      <td>0.079236</td>\n",
       "      <td>-0.207152</td>\n",
       "      <td>-0.051397</td>\n",
       "      <td>-0.071234</td>\n",
       "      <td>-0.148043</td>\n",
       "      <td>-0.363850</td>\n",
       "      <td>-0.049584</td>\n",
       "      <td>-0.099655</td>\n",
       "      <td>0.108862</td>\n",
       "      <td>0.283321</td>\n",
       "      <td>-0.060721</td>\n",
       "      <td>0.403292</td>\n",
       "      <td>0.298462</td>\n",
       "      <td>-0.219343</td>\n",
       "      <td>0.384568</td>\n",
       "      <td>0.343086</td>\n",
       "      <td>-0.097041</td>\n",
       "      <td>0.090877</td>\n",
       "      <td>-0.117409</td>\n",
       "      <td>0.152980</td>\n",
       "      <td>0.096203</td>\n",
       "      <td>0.550501</td>\n",
       "      <td>0.513163</td>\n",
       "      <td>0.041425</td>\n",
       "      <td>0.071812</td>\n",
       "      <td>-0.093722</td>\n",
       "      <td>-0.142950</td>\n",
       "      <td>0.109048</td>\n",
       "      <td>0.107039</td>\n",
       "      <td>-0.043029</td>\n",
       "      <td>-0.083270</td>\n",
       "      <td>0.19093</td>\n",
       "      <td>0.195113</td>\n",
       "      <td>0.098362</td>\n",
       "      <td>-0.286392</td>\n",
       "      <td>0.191765</td>\n",
       "      <td>-0.146314</td>\n",
       "      <td>-0.171386</td>\n",
       "      <td>0.286028</td>\n",
       "      <td>0.541930</td>\n",
       "      <td>0.088783</td>\n",
       "      <td>-0.068279</td>\n",
       "      <td>-0.065118</td>\n",
       "      <td>0.570075</td>\n",
       "      <td>0.005626</td>\n",
       "      <td>0.06295</td>\n",
       "      <td>0.593048</td>\n",
       "      <td>-0.225217</td>\n",
       "      <td>-0.111817</td>\n",
       "      <td>0.058158</td>\n",
       "      <td>0.185875</td>\n",
       "      <td>0.277549</td>\n",
       "      <td>0.069681</td>\n",
       "      <td>0.127884</td>\n",
       "      <td>-0.046628</td>\n",
       "      <td>0.384757</td>\n",
       "      <td>0.214112</td>\n",
       "      <td>0.149707</td>\n",
       "      <td>-0.505492</td>\n",
       "      <td>0.353139</td>\n",
       "      <td>0.092782</td>\n",
       "      <td>0.056576</td>\n",
       "      <td>-0.016592</td>\n",
       "      <td>-0.141903</td>\n",
       "      <td>-0.189726</td>\n",
       "      <td>-0.062197</td>\n",
       "      <td>-0.226308</td>\n",
       "      <td>-0.071026</td>\n",
       "      <td>0.057601</td>\n",
       "      <td>-0.092332</td>\n",
       "      <td>0.017903</td>\n",
       "      <td>-0.028059</td>\n",
       "      <td>0.182505</td>\n",
       "      <td>-0.029829</td>\n",
       "      <td>0.864941</td>\n",
       "      <td>-0.030397</td>\n",
       "      <td>0.175059</td>\n",
       "      <td>0.376889</td>\n",
       "      <td>0.147780</td>\n",
       "      <td>-0.120099</td>\n",
       "      <td>0.307183</td>\n",
       "      <td>0.076859</td>\n",
       "      <td>-0.063723</td>\n",
       "      <td>0.330814</td>\n",
       "      <td>0.294241</td>\n",
       "      <td>-0.252451</td>\n",
       "      <td>0.063198</td>\n",
       "      <td>-0.171532</td>\n",
       "      <td>-0.069101</td>\n",
       "      <td>-0.070994</td>\n",
       "      <td>-0.088608</td>\n",
       "      <td>-0.042489</td>\n",
       "      <td>-0.456356</td>\n",
       "      <td>-0.026928</td>\n",
       "      <td>-0.089203</td>\n",
       "      <td>0.018312</td>\n",
       "      <td>0.062258</td>\n",
       "      <td>0.229338</td>\n",
       "      <td>0.024112</td>\n",
       "      <td>-0.054511</td>\n",
       "      <td>0.282628</td>\n",
       "      <td>-0.089050</td>\n",
       "      <td>-0.044936</td>\n",
       "      <td>0.065724</td>\n",
       "      <td>0.133628</td>\n",
       "      <td>-0.027515</td>\n",
       "      <td>-0.129547</td>\n",
       "      <td>0.236739</td>\n",
       "      <td>0.171877</td>\n",
       "      <td>0.188065</td>\n",
       "      <td>0.257790</td>\n",
       "      <td>-0.076848</td>\n",
       "      <td>-0.099350</td>\n",
       "      <td>-0.120894</td>\n",
       "      <td>-0.094485</td>\n",
       "      <td>0.055583</td>\n",
       "      <td>0.313784</td>\n",
       "      <td>0.089977</td>\n",
       "      <td>0.059362</td>\n",
       "      <td>-0.093230</td>\n",
       "      <td>0.035204</td>\n",
       "      <td>-0.070804</td>\n",
       "      <td>-0.081982</td>\n",
       "      <td>-0.051273</td>\n",
       "      <td>0.136883</td>\n",
       "      <td>-0.05867</td>\n",
       "      <td>-0.035063</td>\n",
       "      <td>0.072602</td>\n",
       "      <td>0.099914</td>\n",
       "      <td>-0.088356</td>\n",
       "      <td>-0.207085</td>\n",
       "      <td>0.182046</td>\n",
       "      <td>0.080119</td>\n",
       "      <td>-0.081703</td>\n",
       "      <td>0.05237</td>\n",
       "      <td>-0.067371</td>\n",
       "      <td>0.051278</td>\n",
       "      <td>-0.338813</td>\n",
       "      <td>-0.067423</td>\n",
       "      <td>-0.025801</td>\n",
       "      <td>0.282706</td>\n",
       "      <td>-0.060671</td>\n",
       "      <td>0.113430</td>\n",
       "      <td>0.048567</td>\n",
       "      <td>0.020903</td>\n",
       "      <td>0.067164</td>\n",
       "      <td>-0.023037</td>\n",
       "      <td>0.421409</td>\n",
       "      <td>-0.035815</td>\n",
       "      <td>-0.033567</td>\n",
       "      <td>-0.034379</td>\n",
       "      <td>-0.065472</td>\n",
       "      <td>-0.033496</td>\n",
       "      <td>0.049130</td>\n",
       "      <td>-0.069720</td>\n",
       "      <td>-0.040149</td>\n",
       "      <td>-0.029991</td>\n",
       "      <td>0.218008</td>\n",
       "    </tr>\n",
       "    <tr>\n",
       "      <th>1</th>\n",
       "      <td>0</td>\n",
       "      <td>0.644525</td>\n",
       "      <td>0.384912</td>\n",
       "      <td>0.935463</td>\n",
       "      <td>0.692237</td>\n",
       "      <td>0.773306</td>\n",
       "      <td>0.760583</td>\n",
       "      <td>0.381580</td>\n",
       "      <td>-0.552065</td>\n",
       "      <td>0.778229</td>\n",
       "      <td>0.546356</td>\n",
       "      <td>0.645818</td>\n",
       "      <td>0.754737</td>\n",
       "      <td>-1.487932</td>\n",
       "      <td>0.770376</td>\n",
       "      <td>0.735356</td>\n",
       "      <td>0.711621</td>\n",
       "      <td>0.844249</td>\n",
       "      <td>0.654183</td>\n",
       "      <td>0.657945</td>\n",
       "      <td>0.776549</td>\n",
       "      <td>0.042246</td>\n",
       "      <td>0.774964</td>\n",
       "      <td>0.661977</td>\n",
       "      <td>0.849619</td>\n",
       "      <td>0.488545</td>\n",
       "      <td>0.722084</td>\n",
       "      <td>0.672371</td>\n",
       "      <td>0.135355</td>\n",
       "      <td>0.568899</td>\n",
       "      <td>0.598837</td>\n",
       "      <td>0.635621</td>\n",
       "      <td>0.696424</td>\n",
       "      <td>0.8218</td>\n",
       "      <td>0.690025</td>\n",
       "      <td>0.797424</td>\n",
       "      <td>0.507266</td>\n",
       "      <td>0.26682</td>\n",
       "      <td>0.558652</td>\n",
       "      <td>0.608210</td>\n",
       "      <td>-0.848196</td>\n",
       "      <td>0.142922</td>\n",
       "      <td>0.255053</td>\n",
       "      <td>0.642463</td>\n",
       "      <td>0.425431</td>\n",
       "      <td>0.374151</td>\n",
       "      <td>0.842951</td>\n",
       "      <td>0.620518</td>\n",
       "      <td>0.059713</td>\n",
       "      <td>0.516057</td>\n",
       "      <td>0.287772</td>\n",
       "      <td>0.241259</td>\n",
       "      <td>-1.056088</td>\n",
       "      <td>0.223648</td>\n",
       "      <td>0.18572</td>\n",
       "      <td>0.16104</td>\n",
       "      <td>0.247487</td>\n",
       "      <td>0.222858</td>\n",
       "      <td>0.382779</td>\n",
       "      <td>0.233175</td>\n",
       "      <td>0.343908</td>\n",
       "      <td>0.293905</td>\n",
       "      <td>0.637914</td>\n",
       "      <td>0.300495</td>\n",
       "      <td>0.552888</td>\n",
       "      <td>0.373009</td>\n",
       "      <td>0.589761</td>\n",
       "      <td>0.106816</td>\n",
       "      <td>0.685778</td>\n",
       "      <td>0.132843</td>\n",
       "      <td>0.156906</td>\n",
       "      <td>0.312828</td>\n",
       "      <td>0.461087</td>\n",
       "      <td>0.378012</td>\n",
       "      <td>0.564033</td>\n",
       "      <td>0.21079</td>\n",
       "      <td>0.021525</td>\n",
       "      <td>0.512953</td>\n",
       "      <td>-0.166408</td>\n",
       "      <td>0.872138</td>\n",
       "      <td>0.191192</td>\n",
       "      <td>0.486623</td>\n",
       "      <td>-0.17302</td>\n",
       "      <td>0.196168</td>\n",
       "      <td>0.270590</td>\n",
       "      <td>0.481775</td>\n",
       "      <td>-0.085762</td>\n",
       "      <td>0.227399</td>\n",
       "      <td>0.162659</td>\n",
       "      <td>0.105527</td>\n",
       "      <td>0.285867</td>\n",
       "      <td>0.307841</td>\n",
       "      <td>0.1848</td>\n",
       "      <td>0.564169</td>\n",
       "      <td>0.005332</td>\n",
       "      <td>0.425451</td>\n",
       "      <td>0.093778</td>\n",
       "      <td>0.679202</td>\n",
       "      <td>0.303570</td>\n",
       "      <td>0.240756</td>\n",
       "      <td>0.753654</td>\n",
       "      <td>-0.312166</td>\n",
       "      <td>0.051346</td>\n",
       "      <td>0.202705</td>\n",
       "      <td>0.373452</td>\n",
       "      <td>-1.037467</td>\n",
       "      <td>0.547705</td>\n",
       "      <td>0.758098</td>\n",
       "      <td>0.157911</td>\n",
       "      <td>-0.111869</td>\n",
       "      <td>0.102571</td>\n",
       "      <td>-0.101237</td>\n",
       "      <td>-0.338766</td>\n",
       "      <td>0.808837</td>\n",
       "      <td>0.156964</td>\n",
       "      <td>0.290907</td>\n",
       "      <td>0.540772</td>\n",
       "      <td>0.225611</td>\n",
       "      <td>-0.156482</td>\n",
       "      <td>0.239766</td>\n",
       "      <td>0.853429</td>\n",
       "      <td>0.590017</td>\n",
       "      <td>-0.255408</td>\n",
       "      <td>0.485462</td>\n",
       "      <td>0.134072</td>\n",
       "      <td>-0.007600</td>\n",
       "      <td>0.161480</td>\n",
       "      <td>-0.069083</td>\n",
       "      <td>0.093507</td>\n",
       "      <td>0.180892</td>\n",
       "      <td>0.156891</td>\n",
       "      <td>0.307803</td>\n",
       "      <td>0.128521</td>\n",
       "      <td>-0.024042</td>\n",
       "      <td>0.105142</td>\n",
       "      <td>0.093154</td>\n",
       "      <td>0.313570</td>\n",
       "      <td>-0.018857</td>\n",
       "      <td>0.12283</td>\n",
       "      <td>0.090013</td>\n",
       "      <td>0.503172</td>\n",
       "      <td>0.164745</td>\n",
       "      <td>0.274218</td>\n",
       "      <td>-0.078462</td>\n",
       "      <td>-0.026393</td>\n",
       "      <td>0.091127</td>\n",
       "      <td>0.580351</td>\n",
       "      <td>0.612089</td>\n",
       "      <td>0.264710</td>\n",
       "      <td>0.099424</td>\n",
       "      <td>0.08781</td>\n",
       "      <td>0.316431</td>\n",
       "      <td>0.190432</td>\n",
       "      <td>0.075248</td>\n",
       "      <td>0.267322</td>\n",
       "      <td>0.010402</td>\n",
       "      <td>0.090932</td>\n",
       "      <td>0.087307</td>\n",
       "      <td>0.196529</td>\n",
       "      <td>0.148557</td>\n",
       "      <td>0.365851</td>\n",
       "      <td>0.195440</td>\n",
       "      <td>0.095992</td>\n",
       "      <td>0.597291</td>\n",
       "      <td>0.049811</td>\n",
       "      <td>0.109184</td>\n",
       "      <td>0.290581</td>\n",
       "      <td>0.304299</td>\n",
       "      <td>0.331444</td>\n",
       "      <td>0.074989</td>\n",
       "      <td>0.279975</td>\n",
       "      <td>0.092329</td>\n",
       "      <td>0.076759</td>\n",
       "      <td>0.003226</td>\n",
       "      <td>0.246557</td>\n",
       "      <td>0.202282</td>\n",
       "      <td>0.010287</td>\n",
       "      <td>0.077513</td>\n",
       "      <td>0.321800</td>\n",
       "      <td>0.084641</td>\n",
       "      <td>0.278125</td>\n",
       "      <td>0.243847</td>\n",
       "      <td>-0.051397</td>\n",
       "      <td>0.682347</td>\n",
       "      <td>0.568058</td>\n",
       "      <td>0.016681</td>\n",
       "      <td>0.098961</td>\n",
       "      <td>-0.099655</td>\n",
       "      <td>0.108862</td>\n",
       "      <td>0.283321</td>\n",
       "      <td>0.779935</td>\n",
       "      <td>-0.142240</td>\n",
       "      <td>0.095299</td>\n",
       "      <td>0.315092</td>\n",
       "      <td>-0.071296</td>\n",
       "      <td>-0.039382</td>\n",
       "      <td>0.283409</td>\n",
       "      <td>0.090877</td>\n",
       "      <td>0.502280</td>\n",
       "      <td>0.152980</td>\n",
       "      <td>0.096203</td>\n",
       "      <td>0.291836</td>\n",
       "      <td>-0.088915</td>\n",
       "      <td>0.362563</td>\n",
       "      <td>0.236017</td>\n",
       "      <td>-0.093722</td>\n",
       "      <td>0.298939</td>\n",
       "      <td>0.109048</td>\n",
       "      <td>0.107039</td>\n",
       "      <td>-0.043029</td>\n",
       "      <td>0.686265</td>\n",
       "      <td>0.29776</td>\n",
       "      <td>0.195113</td>\n",
       "      <td>-0.041014</td>\n",
       "      <td>0.346121</td>\n",
       "      <td>0.299150</td>\n",
       "      <td>0.621776</td>\n",
       "      <td>-0.557201</td>\n",
       "      <td>0.286028</td>\n",
       "      <td>0.251967</td>\n",
       "      <td>0.235751</td>\n",
       "      <td>-0.068279</td>\n",
       "      <td>-0.065118</td>\n",
       "      <td>-0.081591</td>\n",
       "      <td>0.471338</td>\n",
       "      <td>0.06295</td>\n",
       "      <td>-0.092407</td>\n",
       "      <td>0.201615</td>\n",
       "      <td>-0.111817</td>\n",
       "      <td>0.058158</td>\n",
       "      <td>0.185875</td>\n",
       "      <td>0.277549</td>\n",
       "      <td>0.069681</td>\n",
       "      <td>0.127884</td>\n",
       "      <td>-0.417072</td>\n",
       "      <td>-0.079937</td>\n",
       "      <td>0.214112</td>\n",
       "      <td>0.149707</td>\n",
       "      <td>0.024677</td>\n",
       "      <td>-0.090405</td>\n",
       "      <td>0.092782</td>\n",
       "      <td>0.056576</td>\n",
       "      <td>0.661105</td>\n",
       "      <td>0.274962</td>\n",
       "      <td>0.257166</td>\n",
       "      <td>-0.062197</td>\n",
       "      <td>0.152557</td>\n",
       "      <td>0.655806</td>\n",
       "      <td>0.142469</td>\n",
       "      <td>-0.239915</td>\n",
       "      <td>0.017903</td>\n",
       "      <td>-0.028059</td>\n",
       "      <td>0.182505</td>\n",
       "      <td>-0.029829</td>\n",
       "      <td>0.864941</td>\n",
       "      <td>-0.030397</td>\n",
       "      <td>0.175059</td>\n",
       "      <td>0.023488</td>\n",
       "      <td>0.147780</td>\n",
       "      <td>-0.029989</td>\n",
       "      <td>0.307183</td>\n",
       "      <td>0.076859</td>\n",
       "      <td>-0.063723</td>\n",
       "      <td>-0.108541</td>\n",
       "      <td>-0.211771</td>\n",
       "      <td>0.186122</td>\n",
       "      <td>0.063198</td>\n",
       "      <td>0.117036</td>\n",
       "      <td>0.309905</td>\n",
       "      <td>0.237905</td>\n",
       "      <td>0.111542</td>\n",
       "      <td>-0.042489</td>\n",
       "      <td>0.115452</td>\n",
       "      <td>-0.026928</td>\n",
       "      <td>0.401893</td>\n",
       "      <td>0.187466</td>\n",
       "      <td>0.062258</td>\n",
       "      <td>-0.094855</td>\n",
       "      <td>0.092733</td>\n",
       "      <td>0.374216</td>\n",
       "      <td>-0.138410</td>\n",
       "      <td>0.499366</td>\n",
       "      <td>-0.044936</td>\n",
       "      <td>0.065724</td>\n",
       "      <td>0.320210</td>\n",
       "      <td>-0.027515</td>\n",
       "      <td>0.185429</td>\n",
       "      <td>0.348841</td>\n",
       "      <td>0.171877</td>\n",
       "      <td>0.188065</td>\n",
       "      <td>-0.080786</td>\n",
       "      <td>-0.076848</td>\n",
       "      <td>0.374839</td>\n",
       "      <td>0.221459</td>\n",
       "      <td>0.324197</td>\n",
       "      <td>0.055583</td>\n",
       "      <td>0.177395</td>\n",
       "      <td>0.089977</td>\n",
       "      <td>0.059362</td>\n",
       "      <td>0.253553</td>\n",
       "      <td>0.149623</td>\n",
       "      <td>-0.070804</td>\n",
       "      <td>0.236536</td>\n",
       "      <td>-0.051273</td>\n",
       "      <td>0.136883</td>\n",
       "      <td>-0.05867</td>\n",
       "      <td>-0.035063</td>\n",
       "      <td>0.072602</td>\n",
       "      <td>0.099914</td>\n",
       "      <td>0.346319</td>\n",
       "      <td>-0.207085</td>\n",
       "      <td>0.371969</td>\n",
       "      <td>0.080119</td>\n",
       "      <td>0.025453</td>\n",
       "      <td>0.05237</td>\n",
       "      <td>0.193423</td>\n",
       "      <td>0.051278</td>\n",
       "      <td>-0.020538</td>\n",
       "      <td>0.262384</td>\n",
       "      <td>0.134271</td>\n",
       "      <td>0.282706</td>\n",
       "      <td>-0.143633</td>\n",
       "      <td>-0.048465</td>\n",
       "      <td>0.048567</td>\n",
       "      <td>0.064341</td>\n",
       "      <td>0.067164</td>\n",
       "      <td>0.187007</td>\n",
       "      <td>0.421409</td>\n",
       "      <td>0.068501</td>\n",
       "      <td>-0.033567</td>\n",
       "      <td>-0.034379</td>\n",
       "      <td>0.059759</td>\n",
       "      <td>-0.075142</td>\n",
       "      <td>0.049130</td>\n",
       "      <td>-0.069720</td>\n",
       "      <td>0.502913</td>\n",
       "      <td>-0.029991</td>\n",
       "      <td>0.218008</td>\n",
       "    </tr>\n",
       "    <tr>\n",
       "      <th>2</th>\n",
       "      <td>0</td>\n",
       "      <td>0.772735</td>\n",
       "      <td>0.988999</td>\n",
       "      <td>0.748786</td>\n",
       "      <td>0.692237</td>\n",
       "      <td>0.773306</td>\n",
       "      <td>0.496441</td>\n",
       "      <td>0.730511</td>\n",
       "      <td>0.808588</td>\n",
       "      <td>0.778229</td>\n",
       "      <td>0.546356</td>\n",
       "      <td>0.247948</td>\n",
       "      <td>0.754737</td>\n",
       "      <td>0.292395</td>\n",
       "      <td>0.770376</td>\n",
       "      <td>0.735356</td>\n",
       "      <td>0.288197</td>\n",
       "      <td>0.440343</td>\n",
       "      <td>0.032069</td>\n",
       "      <td>0.368241</td>\n",
       "      <td>0.437021</td>\n",
       "      <td>-0.347318</td>\n",
       "      <td>0.463181</td>\n",
       "      <td>0.190442</td>\n",
       "      <td>0.606866</td>\n",
       "      <td>0.341153</td>\n",
       "      <td>-0.265994</td>\n",
       "      <td>0.349757</td>\n",
       "      <td>0.343739</td>\n",
       "      <td>0.035752</td>\n",
       "      <td>0.598837</td>\n",
       "      <td>0.352999</td>\n",
       "      <td>0.547062</td>\n",
       "      <td>0.8218</td>\n",
       "      <td>0.690025</td>\n",
       "      <td>0.527246</td>\n",
       "      <td>0.507266</td>\n",
       "      <td>0.26682</td>\n",
       "      <td>0.422005</td>\n",
       "      <td>-0.298712</td>\n",
       "      <td>0.271799</td>\n",
       "      <td>0.340704</td>\n",
       "      <td>0.255053</td>\n",
       "      <td>0.420926</td>\n",
       "      <td>0.356976</td>\n",
       "      <td>0.145511</td>\n",
       "      <td>0.278136</td>\n",
       "      <td>0.620518</td>\n",
       "      <td>0.377955</td>\n",
       "      <td>0.117699</td>\n",
       "      <td>0.772909</td>\n",
       "      <td>0.241259</td>\n",
       "      <td>0.160834</td>\n",
       "      <td>0.556127</td>\n",
       "      <td>0.18572</td>\n",
       "      <td>0.16104</td>\n",
       "      <td>0.247487</td>\n",
       "      <td>0.331036</td>\n",
       "      <td>0.519543</td>\n",
       "      <td>0.401642</td>\n",
       "      <td>0.040155</td>\n",
       "      <td>0.293905</td>\n",
       "      <td>-0.856804</td>\n",
       "      <td>0.300495</td>\n",
       "      <td>-0.310828</td>\n",
       "      <td>0.373009</td>\n",
       "      <td>-0.331705</td>\n",
       "      <td>0.388889</td>\n",
       "      <td>-0.296299</td>\n",
       "      <td>0.506361</td>\n",
       "      <td>0.156906</td>\n",
       "      <td>0.312828</td>\n",
       "      <td>-0.325788</td>\n",
       "      <td>0.378012</td>\n",
       "      <td>0.326702</td>\n",
       "      <td>0.21079</td>\n",
       "      <td>-0.270816</td>\n",
       "      <td>0.040585</td>\n",
       "      <td>0.832939</td>\n",
       "      <td>-0.325022</td>\n",
       "      <td>0.191192</td>\n",
       "      <td>-0.213333</td>\n",
       "      <td>-0.17302</td>\n",
       "      <td>0.196168</td>\n",
       "      <td>0.270590</td>\n",
       "      <td>-0.297491</td>\n",
       "      <td>0.319651</td>\n",
       "      <td>0.132293</td>\n",
       "      <td>0.162659</td>\n",
       "      <td>0.514775</td>\n",
       "      <td>-0.793629</td>\n",
       "      <td>-0.193702</td>\n",
       "      <td>0.1848</td>\n",
       "      <td>0.450952</td>\n",
       "      <td>0.179431</td>\n",
       "      <td>0.425451</td>\n",
       "      <td>0.093778</td>\n",
       "      <td>-0.087421</td>\n",
       "      <td>0.038497</td>\n",
       "      <td>-0.281490</td>\n",
       "      <td>0.254326</td>\n",
       "      <td>0.554167</td>\n",
       "      <td>0.366796</td>\n",
       "      <td>-0.331980</td>\n",
       "      <td>0.245137</td>\n",
       "      <td>0.292177</td>\n",
       "      <td>-0.337633</td>\n",
       "      <td>0.758098</td>\n",
       "      <td>0.157911</td>\n",
       "      <td>-0.336776</td>\n",
       "      <td>0.102571</td>\n",
       "      <td>0.542201</td>\n",
       "      <td>0.303132</td>\n",
       "      <td>-0.141654</td>\n",
       "      <td>0.156964</td>\n",
       "      <td>0.290907</td>\n",
       "      <td>0.241720</td>\n",
       "      <td>-0.352669</td>\n",
       "      <td>0.254631</td>\n",
       "      <td>-0.045582</td>\n",
       "      <td>-0.146257</td>\n",
       "      <td>0.590017</td>\n",
       "      <td>0.356035</td>\n",
       "      <td>0.653155</td>\n",
       "      <td>0.134072</td>\n",
       "      <td>0.175793</td>\n",
       "      <td>-0.325198</td>\n",
       "      <td>0.438446</td>\n",
       "      <td>0.093507</td>\n",
       "      <td>0.180892</td>\n",
       "      <td>0.156891</td>\n",
       "      <td>0.307803</td>\n",
       "      <td>0.128521</td>\n",
       "      <td>0.092612</td>\n",
       "      <td>0.105142</td>\n",
       "      <td>-0.213333</td>\n",
       "      <td>0.313570</td>\n",
       "      <td>0.514662</td>\n",
       "      <td>0.12283</td>\n",
       "      <td>0.090013</td>\n",
       "      <td>-0.165178</td>\n",
       "      <td>0.164745</td>\n",
       "      <td>-0.287265</td>\n",
       "      <td>0.287687</td>\n",
       "      <td>-0.026393</td>\n",
       "      <td>0.111698</td>\n",
       "      <td>-0.120804</td>\n",
       "      <td>0.341170</td>\n",
       "      <td>0.264710</td>\n",
       "      <td>0.099424</td>\n",
       "      <td>0.08781</td>\n",
       "      <td>0.732129</td>\n",
       "      <td>0.190432</td>\n",
       "      <td>0.075248</td>\n",
       "      <td>0.267322</td>\n",
       "      <td>-0.178039</td>\n",
       "      <td>0.090932</td>\n",
       "      <td>0.087307</td>\n",
       "      <td>-0.331934</td>\n",
       "      <td>0.148557</td>\n",
       "      <td>0.365851</td>\n",
       "      <td>0.018289</td>\n",
       "      <td>0.095992</td>\n",
       "      <td>-0.094701</td>\n",
       "      <td>0.049811</td>\n",
       "      <td>0.109184</td>\n",
       "      <td>0.290581</td>\n",
       "      <td>-0.415151</td>\n",
       "      <td>0.066025</td>\n",
       "      <td>0.074989</td>\n",
       "      <td>0.279975</td>\n",
       "      <td>0.092329</td>\n",
       "      <td>0.076759</td>\n",
       "      <td>-0.163304</td>\n",
       "      <td>-0.094832</td>\n",
       "      <td>0.058420</td>\n",
       "      <td>0.632566</td>\n",
       "      <td>0.077513</td>\n",
       "      <td>-0.369333</td>\n",
       "      <td>0.084641</td>\n",
       "      <td>0.189198</td>\n",
       "      <td>0.243847</td>\n",
       "      <td>0.436540</td>\n",
       "      <td>-0.071234</td>\n",
       "      <td>-0.148043</td>\n",
       "      <td>0.178988</td>\n",
       "      <td>0.459294</td>\n",
       "      <td>-0.099655</td>\n",
       "      <td>0.108862</td>\n",
       "      <td>-0.224173</td>\n",
       "      <td>-0.060721</td>\n",
       "      <td>-0.142240</td>\n",
       "      <td>-0.239482</td>\n",
       "      <td>-0.219343</td>\n",
       "      <td>0.384568</td>\n",
       "      <td>-0.191573</td>\n",
       "      <td>-0.097041</td>\n",
       "      <td>0.090877</td>\n",
       "      <td>-0.117409</td>\n",
       "      <td>-0.350868</td>\n",
       "      <td>0.096203</td>\n",
       "      <td>-0.100443</td>\n",
       "      <td>-0.138549</td>\n",
       "      <td>0.041425</td>\n",
       "      <td>0.236017</td>\n",
       "      <td>-0.117885</td>\n",
       "      <td>0.298939</td>\n",
       "      <td>0.109048</td>\n",
       "      <td>0.107039</td>\n",
       "      <td>-0.043029</td>\n",
       "      <td>0.686265</td>\n",
       "      <td>0.19093</td>\n",
       "      <td>-0.200783</td>\n",
       "      <td>0.098362</td>\n",
       "      <td>-0.286392</td>\n",
       "      <td>0.000447</td>\n",
       "      <td>-0.146314</td>\n",
       "      <td>-0.171386</td>\n",
       "      <td>0.286028</td>\n",
       "      <td>-0.106794</td>\n",
       "      <td>-0.038062</td>\n",
       "      <td>0.266117</td>\n",
       "      <td>-0.065118</td>\n",
       "      <td>0.570075</td>\n",
       "      <td>0.005626</td>\n",
       "      <td>0.06295</td>\n",
       "      <td>0.424884</td>\n",
       "      <td>0.201615</td>\n",
       "      <td>-0.111817</td>\n",
       "      <td>0.058158</td>\n",
       "      <td>-0.302140</td>\n",
       "      <td>0.277549</td>\n",
       "      <td>0.069681</td>\n",
       "      <td>0.055250</td>\n",
       "      <td>-0.046628</td>\n",
       "      <td>-0.079937</td>\n",
       "      <td>-0.184216</td>\n",
       "      <td>-0.174141</td>\n",
       "      <td>0.024677</td>\n",
       "      <td>-0.147054</td>\n",
       "      <td>0.092782</td>\n",
       "      <td>0.056576</td>\n",
       "      <td>-0.016592</td>\n",
       "      <td>-0.141903</td>\n",
       "      <td>-0.189726</td>\n",
       "      <td>0.549363</td>\n",
       "      <td>0.152557</td>\n",
       "      <td>-0.071026</td>\n",
       "      <td>0.057128</td>\n",
       "      <td>0.229455</td>\n",
       "      <td>0.017903</td>\n",
       "      <td>-0.028059</td>\n",
       "      <td>0.182505</td>\n",
       "      <td>0.387358</td>\n",
       "      <td>-0.042518</td>\n",
       "      <td>0.557681</td>\n",
       "      <td>-0.174380</td>\n",
       "      <td>-0.184463</td>\n",
       "      <td>-0.086299</td>\n",
       "      <td>0.422858</td>\n",
       "      <td>0.307183</td>\n",
       "      <td>-0.453255</td>\n",
       "      <td>0.393553</td>\n",
       "      <td>-0.114675</td>\n",
       "      <td>0.294241</td>\n",
       "      <td>-0.252451</td>\n",
       "      <td>0.063198</td>\n",
       "      <td>0.117036</td>\n",
       "      <td>-0.069101</td>\n",
       "      <td>-0.070994</td>\n",
       "      <td>-0.088608</td>\n",
       "      <td>-0.042489</td>\n",
       "      <td>-0.003528</td>\n",
       "      <td>-0.026928</td>\n",
       "      <td>-0.089203</td>\n",
       "      <td>0.018312</td>\n",
       "      <td>0.062258</td>\n",
       "      <td>0.229338</td>\n",
       "      <td>0.029523</td>\n",
       "      <td>0.374216</td>\n",
       "      <td>-0.062921</td>\n",
       "      <td>-0.089050</td>\n",
       "      <td>0.653947</td>\n",
       "      <td>-0.466866</td>\n",
       "      <td>0.031003</td>\n",
       "      <td>0.114360</td>\n",
       "      <td>-0.129547</td>\n",
       "      <td>-0.117301</td>\n",
       "      <td>-0.116073</td>\n",
       "      <td>-0.167489</td>\n",
       "      <td>-0.147379</td>\n",
       "      <td>0.234876</td>\n",
       "      <td>-0.099350</td>\n",
       "      <td>-0.120894</td>\n",
       "      <td>-0.094485</td>\n",
       "      <td>-0.513844</td>\n",
       "      <td>-0.100925</td>\n",
       "      <td>0.011055</td>\n",
       "      <td>0.059362</td>\n",
       "      <td>0.068287</td>\n",
       "      <td>0.035204</td>\n",
       "      <td>0.051199</td>\n",
       "      <td>-0.081982</td>\n",
       "      <td>0.393145</td>\n",
       "      <td>-0.196005</td>\n",
       "      <td>-0.05867</td>\n",
       "      <td>-0.035063</td>\n",
       "      <td>0.072602</td>\n",
       "      <td>-0.156174</td>\n",
       "      <td>-0.088356</td>\n",
       "      <td>0.057423</td>\n",
       "      <td>-0.019278</td>\n",
       "      <td>0.080119</td>\n",
       "      <td>-0.081703</td>\n",
       "      <td>0.05237</td>\n",
       "      <td>-0.067371</td>\n",
       "      <td>0.051278</td>\n",
       "      <td>-0.020538</td>\n",
       "      <td>0.262384</td>\n",
       "      <td>-0.025801</td>\n",
       "      <td>-0.081824</td>\n",
       "      <td>-0.060671</td>\n",
       "      <td>-0.075012</td>\n",
       "      <td>0.048567</td>\n",
       "      <td>0.020903</td>\n",
       "      <td>0.165317</td>\n",
       "      <td>-0.167486</td>\n",
       "      <td>-0.050785</td>\n",
       "      <td>-0.035815</td>\n",
       "      <td>-0.033567</td>\n",
       "      <td>-0.034379</td>\n",
       "      <td>-0.065472</td>\n",
       "      <td>0.222165</td>\n",
       "      <td>0.029523</td>\n",
       "      <td>0.206617</td>\n",
       "      <td>-0.040149</td>\n",
       "      <td>-0.029991</td>\n",
       "      <td>-0.091968</td>\n",
       "    </tr>\n",
       "  </tbody>\n",
       "</table>\n",
       "</div>"
      ],
      "text/plain": [
       "   cohort_default_ind12   var_240   var_241   var_113   var_114   var_242  \\\n",
       "0                     0  0.772735 -0.467019  0.319647  0.692237 -0.264729   \n",
       "1                     0  0.644525  0.384912  0.935463  0.692237  0.773306   \n",
       "2                     0  0.772735  0.988999  0.748786  0.692237  0.773306   \n",
       "\n",
       "    var_244    var_11   var_248    var_14   var_116   var_506   var_249  \\\n",
       "0  0.496441  0.588575 -0.681370  0.388277 -0.112116  0.645818 -0.992588   \n",
       "1  0.760583  0.381580 -0.552065  0.778229  0.546356  0.645818  0.754737   \n",
       "2  0.496441  0.730511  0.808588  0.778229  0.546356  0.247948  0.754737   \n",
       "\n",
       "    var_250   var_252   var_118   var_146   var_223   var_507   var_258  \\\n",
       "0  0.292395 -0.050171  0.401726  0.288197  0.635835 -0.214275  0.368241   \n",
       "1 -1.487932  0.770376  0.735356  0.711621  0.844249  0.654183  0.657945   \n",
       "2  0.292395  0.770376  0.735356  0.288197  0.440343  0.032069  0.368241   \n",
       "\n",
       "    var_259   var_262   var_122   var_260   var_179   var_125   var_548  \\\n",
       "0  0.776549  0.481077  0.310947  0.389921 -0.002609  0.488545  0.722084   \n",
       "1  0.776549  0.042246  0.774964  0.661977  0.849619  0.488545  0.722084   \n",
       "2  0.437021 -0.347318  0.463181  0.190442  0.606866  0.341153 -0.265994   \n",
       "\n",
       "    var_264   var_265   var_445    var_17   var_269   var_267  var_510  \\\n",
       "0  0.349757  0.343739  0.147174  0.525983  0.635621  0.547062   0.8218   \n",
       "1  0.672371  0.135355  0.568899  0.598837  0.635621  0.696424   0.8218   \n",
       "2  0.349757  0.343739  0.035752  0.598837  0.352999  0.547062   0.8218   \n",
       "\n",
       "     var_18   var_271   var_212  var_130   var_272   var_273   var_274  \\\n",
       "0  0.690025  0.618804 -0.042258  0.26682  0.422005  0.608210  0.143843   \n",
       "1  0.690025  0.797424  0.507266  0.26682  0.558652  0.608210 -0.848196   \n",
       "2  0.690025  0.527246  0.507266  0.26682  0.422005 -0.298712  0.271799   \n",
       "\n",
       "    var_132   var_275   var_278   var_648   var_133   var_281    var_20  \\\n",
       "0  0.067780  0.255053  0.642463  0.425431  0.145511  0.842951  0.620518   \n",
       "1  0.142922  0.255053  0.642463  0.425431  0.374151  0.842951  0.620518   \n",
       "2  0.340704  0.255053  0.420926  0.356976  0.145511  0.278136  0.620518   \n",
       "\n",
       "    var_257   var_280   var_283   var_282   var_285   var_286  var_137  \\\n",
       "0 -0.414664  0.117699  0.772909  0.241259  0.160834  0.556127  0.18572   \n",
       "1  0.059713  0.516057  0.287772  0.241259 -1.056088  0.223648  0.18572   \n",
       "2  0.377955  0.117699  0.772909  0.241259  0.160834  0.556127  0.18572   \n",
       "\n",
       "   var_288   var_138    var_21   var_290   var_301   var_289   var_141  \\\n",
       "0  0.16104  0.247487  0.626100 -0.047464 -0.480957  0.707491  0.293905   \n",
       "1  0.16104  0.247487  0.222858  0.382779  0.233175  0.343908  0.293905   \n",
       "2  0.16104  0.247487  0.331036  0.519543  0.401642  0.040155  0.293905   \n",
       "\n",
       "    var_649   var_456   var_292   var_458   var_293   var_667   var_650  \\\n",
       "0 -0.400908  0.300495 -0.169661  0.373009  0.189838  0.388889 -0.355257   \n",
       "1  0.637914  0.300495  0.552888  0.373009  0.589761  0.106816  0.685778   \n",
       "2 -0.856804  0.300495 -0.310828  0.373009 -0.331705  0.388889 -0.296299   \n",
       "\n",
       "     var_25   var_142    var_23    var_28   var_335   var_652  var_294  \\\n",
       "0  0.506361  0.156906  0.312828 -0.325788  0.378012  0.564033  0.21079   \n",
       "1  0.132843  0.156906  0.312828  0.461087  0.378012  0.564033  0.21079   \n",
       "2  0.506361  0.156906  0.312828 -0.325788  0.378012  0.326702  0.21079   \n",
       "\n",
       "    var_296    var_30   var_299   var_558   var_144    var_31  var_298  \\\n",
       "0  0.970557  0.275527  0.832939  0.140466 -1.037215 -0.213333 -0.17302   \n",
       "1  0.021525  0.512953 -0.166408  0.872138  0.191192  0.486623 -0.17302   \n",
       "2 -0.270816  0.040585  0.832939 -0.325022  0.191192 -0.213333 -0.17302   \n",
       "\n",
       "    var_145   var_300   var_559   var_147   var_459   var_149    var_37  \\\n",
       "0  0.196168 -0.693724 -0.297491  0.319651  0.132293  0.162659  0.514775   \n",
       "1  0.196168  0.270590  0.481775 -0.085762  0.227399  0.162659  0.105527   \n",
       "2  0.196168  0.270590 -0.297491  0.319651  0.132293  0.162659  0.514775   \n",
       "\n",
       "    var_460   var_516  var_150   var_305   var_306    var_38   var_308  \\\n",
       "0  0.188652  0.172076   0.1848  0.564169  0.179431 -0.125690  0.093778   \n",
       "1  0.285867  0.307841   0.1848  0.564169  0.005332  0.425451  0.093778   \n",
       "2 -0.793629 -0.193702   0.1848  0.450952  0.179431  0.425451  0.093778   \n",
       "\n",
       "    var_517   var_747    var_39    var_40   var_412   var_316   var_518  \\\n",
       "0  0.038780  0.303570 -0.281490  0.753654  0.674165 -0.687976  0.202705   \n",
       "1  0.679202  0.303570  0.240756  0.753654 -0.312166  0.051346  0.202705   \n",
       "2 -0.087421  0.038497 -0.281490  0.254326  0.554167  0.366796 -0.331980   \n",
       "\n",
       "    var_314   var_315   var_317   var_319   var_320   var_561   var_520  \\\n",
       "0  0.373452  0.292177  0.124293  0.758098  0.157911 -0.111869  0.102571   \n",
       "1  0.373452 -1.037467  0.547705  0.758098  0.157911 -0.111869  0.102571   \n",
       "2  0.245137  0.292177 -0.337633  0.758098  0.157911 -0.336776  0.102571   \n",
       "\n",
       "    var_327   var_457   var_322   var_465   var_446    var_45   var_326  \\\n",
       "0  0.046897 -0.338766  0.808837 -0.178204  0.290907  0.241720  0.225611   \n",
       "1 -0.101237 -0.338766  0.808837  0.156964  0.290907  0.540772  0.225611   \n",
       "2  0.542201  0.303132 -0.141654  0.156964  0.290907  0.241720 -0.352669   \n",
       "\n",
       "    var_563     var_2    var_48   var_161    var_51   var_331   var_329  \\\n",
       "0 -0.156482  0.124835  0.512671  0.590017 -0.255408  0.136161  0.134072   \n",
       "1 -0.156482  0.239766  0.853429  0.590017 -0.255408  0.485462  0.134072   \n",
       "2  0.254631 -0.045582 -0.146257  0.590017  0.356035  0.653155  0.134072   \n",
       "\n",
       "    var_332    var_13   var_164   var_166    var_53   var_663   var_337  \\\n",
       "0  0.175793 -0.344184  0.438446  0.093507  0.180892  0.156891 -0.646483   \n",
       "1 -0.007600  0.161480 -0.069083  0.093507  0.180892  0.156891  0.307803   \n",
       "2  0.175793 -0.325198  0.438446  0.093507  0.180892  0.156891  0.307803   \n",
       "\n",
       "    var_525   var_470   var_342    var_54   var_341   var_338  var_339  \\\n",
       "0  0.128521  0.092612 -0.619077 -0.213333 -0.283257  0.514662  0.12283   \n",
       "1  0.128521 -0.024042  0.105142  0.093154  0.313570 -0.018857  0.12283   \n",
       "2  0.128521  0.092612  0.105142 -0.213333  0.313570  0.514662  0.12283   \n",
       "\n",
       "    var_527   var_662    var_55   var_344   var_172   var_472   var_343  \\\n",
       "0  0.090013 -0.165178  0.084699  0.274218  0.287687 -0.026393  0.041390   \n",
       "1  0.090013  0.503172  0.164745  0.274218 -0.078462 -0.026393  0.091127   \n",
       "2  0.090013 -0.165178  0.164745 -0.287265  0.287687 -0.026393  0.111698   \n",
       "\n",
       "    var_566   var_345   var_351   var_475  var_176    var_60   var_350  \\\n",
       "0 -0.120804 -0.194875 -0.324701  0.099424  0.08781 -0.138865 -0.253279   \n",
       "1  0.580351  0.612089  0.264710  0.099424  0.08781  0.316431  0.190432   \n",
       "2 -0.120804  0.341170  0.264710  0.099424  0.08781  0.732129  0.190432   \n",
       "\n",
       "    var_476    var_58   var_354    var_63   var_175   var_665   var_666  \\\n",
       "0  0.075248  0.267322  0.617472  0.090932  0.087307  0.196529  0.148557   \n",
       "1  0.075248  0.267322  0.010402  0.090932  0.087307  0.196529  0.148557   \n",
       "2  0.075248  0.267322 -0.178039  0.090932  0.087307 -0.331934  0.148557   \n",
       "\n",
       "    var_352    var_59    var_24   var_349   var_355   var_485   var_358  \\\n",
       "0  0.365851  0.018289  0.095992 -0.094701  0.049811  0.109184 -0.115068   \n",
       "1  0.365851  0.195440  0.095992  0.597291  0.049811  0.109184  0.290581   \n",
       "2  0.365851  0.018289  0.095992 -0.094701  0.049811  0.109184  0.290581   \n",
       "\n",
       "    var_482   var_530   var_480   var_557   var_481   var_177   var_361  \\\n",
       "0  0.105052  0.066025  0.074989  0.279975 -0.446916  0.076759  0.523487   \n",
       "1  0.304299  0.331444  0.074989  0.279975  0.092329  0.076759  0.003226   \n",
       "2 -0.415151  0.066025  0.074989  0.279975  0.092329  0.076759 -0.163304   \n",
       "\n",
       "    var_601   var_531   var_590   var_532   var_536   var_489   var_538  \\\n",
       "0  0.246557  0.058420  0.010287  0.077513  0.067282  0.084641  0.079236   \n",
       "1  0.246557  0.202282  0.010287  0.077513  0.321800  0.084641  0.278125   \n",
       "2 -0.094832  0.058420  0.632566  0.077513 -0.369333  0.084641  0.189198   \n",
       "\n",
       "    var_367   var_178    var_64   var_670   var_369    var_65   var_372  \\\n",
       "0 -0.207152 -0.051397 -0.071234 -0.148043 -0.363850 -0.049584 -0.099655   \n",
       "1  0.243847 -0.051397  0.682347  0.568058  0.016681  0.098961 -0.099655   \n",
       "2  0.243847  0.436540 -0.071234 -0.148043  0.178988  0.459294 -0.099655   \n",
       "\n",
       "    var_675   var_729   var_672   var_374   var_612   var_674   var_371  \\\n",
       "0  0.108862  0.283321 -0.060721  0.403292  0.298462 -0.219343  0.384568   \n",
       "1  0.108862  0.283321  0.779935 -0.142240  0.095299  0.315092 -0.071296   \n",
       "2  0.108862 -0.224173 -0.060721 -0.142240 -0.239482 -0.219343  0.384568   \n",
       "\n",
       "    var_183   var_363   var_376   var_645    var_72   var_723   var_383  \\\n",
       "0  0.343086 -0.097041  0.090877 -0.117409  0.152980  0.096203  0.550501   \n",
       "1 -0.039382  0.283409  0.090877  0.502280  0.152980  0.096203  0.291836   \n",
       "2 -0.191573 -0.097041  0.090877 -0.117409 -0.350868  0.096203 -0.100443   \n",
       "\n",
       "    var_375   var_380   var_656   var_382    var_69   var_586   var_384  \\\n",
       "0  0.513163  0.041425  0.071812 -0.093722 -0.142950  0.109048  0.107039   \n",
       "1 -0.088915  0.362563  0.236017 -0.093722  0.298939  0.109048  0.107039   \n",
       "2 -0.138549  0.041425  0.236017 -0.117885  0.298939  0.109048  0.107039   \n",
       "\n",
       "    var_580    var_78   var_57   var_581   var_378   var_668   var_701  \\\n",
       "0 -0.043029 -0.083270  0.19093  0.195113  0.098362 -0.286392  0.191765   \n",
       "1 -0.043029  0.686265  0.29776  0.195113 -0.041014  0.346121  0.299150   \n",
       "2 -0.043029  0.686265  0.19093 -0.200783  0.098362 -0.286392  0.000447   \n",
       "\n",
       "    var_676   var_387   var_735   var_393   var_539   var_189   var_737  \\\n",
       "0 -0.146314 -0.171386  0.286028  0.541930  0.088783 -0.068279 -0.065118   \n",
       "1  0.621776 -0.557201  0.286028  0.251967  0.235751 -0.068279 -0.065118   \n",
       "2 -0.146314 -0.171386  0.286028 -0.106794 -0.038062  0.266117 -0.065118   \n",
       "\n",
       "    var_391   var_389  var_742   var_738   var_741   var_587   var_399  \\\n",
       "0  0.570075  0.005626  0.06295  0.593048 -0.225217 -0.111817  0.058158   \n",
       "1 -0.081591  0.471338  0.06295 -0.092407  0.201615 -0.111817  0.058158   \n",
       "2  0.570075  0.005626  0.06295  0.424884  0.201615 -0.111817  0.058158   \n",
       "\n",
       "    var_188   var_193    var_84   var_499   var_200    var_81    var_79  \\\n",
       "0  0.185875  0.277549  0.069681  0.127884 -0.046628  0.384757  0.214112   \n",
       "1  0.185875  0.277549  0.069681  0.127884 -0.417072 -0.079937  0.214112   \n",
       "2 -0.302140  0.277549  0.069681  0.055250 -0.046628 -0.079937 -0.184216   \n",
       "\n",
       "    var_588   var_409   var_204   var_406   var_199   var_407   var_682  \\\n",
       "0  0.149707 -0.505492  0.353139  0.092782  0.056576 -0.016592 -0.141903   \n",
       "1  0.149707  0.024677 -0.090405  0.092782  0.056576  0.661105  0.274962   \n",
       "2 -0.174141  0.024677 -0.147054  0.092782  0.056576 -0.016592 -0.141903   \n",
       "\n",
       "    var_198   var_195   var_413    var_87   var_408   var_598   var_502  \\\n",
       "0 -0.189726 -0.062197 -0.226308 -0.071026  0.057601 -0.092332  0.017903   \n",
       "1  0.257166 -0.062197  0.152557  0.655806  0.142469 -0.239915  0.017903   \n",
       "2 -0.189726  0.549363  0.152557 -0.071026  0.057128  0.229455  0.017903   \n",
       "\n",
       "    var_684   var_202   var_592   var_416   var_421   var_596   var_410  \\\n",
       "0 -0.028059  0.182505 -0.029829  0.864941 -0.030397  0.175059  0.376889   \n",
       "1 -0.028059  0.182505 -0.029829  0.864941 -0.030397  0.175059  0.023488   \n",
       "2 -0.028059  0.182505  0.387358 -0.042518  0.557681 -0.174380 -0.184463   \n",
       "\n",
       "     var_94   var_743   var_419   var_599   var_206   var_210   var_424  \\\n",
       "0  0.147780 -0.120099  0.307183  0.076859 -0.063723  0.330814  0.294241   \n",
       "1  0.147780 -0.029989  0.307183  0.076859 -0.063723 -0.108541 -0.211771   \n",
       "2 -0.086299  0.422858  0.307183 -0.453255  0.393553 -0.114675  0.294241   \n",
       "\n",
       "    var_593   var_203    var_88   var_686   var_685   var_683   var_418  \\\n",
       "0 -0.252451  0.063198 -0.171532 -0.069101 -0.070994 -0.088608 -0.042489   \n",
       "1  0.186122  0.063198  0.117036  0.309905  0.237905  0.111542 -0.042489   \n",
       "2 -0.252451  0.063198  0.117036 -0.069101 -0.070994 -0.088608 -0.042489   \n",
       "\n",
       "    var_422    var_93   var_748   var_543   var_503   var_213   var_610  \\\n",
       "0 -0.456356 -0.026928 -0.089203  0.018312  0.062258  0.229338  0.024112   \n",
       "1  0.115452 -0.026928  0.401893  0.187466  0.062258 -0.094855  0.092733   \n",
       "2 -0.003528 -0.026928 -0.089203  0.018312  0.062258  0.229338  0.029523   \n",
       "\n",
       "     var_96   var_216   var_693   var_425   var_614   var_211   var_214  \\\n",
       "0 -0.054511  0.282628 -0.089050 -0.044936  0.065724  0.133628 -0.027515   \n",
       "1  0.374216 -0.138410  0.499366 -0.044936  0.065724  0.320210 -0.027515   \n",
       "2  0.374216 -0.062921 -0.089050  0.653947 -0.466866  0.031003  0.114360   \n",
       "\n",
       "    var_611   var_754    var_97   var_102   var_219   var_429   var_544  \\\n",
       "0 -0.129547  0.236739  0.171877  0.188065  0.257790 -0.076848 -0.099350   \n",
       "1  0.185429  0.348841  0.171877  0.188065 -0.080786 -0.076848  0.374839   \n",
       "2 -0.129547 -0.117301 -0.116073 -0.167489 -0.147379  0.234876 -0.099350   \n",
       "\n",
       "    var_694   var_752   var_620   var_546   var_624   var_618   var_215  \\\n",
       "0 -0.120894 -0.094485  0.055583  0.313784  0.089977  0.059362 -0.093230   \n",
       "1  0.221459  0.324197  0.055583  0.177395  0.089977  0.059362  0.253553   \n",
       "2 -0.120894 -0.094485 -0.513844 -0.100925  0.011055  0.059362  0.068287   \n",
       "\n",
       "    var_711   var_617   var_704    var_90   var_220  var_221   var_430  \\\n",
       "0  0.035204 -0.070804 -0.081982 -0.051273  0.136883 -0.05867 -0.035063   \n",
       "1  0.149623 -0.070804  0.236536 -0.051273  0.136883 -0.05867 -0.035063   \n",
       "2  0.035204  0.051199 -0.081982  0.393145 -0.196005 -0.05867 -0.035063   \n",
       "\n",
       "    var_431   var_627   var_227   var_438   var_705   var_226   var_228  \\\n",
       "0  0.072602  0.099914 -0.088356 -0.207085  0.182046  0.080119 -0.081703   \n",
       "1  0.072602  0.099914  0.346319 -0.207085  0.371969  0.080119  0.025453   \n",
       "2  0.072602 -0.156174 -0.088356  0.057423 -0.019278  0.080119 -0.081703   \n",
       "\n",
       "   var_718   var_547   var_628   var_432   var_106   var_719     var_8  \\\n",
       "0  0.05237 -0.067371  0.051278 -0.338813 -0.067423 -0.025801  0.282706   \n",
       "1  0.05237  0.193423  0.051278 -0.020538  0.262384  0.134271  0.282706   \n",
       "2  0.05237 -0.067371  0.051278 -0.020538  0.262384 -0.025801 -0.081824   \n",
       "\n",
       "    var_234     var_9   var_722   var_230   var_641   var_636   var_440  \\\n",
       "0 -0.060671  0.113430  0.048567  0.020903  0.067164 -0.023037  0.421409   \n",
       "1 -0.143633 -0.048465  0.048567  0.064341  0.067164  0.187007  0.421409   \n",
       "2 -0.060671 -0.075012  0.048567  0.020903  0.165317 -0.167486 -0.050785   \n",
       "\n",
       "    var_633   var_107   var_437   var_236   var_233   var_629   var_208  \\\n",
       "0 -0.035815 -0.033567 -0.034379 -0.065472 -0.033496  0.049130 -0.069720   \n",
       "1  0.068501 -0.033567 -0.034379  0.059759 -0.075142  0.049130 -0.069720   \n",
       "2 -0.035815 -0.033567 -0.034379 -0.065472  0.222165  0.029523  0.206617   \n",
       "\n",
       "    var_239   var_447   var_441  \n",
       "0 -0.040149 -0.029991  0.218008  \n",
       "1  0.502913 -0.029991  0.218008  \n",
       "2 -0.040149 -0.029991 -0.091968  "
      ]
     },
     "execution_count": 15,
     "metadata": {},
     "output_type": "execute_result"
    }
   ],
   "source": [
    "df_train_panda2.head(3)"
   ]
  },
  {
   "cell_type": "markdown",
   "metadata": {},
   "source": [
    "## 1.3. Define the main variables (target, date, etc.)"
   ]
  },
  {
   "cell_type": "code",
   "execution_count": 16,
   "metadata": {},
   "outputs": [],
   "source": [
    "#flavour: classic for python, distributed for Spark\n",
    "flavour = 'classic'\n",
    "verbose = False"
   ]
  },
  {
   "cell_type": "markdown",
   "metadata": {},
   "source": [
    "## 1.4. Tratamiento de datos"
   ]
  },
  {
   "cell_type": "code",
   "execution_count": 17,
   "metadata": {},
   "outputs": [
    {
     "name": "stdout",
     "output_type": "stream",
     "text": [
      "<class 'pandas.core.frame.DataFrame'>\n",
      "RangeIndex: 475383 entries, 0 to 475382\n",
      "Columns: 338 entries, cohort_default_ind12 to var_441\n",
      "dtypes: float64(337), int32(1)\n",
      "memory usage: 1.2 GB\n"
     ]
    }
   ],
   "source": [
    "df_train_panda2.info()"
   ]
  },
  {
   "cell_type": "code",
   "execution_count": 18,
   "metadata": {},
   "outputs": [],
   "source": [
    "mylist = list(df_train_panda2.select_dtypes(include=['object']).columns)\n",
    "#mylist"
   ]
  },
  {
   "cell_type": "code",
   "execution_count": 19,
   "metadata": {},
   "outputs": [],
   "source": [
    "for col in df_train_panda2.columns:\n",
    "    if col in mylist:\n",
    "        df_train_panda2[col] = df_train_panda2[col].astype(float)\n",
    "        df_test_panda2[col] = df_test_panda2[col].astype(float)"
   ]
  },
  {
   "cell_type": "code",
   "execution_count": 20,
   "metadata": {},
   "outputs": [
    {
     "name": "stdout",
     "output_type": "stream",
     "text": [
      "<class 'pandas.core.frame.DataFrame'>\n",
      "RangeIndex: 475383 entries, 0 to 475382\n",
      "Columns: 338 entries, cohort_default_ind12 to var_441\n",
      "dtypes: float64(337), int32(1)\n",
      "memory usage: 1.2 GB\n"
     ]
    }
   ],
   "source": [
    "df_train_panda2.info()"
   ]
  },
  {
   "cell_type": "code",
   "execution_count": 21,
   "metadata": {
    "tags": []
   },
   "outputs": [
    {
     "name": "stdout",
     "output_type": "stream",
     "text": [
      "337\n",
      "['var_240', 'var_241', 'var_113', 'var_114', 'var_242', 'var_244', 'var_11', 'var_248', 'var_14', 'var_116', 'var_506', 'var_249', 'var_250', 'var_252', 'var_118', 'var_146', 'var_223', 'var_507', 'var_258', 'var_259', 'var_262', 'var_122', 'var_260', 'var_179', 'var_125', 'var_548', 'var_264', 'var_265', 'var_445', 'var_17', 'var_269', 'var_267', 'var_510', 'var_18', 'var_271', 'var_212', 'var_130', 'var_272', 'var_273', 'var_274', 'var_132', 'var_275', 'var_278', 'var_648', 'var_133', 'var_281', 'var_20', 'var_257', 'var_280', 'var_283', 'var_282', 'var_285', 'var_286', 'var_137', 'var_288', 'var_138', 'var_21', 'var_290', 'var_301', 'var_289', 'var_141', 'var_649', 'var_456', 'var_292', 'var_458', 'var_293', 'var_667', 'var_650', 'var_25', 'var_142', 'var_23', 'var_28', 'var_335', 'var_652', 'var_294', 'var_296', 'var_30', 'var_299', 'var_558', 'var_144', 'var_31', 'var_298', 'var_145', 'var_300', 'var_559', 'var_147', 'var_459', 'var_149', 'var_37', 'var_460', 'var_516', 'var_150', 'var_305', 'var_306', 'var_38', 'var_308', 'var_517', 'var_747', 'var_39', 'var_40', 'var_412', 'var_316', 'var_518', 'var_314', 'var_315', 'var_317', 'var_319', 'var_320', 'var_561', 'var_520', 'var_327', 'var_457', 'var_322', 'var_465', 'var_446', 'var_45', 'var_326', 'var_563', 'var_2', 'var_48', 'var_161', 'var_51', 'var_331', 'var_329', 'var_332', 'var_13', 'var_164', 'var_166', 'var_53', 'var_663', 'var_337', 'var_525', 'var_470', 'var_342', 'var_54', 'var_341', 'var_338', 'var_339', 'var_527', 'var_662', 'var_55', 'var_344', 'var_172', 'var_472', 'var_343', 'var_566', 'var_345', 'var_351', 'var_475', 'var_176', 'var_60', 'var_350', 'var_476', 'var_58', 'var_354', 'var_63', 'var_175', 'var_665', 'var_666', 'var_352', 'var_59', 'var_24', 'var_349', 'var_355', 'var_485', 'var_358', 'var_482', 'var_530', 'var_480', 'var_557', 'var_481', 'var_177', 'var_361', 'var_601', 'var_531', 'var_590', 'var_532', 'var_536', 'var_489', 'var_538', 'var_367', 'var_178', 'var_64', 'var_670', 'var_369', 'var_65', 'var_372', 'var_675', 'var_729', 'var_672', 'var_374', 'var_612', 'var_674', 'var_371', 'var_183', 'var_363', 'var_376', 'var_645', 'var_72', 'var_723', 'var_383', 'var_375', 'var_380', 'var_656', 'var_382', 'var_69', 'var_586', 'var_384', 'var_580', 'var_78', 'var_57', 'var_581', 'var_378', 'var_668', 'var_701', 'var_676', 'var_387', 'var_735', 'var_393', 'var_539', 'var_189', 'var_737', 'var_391', 'var_389', 'var_742', 'var_738', 'var_741', 'var_587', 'var_399', 'var_188', 'var_193', 'var_84', 'var_499', 'var_200', 'var_81', 'var_79', 'var_588', 'var_409', 'var_204', 'var_406', 'var_199', 'var_407', 'var_682', 'var_198', 'var_195', 'var_413', 'var_87', 'var_408', 'var_598', 'var_502', 'var_684', 'var_202', 'var_592', 'var_416', 'var_421', 'var_596', 'var_410', 'var_94', 'var_743', 'var_419', 'var_599', 'var_206', 'var_210', 'var_424', 'var_593', 'var_203', 'var_88', 'var_686', 'var_685', 'var_683', 'var_418', 'var_422', 'var_93', 'var_748', 'var_543', 'var_503', 'var_213', 'var_610', 'var_96', 'var_216', 'var_693', 'var_425', 'var_614', 'var_211', 'var_214', 'var_611', 'var_754', 'var_97', 'var_102', 'var_219', 'var_429', 'var_544', 'var_694', 'var_752', 'var_620', 'var_546', 'var_624', 'var_618', 'var_215', 'var_711', 'var_617', 'var_704', 'var_90', 'var_220', 'var_221', 'var_430', 'var_431', 'var_627', 'var_227', 'var_438', 'var_705', 'var_226', 'var_228', 'var_718', 'var_547', 'var_628', 'var_432', 'var_106', 'var_719', 'var_8', 'var_234', 'var_9', 'var_722', 'var_230', 'var_641', 'var_636', 'var_440', 'var_633', 'var_107', 'var_437', 'var_236', 'var_233', 'var_629', 'var_208', 'var_239', 'var_447', 'var_441']\n"
     ]
    }
   ],
   "source": [
    "numeric_columns = list(df_train_panda2.columns)\n",
    "columns_to_eliminate2 = ['cohort_default_ind12','cohort_default_ind','nit','customer_num','fecha','cohort_date']\n",
    "\n",
    "numeric_variables = [x for x in numeric_columns if x not in columns_to_eliminate2]\n",
    "print(len(numeric_variables))\n",
    "print(numeric_variables)"
   ]
  },
  {
   "cell_type": "code",
   "execution_count": 22,
   "metadata": {},
   "outputs": [],
   "source": [
    "y_train = df_train_panda2[[target]]\n",
    "y_test = df_test_panda2[[target]]\n",
    "X_train = df_train_panda2[numeric_variables]\n",
    "X_test = df_test_panda2[numeric_variables]\n",
    "\n",
    "data_dmatrix_train = xgb.DMatrix(data=X_train,label=y_train)\n",
    "data_dmatrix_test = xgb.DMatrix(data=X_test,label=y_test)"
   ]
  },
  {
   "cell_type": "markdown",
   "metadata": {},
   "source": [
    "# 2. Xgboost"
   ]
  },
  {
   "cell_type": "markdown",
   "metadata": {},
   "source": [
    "## 2.1. Functions"
   ]
  },
  {
   "cell_type": "markdown",
   "metadata": {},
   "source": [
    "### 2.1.1. \"Train\", compute AUROC and store it in an output table"
   ]
  },
  {
   "cell_type": "code",
   "execution_count": 23,
   "metadata": {},
   "outputs": [],
   "source": [
    "def xgboost_classifier_perf(X_train,y_train,X_test,y_test,n,lr,ss,md):\n",
    "    global ara_data\n",
    "    \n",
    "    params_classifier={\n",
    "        'objective': 'binary:logistic',\n",
    "        'eval_metric':'auc',\n",
    "        'n_estimators':n,\n",
    "        'learning_rate':lr,\n",
    "        'subsample':ss,\n",
    "        'max_depth':md,\n",
    "        \n",
    "        #default values\n",
    "        'colsample_bytree':1,\n",
    "        'colsample_bylevel':1,\n",
    "        'colsample_bynode':1,\n",
    "        'seed':seed\n",
    "    }\n",
    "    \n",
    "    model = xgb.XGBClassifier(**params_classifier)\n",
    "    \n",
    "    model.fit(X_train, y_train)\n",
    "    \n",
    "    from sklearn.metrics import roc_auc_score\n",
    "    y_train_pred = model.predict_proba(X_train)[:,1]\n",
    "    roc_auc_train = roc_auc_score(y_train, y_train_pred)\n",
    "    gini_train = 2*roc_auc_train - 1\n",
    "    \n",
    "    y_test_pred = model.predict_proba(X_test)[:,1]\n",
    "    roc_auc_test = roc_auc_score(y_test, y_test_pred)\n",
    "    gini_test = 2*roc_auc_test - 1\n",
    "    \n",
    "    train_test_change = (gini_test/gini_train)-1\n",
    "    \n",
    "    data = [n, lr, ss, md, gini_train, gini_test, roc_auc_train, roc_auc_test]\n",
    "    columns = ['n_estimators','learning_date','subsample','max_depth',\n",
    "               'gini_train','gini_test','auroc_train','auroc_test']\n",
    "    \n",
    "    ara_data = pd.DataFrame(\n",
    "        columns=[\n",
    "            'num_boost_round',\n",
    "            'learning_rate',\n",
    "            'subsample',\n",
    "            'max_depth',\n",
    "            'gini_train',\n",
    "            'gini_test',\n",
    "            'auroc_train',\n",
    "            'auroc_test',\n",
    "            'train_test_change'\n",
    "        ]\n",
    "    )\n",
    "    \n",
    "    ara_data.loc[0] = [n,lr,ss,md,gini_train,gini_test,roc_auc_train,roc_auc_test,train_test_change] \n",
    "    \n",
    "    return ara_data"
   ]
  },
  {
   "cell_type": "code",
   "execution_count": 24,
   "metadata": {},
   "outputs": [],
   "source": [
    "def xgboost_train_perf(data_train,data_test,n,lr,ss,md):\n",
    "    \n",
    "    global ara_data\n",
    "    \n",
    "    params_train={\n",
    "        'objective': 'binary:logistic',\n",
    "        'num_round':n,\n",
    "        'learning_rate':lr,\n",
    "        'subsample':ss,    \n",
    "        'max_depth':md,\n",
    "        'seed':seed,\n",
    "        'eval_metric':'auc',\n",
    "        \n",
    "        #default values\n",
    "        'min_split_loss':0,\n",
    "        'min_child_weight':1,\n",
    "        'min_split_loss':0,\n",
    "        'max_delta_step':0,\n",
    "        'colsample_bytree':1,\n",
    "        'colsample_bylevel':1,\n",
    "        'colsample_bynode':1,\n",
    "        'lambda':1,\n",
    "        'alpha':0,\n",
    "        'tree_method':'auto',\n",
    "        'max_leaves':0,\n",
    "        'max_bin':256\n",
    "        }\n",
    "    \n",
    "    watchlist = [(data_test, 'eval'), (data_train, 'train')]\n",
    "    model = xgb.train(\n",
    "        params_train, \n",
    "        data_train, \n",
    "        n,\n",
    "        evals=watchlist,\n",
    "        verbose_eval=False\n",
    "    )\n",
    "       \n",
    "    y_train_pred = model.predict(data_train) \n",
    "    roc_auc_train = roc_auc_score(y_train, y_train_pred)\n",
    "    gini_train = 2*roc_auc_train - 1\n",
    "    y_test_pred = model.predict(data_test) \n",
    "    roc_auc_test = roc_auc_score(y_test, y_test_pred)\n",
    "    gini_test = 2*roc_auc_test - 1\n",
    "    train_test_change = (gini_test/gini_train)-1\n",
    "    \n",
    "    data = [n, lr, ss, md, gini_train, gini_test, roc_auc_train, roc_auc_test]\n",
    "    columns = ['n_estimators','learning_date','subsample','max_depth',\n",
    "               'gini_train','gini_test','auroc_train','auroc_test']\n",
    "    \n",
    "    ara_data = pd.DataFrame(\n",
    "        columns=[\n",
    "            'num_boost_round',\n",
    "            'learning_rate',\n",
    "            'subsample',\n",
    "            'max_depth',\n",
    "            'gini_train',\n",
    "            'gini_test',\n",
    "            'auroc_train',\n",
    "            'auroc_test',\n",
    "            'train_test_change'\n",
    "        ]\n",
    "    )\n",
    "    ara_data.loc[0] = [n,lr,ss,md,gini_train,gini_test,roc_auc_train,roc_auc_test,train_test_change]  \n",
    "    \n",
    "    return ara_data"
   ]
  },
  {
   "cell_type": "markdown",
   "metadata": {},
   "source": [
    "### 2.1.2. Finetune the hyperparameter"
   ]
  },
  {
   "cell_type": "code",
   "execution_count": 25,
   "metadata": {},
   "outputs": [],
   "source": [
    "def xgboost_fine01(xgboost_type,parameter_list, parameter):\n",
    "    global results_data\n",
    "    results_data = pd.DataFrame()\n",
    "    for i in range(len(parameter_list)):\n",
    "        param = parameter_list[i]\n",
    "        print(\"\\n\")\n",
    "        # get the start time\n",
    "        st = time.time()\n",
    "        \n",
    "        if parameter == 'n':\n",
    "            n = n_estimators[i]\n",
    "            lr = learning_rate[0]\n",
    "            ss = subsample[0]\n",
    "            md = max_depth[0]\n",
    "            param_under_analysis = 'Number of boosts'\n",
    "        elif parameter == 'lr':\n",
    "            n = n_estimators[0]\n",
    "            lr = learning_rate[i]\n",
    "            ss = subsample[0]\n",
    "            md = max_depth[0]\n",
    "            param_under_analysis = 'Learning rate'\n",
    "        elif parameter == 'ss':\n",
    "            n = n_estimators[0]\n",
    "            lr = learning_rate[0]\n",
    "            ss = subsample[i]\n",
    "            md = max_depth[0]\n",
    "            param_under_analysis = 'Subsample size'\n",
    "        elif parameter == 'md':\n",
    "            n = n_estimators[0]\n",
    "            lr = learning_rate[0]\n",
    "            ss = subsample[0]\n",
    "            md = max_depth[i]\n",
    "            param_under_analysis = 'Maximum depth'\n",
    "        \n",
    "        print(\"***** Run: \",str(i), \" | \", param_under_analysis, \":\", str(param))\n",
    "        if xgboost_type == 'Classifier':\n",
    "            ara_data = xgboost_classifier_perf(X_train,y_train,X_test,y_test,n,lr,ss,md)\n",
    "        else:\n",
    "            ara_data = xgboost_train_perf(data_dmatrix_train,data_dmatrix_test,n,lr,ss,md)\n",
    "        results_data = results_data.append(ara_data,ignore_index=True)\n",
    "        print(ara_data[['gini_train','gini_test']])\n",
    "        del ara_data\n",
    "        \n",
    "        # get the end time\n",
    "        et = time.time()\n",
    "        # get the execution time\n",
    "        elapsed_time = et - st\n",
    "        print('Execution time:', time.strftime(\"%H:%M:%S\", time.gmtime(elapsed_time)))\n",
    "        \n",
    "    return results_data"
   ]
  },
  {
   "cell_type": "markdown",
   "metadata": {},
   "source": [
    "### 2.1.3. Plot the results"
   ]
  },
  {
   "cell_type": "code",
   "execution_count": 26,
   "metadata": {},
   "outputs": [],
   "source": [
    "def plot_search_results(data,parameter):\n",
    "    gini_train = data['gini_train']\n",
    "    gini_test = data['gini_test']\n",
    "    parameter = data[parameter]\n",
    "    fig, ax = plt.subplots(1,1,sharex='none', sharey='all',figsize=(20,5))\n",
    "    fig.text(0.04, 0.5, 'Gini', va='center', rotation='vertical')\n",
    "    y_1 = np.array(gini_train)\n",
    "    y_2 = np.array(gini_test)\n",
    "    x = np.array(parameter)\n",
    "    ax.errorbar(x, y_1, linestyle='-', marker='o', label='train')\n",
    "    ax.errorbar(x, y_2, linestyle='--', marker='^',label='test' )\n",
    "    plt.legend()\n",
    "    plt.show()"
   ]
  },
  {
   "cell_type": "markdown",
   "metadata": {},
   "source": [
    "## 2.2. Finetune the Xgboost hyperparameters"
   ]
  },
  {
   "cell_type": "markdown",
   "metadata": {},
   "source": [
    "### 2.2.1. Finetune the learning rate"
   ]
  },
  {
   "cell_type": "code",
   "execution_count": 31,
   "metadata": {
    "tags": []
   },
   "outputs": [
    {
     "name": "stdout",
     "output_type": "stream",
     "text": [
      "\n",
      "\n",
      "***** Run:  0  |  Learning rate : 0.01\n",
      "[21:37:08] WARNING: ../src/learner.cc:767: \n",
      "Parameters: { \"num_round\" } are not used.\n",
      "\n"
     ]
    },
    {
     "name": "stderr",
     "output_type": "stream",
     "text": [
      "/tmp/ipykernel_2741/3687071205.py:40: FutureWarning: The frame.append method is deprecated and will be removed from pandas in a future version. Use pandas.concat instead.\n",
      "  results_data = results_data.append(ara_data,ignore_index=True)\n"
     ]
    },
    {
     "name": "stdout",
     "output_type": "stream",
     "text": [
      "   gini_train  gini_test\n",
      "0    0.574311   0.570194\n",
      "Execution time: 00:05:42\n",
      "\n",
      "\n",
      "***** Run:  1  |  Learning rate : 0.02\n",
      "[21:42:51] WARNING: ../src/learner.cc:767: \n",
      "Parameters: { \"num_round\" } are not used.\n",
      "\n"
     ]
    },
    {
     "name": "stderr",
     "output_type": "stream",
     "text": [
      "/tmp/ipykernel_2741/3687071205.py:40: FutureWarning: The frame.append method is deprecated and will be removed from pandas in a future version. Use pandas.concat instead.\n",
      "  results_data = results_data.append(ara_data,ignore_index=True)\n"
     ]
    },
    {
     "name": "stdout",
     "output_type": "stream",
     "text": [
      "   gini_train  gini_test\n",
      "0     0.59392   0.587327\n",
      "Execution time: 00:05:42\n",
      "\n",
      "\n",
      "***** Run:  2  |  Learning rate : 0.03\n",
      "[21:48:33] WARNING: ../src/learner.cc:767: \n",
      "Parameters: { \"num_round\" } are not used.\n",
      "\n"
     ]
    },
    {
     "name": "stderr",
     "output_type": "stream",
     "text": [
      "/tmp/ipykernel_2741/3687071205.py:40: FutureWarning: The frame.append method is deprecated and will be removed from pandas in a future version. Use pandas.concat instead.\n",
      "  results_data = results_data.append(ara_data,ignore_index=True)\n"
     ]
    },
    {
     "name": "stdout",
     "output_type": "stream",
     "text": [
      "   gini_train  gini_test\n",
      "0    0.615251   0.606391\n",
      "Execution time: 00:05:37\n",
      "\n",
      "\n",
      "***** Run:  3  |  Learning rate : 0.04\n",
      "[21:54:10] WARNING: ../src/learner.cc:767: \n",
      "Parameters: { \"num_round\" } are not used.\n",
      "\n"
     ]
    },
    {
     "name": "stderr",
     "output_type": "stream",
     "text": [
      "/tmp/ipykernel_2741/3687071205.py:40: FutureWarning: The frame.append method is deprecated and will be removed from pandas in a future version. Use pandas.concat instead.\n",
      "  results_data = results_data.append(ara_data,ignore_index=True)\n"
     ]
    },
    {
     "name": "stdout",
     "output_type": "stream",
     "text": [
      "   gini_train  gini_test\n",
      "0     0.63853   0.627234\n",
      "Execution time: 00:05:20\n",
      "\n",
      "\n",
      "***** Run:  4  |  Learning rate : 0.05\n",
      "[21:59:31] WARNING: ../src/learner.cc:767: \n",
      "Parameters: { \"num_round\" } are not used.\n",
      "\n"
     ]
    },
    {
     "name": "stderr",
     "output_type": "stream",
     "text": [
      "/tmp/ipykernel_2741/3687071205.py:40: FutureWarning: The frame.append method is deprecated and will be removed from pandas in a future version. Use pandas.concat instead.\n",
      "  results_data = results_data.append(ara_data,ignore_index=True)\n"
     ]
    },
    {
     "name": "stdout",
     "output_type": "stream",
     "text": [
      "   gini_train  gini_test\n",
      "0    0.655542   0.641354\n",
      "Execution time: 00:05:15\n",
      "\n",
      "\n",
      "***** Run:  5  |  Learning rate : 0.1\n",
      "[22:04:46] WARNING: ../src/learner.cc:767: \n",
      "Parameters: { \"num_round\" } are not used.\n",
      "\n"
     ]
    },
    {
     "name": "stderr",
     "output_type": "stream",
     "text": [
      "/tmp/ipykernel_2741/3687071205.py:40: FutureWarning: The frame.append method is deprecated and will be removed from pandas in a future version. Use pandas.concat instead.\n",
      "  results_data = results_data.append(ara_data,ignore_index=True)\n"
     ]
    },
    {
     "name": "stdout",
     "output_type": "stream",
     "text": [
      "   gini_train  gini_test\n",
      "0    0.714275   0.686273\n",
      "Execution time: 00:05:12\n",
      "\n",
      "\n",
      "***** Run:  6  |  Learning rate : 0.25\n",
      "[22:09:58] WARNING: ../src/learner.cc:767: \n",
      "Parameters: { \"num_round\" } are not used.\n",
      "\n"
     ]
    },
    {
     "name": "stderr",
     "output_type": "stream",
     "text": [
      "/tmp/ipykernel_2741/3687071205.py:40: FutureWarning: The frame.append method is deprecated and will be removed from pandas in a future version. Use pandas.concat instead.\n",
      "  results_data = results_data.append(ara_data,ignore_index=True)\n"
     ]
    },
    {
     "name": "stdout",
     "output_type": "stream",
     "text": [
      "   gini_train  gini_test\n",
      "0    0.801352   0.742677\n",
      "Execution time: 00:05:11\n",
      "\n",
      "\n",
      "***** Run:  7  |  Learning rate : 0.5\n",
      "[22:15:10] WARNING: ../src/learner.cc:767: \n",
      "Parameters: { \"num_round\" } are not used.\n",
      "\n"
     ]
    },
    {
     "name": "stderr",
     "output_type": "stream",
     "text": [
      "/tmp/ipykernel_2741/3687071205.py:40: FutureWarning: The frame.append method is deprecated and will be removed from pandas in a future version. Use pandas.concat instead.\n",
      "  results_data = results_data.append(ara_data,ignore_index=True)\n"
     ]
    },
    {
     "name": "stdout",
     "output_type": "stream",
     "text": [
      "   gini_train  gini_test\n",
      "0    0.862228   0.769066\n",
      "Execution time: 00:05:15\n",
      "\n",
      "\n",
      "***** Run:  8  |  Learning rate : 0.75\n",
      "[22:20:25] WARNING: ../src/learner.cc:767: \n",
      "Parameters: { \"num_round\" } are not used.\n",
      "\n",
      "   gini_train  gini_test\n",
      "0    0.883925   0.767452\n",
      "Execution time: 00:05:20\n",
      "   num_boost_round  learning_rate  subsample  max_depth  gini_train  \\\n",
      "0            100.0           0.01        1.0        6.0    0.574311   \n",
      "1            100.0           0.02        1.0        6.0    0.593920   \n",
      "2            100.0           0.03        1.0        6.0    0.615251   \n",
      "3            100.0           0.04        1.0        6.0    0.638530   \n",
      "4            100.0           0.05        1.0        6.0    0.655542   \n",
      "5            100.0           0.10        1.0        6.0    0.714275   \n",
      "6            100.0           0.25        1.0        6.0    0.801352   \n",
      "7            100.0           0.50        1.0        6.0    0.862228   \n",
      "8            100.0           0.75        1.0        6.0    0.883925   \n",
      "\n",
      "   gini_test  auroc_train  auroc_test  train_test_change  \n",
      "0   0.570194     0.787156    0.785097          -0.007169  \n",
      "1   0.587327     0.796960    0.793663          -0.011102  \n",
      "2   0.606391     0.807626    0.803195          -0.014401  \n",
      "3   0.627234     0.819265    0.813617          -0.017691  \n",
      "4   0.641354     0.827771    0.820677          -0.021642  \n",
      "5   0.686273     0.857138    0.843136          -0.039204  \n",
      "6   0.742677     0.900676    0.871339          -0.073219  \n",
      "7   0.769066     0.931114    0.884533          -0.108048  \n",
      "8   0.767452     0.941962    0.883726          -0.131768  \n"
     ]
    },
    {
     "name": "stderr",
     "output_type": "stream",
     "text": [
      "/tmp/ipykernel_2741/3687071205.py:40: FutureWarning: The frame.append method is deprecated and will be removed from pandas in a future version. Use pandas.concat instead.\n",
      "  results_data = results_data.append(ara_data,ignore_index=True)\n"
     ]
    }
   ],
   "source": [
    "xgboost_type = \"Train\"\n",
    "learning_rate = [0.01, 0.02, 0.03,  0.04,  0.05, 0.1, 0.25, 0.5, 0.75]\n",
    "n_estimators = [100]\n",
    "subsample = [1]\n",
    "max_depth = [6]\n",
    "seed = 1024\n",
    "\n",
    "data_hypertune_lr = xgboost_fine01(xgboost_type,learning_rate,'lr')\n",
    "print(data_hypertune_lr)"
   ]
  },
  {
   "cell_type": "code",
   "execution_count": 32,
   "metadata": {
    "tags": []
   },
   "outputs": [
    {
     "data": {
      "text/html": [
       "<div>\n",
       "<style scoped>\n",
       "    .dataframe tbody tr th:only-of-type {\n",
       "        vertical-align: middle;\n",
       "    }\n",
       "\n",
       "    .dataframe tbody tr th {\n",
       "        vertical-align: top;\n",
       "    }\n",
       "\n",
       "    .dataframe thead th {\n",
       "        text-align: right;\n",
       "    }\n",
       "</style>\n",
       "<table border=\"1\" class=\"dataframe\">\n",
       "  <thead>\n",
       "    <tr style=\"text-align: right;\">\n",
       "      <th></th>\n",
       "      <th>num_boost_round</th>\n",
       "      <th>learning_rate</th>\n",
       "      <th>subsample</th>\n",
       "      <th>max_depth</th>\n",
       "      <th>gini_train</th>\n",
       "      <th>gini_test</th>\n",
       "      <th>auroc_train</th>\n",
       "      <th>auroc_test</th>\n",
       "      <th>train_test_change</th>\n",
       "    </tr>\n",
       "  </thead>\n",
       "  <tbody>\n",
       "    <tr>\n",
       "      <th>0</th>\n",
       "      <td>100.0</td>\n",
       "      <td>0.01</td>\n",
       "      <td>1.0</td>\n",
       "      <td>6.0</td>\n",
       "      <td>0.574311</td>\n",
       "      <td>0.570194</td>\n",
       "      <td>0.787156</td>\n",
       "      <td>0.785097</td>\n",
       "      <td>-0.007169</td>\n",
       "    </tr>\n",
       "    <tr>\n",
       "      <th>1</th>\n",
       "      <td>100.0</td>\n",
       "      <td>0.02</td>\n",
       "      <td>1.0</td>\n",
       "      <td>6.0</td>\n",
       "      <td>0.593920</td>\n",
       "      <td>0.587327</td>\n",
       "      <td>0.796960</td>\n",
       "      <td>0.793663</td>\n",
       "      <td>-0.011102</td>\n",
       "    </tr>\n",
       "    <tr>\n",
       "      <th>2</th>\n",
       "      <td>100.0</td>\n",
       "      <td>0.03</td>\n",
       "      <td>1.0</td>\n",
       "      <td>6.0</td>\n",
       "      <td>0.615251</td>\n",
       "      <td>0.606391</td>\n",
       "      <td>0.807626</td>\n",
       "      <td>0.803195</td>\n",
       "      <td>-0.014401</td>\n",
       "    </tr>\n",
       "    <tr>\n",
       "      <th>3</th>\n",
       "      <td>100.0</td>\n",
       "      <td>0.04</td>\n",
       "      <td>1.0</td>\n",
       "      <td>6.0</td>\n",
       "      <td>0.638530</td>\n",
       "      <td>0.627234</td>\n",
       "      <td>0.819265</td>\n",
       "      <td>0.813617</td>\n",
       "      <td>-0.017691</td>\n",
       "    </tr>\n",
       "    <tr>\n",
       "      <th>4</th>\n",
       "      <td>100.0</td>\n",
       "      <td>0.05</td>\n",
       "      <td>1.0</td>\n",
       "      <td>6.0</td>\n",
       "      <td>0.655542</td>\n",
       "      <td>0.641354</td>\n",
       "      <td>0.827771</td>\n",
       "      <td>0.820677</td>\n",
       "      <td>-0.021642</td>\n",
       "    </tr>\n",
       "    <tr>\n",
       "      <th>5</th>\n",
       "      <td>100.0</td>\n",
       "      <td>0.10</td>\n",
       "      <td>1.0</td>\n",
       "      <td>6.0</td>\n",
       "      <td>0.714275</td>\n",
       "      <td>0.686273</td>\n",
       "      <td>0.857138</td>\n",
       "      <td>0.843136</td>\n",
       "      <td>-0.039204</td>\n",
       "    </tr>\n",
       "    <tr>\n",
       "      <th>6</th>\n",
       "      <td>100.0</td>\n",
       "      <td>0.25</td>\n",
       "      <td>1.0</td>\n",
       "      <td>6.0</td>\n",
       "      <td>0.801352</td>\n",
       "      <td>0.742677</td>\n",
       "      <td>0.900676</td>\n",
       "      <td>0.871339</td>\n",
       "      <td>-0.073219</td>\n",
       "    </tr>\n",
       "    <tr>\n",
       "      <th>7</th>\n",
       "      <td>100.0</td>\n",
       "      <td>0.50</td>\n",
       "      <td>1.0</td>\n",
       "      <td>6.0</td>\n",
       "      <td>0.862228</td>\n",
       "      <td>0.769066</td>\n",
       "      <td>0.931114</td>\n",
       "      <td>0.884533</td>\n",
       "      <td>-0.108048</td>\n",
       "    </tr>\n",
       "    <tr>\n",
       "      <th>8</th>\n",
       "      <td>100.0</td>\n",
       "      <td>0.75</td>\n",
       "      <td>1.0</td>\n",
       "      <td>6.0</td>\n",
       "      <td>0.883925</td>\n",
       "      <td>0.767452</td>\n",
       "      <td>0.941962</td>\n",
       "      <td>0.883726</td>\n",
       "      <td>-0.131768</td>\n",
       "    </tr>\n",
       "  </tbody>\n",
       "</table>\n",
       "</div>"
      ],
      "text/plain": [
       "   num_boost_round  learning_rate  subsample  max_depth  gini_train  \\\n",
       "0            100.0           0.01        1.0        6.0    0.574311   \n",
       "1            100.0           0.02        1.0        6.0    0.593920   \n",
       "2            100.0           0.03        1.0        6.0    0.615251   \n",
       "3            100.0           0.04        1.0        6.0    0.638530   \n",
       "4            100.0           0.05        1.0        6.0    0.655542   \n",
       "5            100.0           0.10        1.0        6.0    0.714275   \n",
       "6            100.0           0.25        1.0        6.0    0.801352   \n",
       "7            100.0           0.50        1.0        6.0    0.862228   \n",
       "8            100.0           0.75        1.0        6.0    0.883925   \n",
       "\n",
       "   gini_test  auroc_train  auroc_test  train_test_change  \n",
       "0   0.570194     0.787156    0.785097          -0.007169  \n",
       "1   0.587327     0.796960    0.793663          -0.011102  \n",
       "2   0.606391     0.807626    0.803195          -0.014401  \n",
       "3   0.627234     0.819265    0.813617          -0.017691  \n",
       "4   0.641354     0.827771    0.820677          -0.021642  \n",
       "5   0.686273     0.857138    0.843136          -0.039204  \n",
       "6   0.742677     0.900676    0.871339          -0.073219  \n",
       "7   0.769066     0.931114    0.884533          -0.108048  \n",
       "8   0.767452     0.941962    0.883726          -0.131768  "
      ]
     },
     "execution_count": 32,
     "metadata": {},
     "output_type": "execute_result"
    }
   ],
   "source": [
    "data_hypertune_lr"
   ]
  },
  {
   "cell_type": "code",
   "execution_count": 33,
   "metadata": {
    "tags": []
   },
   "outputs": [
    {
     "data": {
      "image/png": "[encoded data removed]",
      "text/plain": [
       "<Figure size 1440x360 with 1 Axes>"
      ]
     },
     "metadata": {
      "needs_background": "light"
     },
     "output_type": "display_data"
    }
   ],
   "source": [
    "plot_search_results(data_hypertune_lr,'learning_rate')"
   ]
  },
  {
   "cell_type": "markdown",
   "metadata": {},
   "source": [
    "### 2.2.2. Finetune the number of boosts"
   ]
  },
  {
   "cell_type": "code",
   "execution_count": 37,
   "metadata": {
    "tags": []
   },
   "outputs": [
    {
     "name": "stdout",
     "output_type": "stream",
     "text": [
      "\n",
      "\n",
      "***** Run:  0  |  Number of boosts : 75\n",
      "[00:11:57] WARNING: ../src/learner.cc:767: \n",
      "Parameters: { \"num_round\" } are not used.\n",
      "\n"
     ]
    },
    {
     "name": "stderr",
     "output_type": "stream",
     "text": [
      "/tmp/ipykernel_2741/3687071205.py:40: FutureWarning: The frame.append method is deprecated and will be removed from pandas in a future version. Use pandas.concat instead.\n",
      "  results_data = results_data.append(ara_data,ignore_index=True)\n"
     ]
    },
    {
     "name": "stdout",
     "output_type": "stream",
     "text": [
      "   gini_train  gini_test\n",
      "0    0.669651    0.65295\n",
      "Execution time: 00:04:03\n",
      "\n",
      "\n",
      "***** Run:  1  |  Number of boosts : 100\n",
      "[00:16:00] WARNING: ../src/learner.cc:767: \n",
      "Parameters: { \"num_round\" } are not used.\n",
      "\n"
     ]
    },
    {
     "name": "stderr",
     "output_type": "stream",
     "text": [
      "/tmp/ipykernel_2741/3687071205.py:40: FutureWarning: The frame.append method is deprecated and will be removed from pandas in a future version. Use pandas.concat instead.\n",
      "  results_data = results_data.append(ara_data,ignore_index=True)\n"
     ]
    },
    {
     "name": "stdout",
     "output_type": "stream",
     "text": [
      "   gini_train  gini_test\n",
      "0    0.695241   0.672901\n",
      "Execution time: 00:05:23\n",
      "\n",
      "\n",
      "***** Run:  2  |  Number of boosts : 120\n",
      "[00:21:23] WARNING: ../src/learner.cc:767: \n",
      "Parameters: { \"num_round\" } are not used.\n",
      "\n"
     ]
    },
    {
     "name": "stderr",
     "output_type": "stream",
     "text": [
      "/tmp/ipykernel_2741/3687071205.py:40: FutureWarning: The frame.append method is deprecated and will be removed from pandas in a future version. Use pandas.concat instead.\n",
      "  results_data = results_data.append(ara_data,ignore_index=True)\n"
     ]
    },
    {
     "name": "stdout",
     "output_type": "stream",
     "text": [
      "   gini_train  gini_test\n",
      "0    0.712756   0.685642\n",
      "Execution time: 00:06:28\n",
      "\n",
      "\n",
      "***** Run:  3  |  Number of boosts : 150\n",
      "[00:27:52] WARNING: ../src/learner.cc:767: \n",
      "Parameters: { \"num_round\" } are not used.\n",
      "\n"
     ]
    },
    {
     "name": "stderr",
     "output_type": "stream",
     "text": [
      "/tmp/ipykernel_2741/3687071205.py:40: FutureWarning: The frame.append method is deprecated and will be removed from pandas in a future version. Use pandas.concat instead.\n",
      "  results_data = results_data.append(ara_data,ignore_index=True)\n"
     ]
    },
    {
     "name": "stdout",
     "output_type": "stream",
     "text": [
      "   gini_train  gini_test\n",
      "0    0.736012   0.702101\n",
      "Execution time: 00:07:52\n",
      "\n",
      "\n",
      "***** Run:  4  |  Number of boosts : 250\n",
      "[00:35:44] WARNING: ../src/learner.cc:767: \n",
      "Parameters: { \"num_round\" } are not used.\n",
      "\n",
      "   gini_train  gini_test\n",
      "0    0.789142    0.73926\n",
      "Execution time: 00:13:16\n"
     ]
    },
    {
     "name": "stderr",
     "output_type": "stream",
     "text": [
      "/tmp/ipykernel_2741/3687071205.py:40: FutureWarning: The frame.append method is deprecated and will be removed from pandas in a future version. Use pandas.concat instead.\n",
      "  results_data = results_data.append(ara_data,ignore_index=True)\n"
     ]
    }
   ],
   "source": [
    "xgboost_type = \"Train\"\n",
    "learning_rate = [0.08]\n",
    "n_estimators = [75, 100, 120, 150, 250]\n",
    "subsample = [1]\n",
    "max_depth = [6]\n",
    "seed = 1024\n",
    "data_hypertune_n = xgboost_fine01(xgboost_type,n_estimators,'n')"
   ]
  },
  {
   "cell_type": "code",
   "execution_count": 38,
   "metadata": {},
   "outputs": [
    {
     "data": {
      "text/html": [
       "<div>\n",
       "<style scoped>\n",
       "    .dataframe tbody tr th:only-of-type {\n",
       "        vertical-align: middle;\n",
       "    }\n",
       "\n",
       "    .dataframe tbody tr th {\n",
       "        vertical-align: top;\n",
       "    }\n",
       "\n",
       "    .dataframe thead th {\n",
       "        text-align: right;\n",
       "    }\n",
       "</style>\n",
       "<table border=\"1\" class=\"dataframe\">\n",
       "  <thead>\n",
       "    <tr style=\"text-align: right;\">\n",
       "      <th></th>\n",
       "      <th>num_boost_round</th>\n",
       "      <th>learning_rate</th>\n",
       "      <th>subsample</th>\n",
       "      <th>max_depth</th>\n",
       "      <th>gini_train</th>\n",
       "      <th>gini_test</th>\n",
       "      <th>auroc_train</th>\n",
       "      <th>auroc_test</th>\n",
       "      <th>train_test_change</th>\n",
       "    </tr>\n",
       "  </thead>\n",
       "  <tbody>\n",
       "    <tr>\n",
       "      <th>0</th>\n",
       "      <td>75.0</td>\n",
       "      <td>0.08</td>\n",
       "      <td>1.0</td>\n",
       "      <td>6.0</td>\n",
       "      <td>0.669651</td>\n",
       "      <td>0.652950</td>\n",
       "      <td>0.834825</td>\n",
       "      <td>0.826475</td>\n",
       "      <td>-0.024939</td>\n",
       "    </tr>\n",
       "    <tr>\n",
       "      <th>1</th>\n",
       "      <td>100.0</td>\n",
       "      <td>0.08</td>\n",
       "      <td>1.0</td>\n",
       "      <td>6.0</td>\n",
       "      <td>0.695241</td>\n",
       "      <td>0.672901</td>\n",
       "      <td>0.847620</td>\n",
       "      <td>0.836451</td>\n",
       "      <td>-0.032132</td>\n",
       "    </tr>\n",
       "    <tr>\n",
       "      <th>2</th>\n",
       "      <td>120.0</td>\n",
       "      <td>0.08</td>\n",
       "      <td>1.0</td>\n",
       "      <td>6.0</td>\n",
       "      <td>0.712756</td>\n",
       "      <td>0.685642</td>\n",
       "      <td>0.856378</td>\n",
       "      <td>0.842821</td>\n",
       "      <td>-0.038041</td>\n",
       "    </tr>\n",
       "    <tr>\n",
       "      <th>3</th>\n",
       "      <td>150.0</td>\n",
       "      <td>0.08</td>\n",
       "      <td>1.0</td>\n",
       "      <td>6.0</td>\n",
       "      <td>0.736012</td>\n",
       "      <td>0.702101</td>\n",
       "      <td>0.868006</td>\n",
       "      <td>0.851051</td>\n",
       "      <td>-0.046073</td>\n",
       "    </tr>\n",
       "    <tr>\n",
       "      <th>4</th>\n",
       "      <td>250.0</td>\n",
       "      <td>0.08</td>\n",
       "      <td>1.0</td>\n",
       "      <td>6.0</td>\n",
       "      <td>0.789142</td>\n",
       "      <td>0.739260</td>\n",
       "      <td>0.894571</td>\n",
       "      <td>0.869630</td>\n",
       "      <td>-0.063210</td>\n",
       "    </tr>\n",
       "  </tbody>\n",
       "</table>\n",
       "</div>"
      ],
      "text/plain": [
       "   num_boost_round  learning_rate  subsample  max_depth  gini_train  \\\n",
       "0             75.0           0.08        1.0        6.0    0.669651   \n",
       "1            100.0           0.08        1.0        6.0    0.695241   \n",
       "2            120.0           0.08        1.0        6.0    0.712756   \n",
       "3            150.0           0.08        1.0        6.0    0.736012   \n",
       "4            250.0           0.08        1.0        6.0    0.789142   \n",
       "\n",
       "   gini_test  auroc_train  auroc_test  train_test_change  \n",
       "0   0.652950     0.834825    0.826475          -0.024939  \n",
       "1   0.672901     0.847620    0.836451          -0.032132  \n",
       "2   0.685642     0.856378    0.842821          -0.038041  \n",
       "3   0.702101     0.868006    0.851051          -0.046073  \n",
       "4   0.739260     0.894571    0.869630          -0.063210  "
      ]
     },
     "execution_count": 38,
     "metadata": {},
     "output_type": "execute_result"
    }
   ],
   "source": [
    "data_hypertune_n"
   ]
  },
  {
   "cell_type": "code",
   "execution_count": 39,
   "metadata": {},
   "outputs": [
    {
     "data": {
      "image/png": "[encoded data removed]",
      "text/plain": [
       "<Figure size 1440x360 with 1 Axes>"
      ]
     },
     "metadata": {
      "needs_background": "light"
     },
     "output_type": "display_data"
    }
   ],
   "source": [
    "plot_search_results(data_hypertune_n,'num_boost_round')"
   ]
  },
  {
   "cell_type": "markdown",
   "metadata": {},
   "source": [
    "### 2.2.3. Finetune the subsample"
   ]
  },
  {
   "cell_type": "code",
   "execution_count": 40,
   "metadata": {
    "tags": []
   },
   "outputs": [
    {
     "name": "stdout",
     "output_type": "stream",
     "text": [
      "\n",
      "\n",
      "***** Run:  0  |  Subsample size : 0.2\n",
      "[01:17:41] WARNING: ../src/learner.cc:767: \n",
      "Parameters: { \"num_round\" } are not used.\n",
      "\n"
     ]
    },
    {
     "name": "stderr",
     "output_type": "stream",
     "text": [
      "/tmp/ipykernel_2741/3687071205.py:40: FutureWarning: The frame.append method is deprecated and will be removed from pandas in a future version. Use pandas.concat instead.\n",
      "  results_data = results_data.append(ara_data,ignore_index=True)\n"
     ]
    },
    {
     "name": "stdout",
     "output_type": "stream",
     "text": [
      "   gini_train  gini_test\n",
      "0    0.699072   0.673233\n",
      "Execution time: 00:05:15\n",
      "\n",
      "\n",
      "***** Run:  1  |  Subsample size : 0.4\n",
      "[01:22:57] WARNING: ../src/learner.cc:767: \n",
      "Parameters: { \"num_round\" } are not used.\n",
      "\n"
     ]
    },
    {
     "name": "stderr",
     "output_type": "stream",
     "text": [
      "/tmp/ipykernel_2741/3687071205.py:40: FutureWarning: The frame.append method is deprecated and will be removed from pandas in a future version. Use pandas.concat instead.\n",
      "  results_data = results_data.append(ara_data,ignore_index=True)\n"
     ]
    },
    {
     "name": "stdout",
     "output_type": "stream",
     "text": [
      "   gini_train  gini_test\n",
      "0    0.708146   0.682113\n",
      "Execution time: 00:06:54\n",
      "\n",
      "\n",
      "***** Run:  2  |  Subsample size : 0.6\n",
      "[01:29:51] WARNING: ../src/learner.cc:767: \n",
      "Parameters: { \"num_round\" } are not used.\n",
      "\n"
     ]
    },
    {
     "name": "stderr",
     "output_type": "stream",
     "text": [
      "/tmp/ipykernel_2741/3687071205.py:40: FutureWarning: The frame.append method is deprecated and will be removed from pandas in a future version. Use pandas.concat instead.\n",
      "  results_data = results_data.append(ara_data,ignore_index=True)\n"
     ]
    },
    {
     "name": "stdout",
     "output_type": "stream",
     "text": [
      "   gini_train  gini_test\n",
      "0    0.710181   0.682494\n",
      "Execution time: 00:07:36\n",
      "\n",
      "\n",
      "***** Run:  3  |  Subsample size : 0.8\n",
      "[01:37:27] WARNING: ../src/learner.cc:767: \n",
      "Parameters: { \"num_round\" } are not used.\n",
      "\n"
     ]
    },
    {
     "name": "stderr",
     "output_type": "stream",
     "text": [
      "/tmp/ipykernel_2741/3687071205.py:40: FutureWarning: The frame.append method is deprecated and will be removed from pandas in a future version. Use pandas.concat instead.\n",
      "  results_data = results_data.append(ara_data,ignore_index=True)\n"
     ]
    },
    {
     "name": "stdout",
     "output_type": "stream",
     "text": [
      "   gini_train  gini_test\n",
      "0    0.712191   0.685598\n",
      "Execution time: 00:06:52\n",
      "\n",
      "\n",
      "***** Run:  4  |  Subsample size : 1\n",
      "[01:44:20] WARNING: ../src/learner.cc:767: \n",
      "Parameters: { \"num_round\" } are not used.\n",
      "\n",
      "   gini_train  gini_test\n",
      "0    0.712756   0.685642\n",
      "Execution time: 00:06:13\n"
     ]
    },
    {
     "name": "stderr",
     "output_type": "stream",
     "text": [
      "/tmp/ipykernel_2741/3687071205.py:40: FutureWarning: The frame.append method is deprecated and will be removed from pandas in a future version. Use pandas.concat instead.\n",
      "  results_data = results_data.append(ara_data,ignore_index=True)\n"
     ]
    }
   ],
   "source": [
    "xgboost_type = \"Train\"\n",
    "learning_rate = [0.08]\n",
    "n_estimators = [120]\n",
    "subsample = [0.2, 0.4, 0.6, 0.8, 1]\n",
    "max_depth = [6]\n",
    "seed = 1024\n",
    "data_hypertune_ss = xgboost_fine01(xgboost_type,subsample,'ss')"
   ]
  },
  {
   "cell_type": "code",
   "execution_count": 41,
   "metadata": {},
   "outputs": [
    {
     "data": {
      "text/html": [
       "<div>\n",
       "<style scoped>\n",
       "    .dataframe tbody tr th:only-of-type {\n",
       "        vertical-align: middle;\n",
       "    }\n",
       "\n",
       "    .dataframe tbody tr th {\n",
       "        vertical-align: top;\n",
       "    }\n",
       "\n",
       "    .dataframe thead th {\n",
       "        text-align: right;\n",
       "    }\n",
       "</style>\n",
       "<table border=\"1\" class=\"dataframe\">\n",
       "  <thead>\n",
       "    <tr style=\"text-align: right;\">\n",
       "      <th></th>\n",
       "      <th>num_boost_round</th>\n",
       "      <th>learning_rate</th>\n",
       "      <th>subsample</th>\n",
       "      <th>max_depth</th>\n",
       "      <th>gini_train</th>\n",
       "      <th>gini_test</th>\n",
       "      <th>auroc_train</th>\n",
       "      <th>auroc_test</th>\n",
       "      <th>train_test_change</th>\n",
       "    </tr>\n",
       "  </thead>\n",
       "  <tbody>\n",
       "    <tr>\n",
       "      <th>0</th>\n",
       "      <td>120.0</td>\n",
       "      <td>0.08</td>\n",
       "      <td>0.2</td>\n",
       "      <td>6.0</td>\n",
       "      <td>0.699072</td>\n",
       "      <td>0.673233</td>\n",
       "      <td>0.849536</td>\n",
       "      <td>0.836616</td>\n",
       "      <td>-0.036963</td>\n",
       "    </tr>\n",
       "    <tr>\n",
       "      <th>1</th>\n",
       "      <td>120.0</td>\n",
       "      <td>0.08</td>\n",
       "      <td>0.4</td>\n",
       "      <td>6.0</td>\n",
       "      <td>0.708146</td>\n",
       "      <td>0.682113</td>\n",
       "      <td>0.854073</td>\n",
       "      <td>0.841056</td>\n",
       "      <td>-0.036762</td>\n",
       "    </tr>\n",
       "    <tr>\n",
       "      <th>2</th>\n",
       "      <td>120.0</td>\n",
       "      <td>0.08</td>\n",
       "      <td>0.6</td>\n",
       "      <td>6.0</td>\n",
       "      <td>0.710181</td>\n",
       "      <td>0.682494</td>\n",
       "      <td>0.855090</td>\n",
       "      <td>0.841247</td>\n",
       "      <td>-0.038985</td>\n",
       "    </tr>\n",
       "    <tr>\n",
       "      <th>3</th>\n",
       "      <td>120.0</td>\n",
       "      <td>0.08</td>\n",
       "      <td>0.8</td>\n",
       "      <td>6.0</td>\n",
       "      <td>0.712191</td>\n",
       "      <td>0.685598</td>\n",
       "      <td>0.856095</td>\n",
       "      <td>0.842799</td>\n",
       "      <td>-0.037339</td>\n",
       "    </tr>\n",
       "    <tr>\n",
       "      <th>4</th>\n",
       "      <td>120.0</td>\n",
       "      <td>0.08</td>\n",
       "      <td>1.0</td>\n",
       "      <td>6.0</td>\n",
       "      <td>0.712756</td>\n",
       "      <td>0.685642</td>\n",
       "      <td>0.856378</td>\n",
       "      <td>0.842821</td>\n",
       "      <td>-0.038041</td>\n",
       "    </tr>\n",
       "  </tbody>\n",
       "</table>\n",
       "</div>"
      ],
      "text/plain": [
       "   num_boost_round  learning_rate  subsample  max_depth  gini_train  \\\n",
       "0            120.0           0.08        0.2        6.0    0.699072   \n",
       "1            120.0           0.08        0.4        6.0    0.708146   \n",
       "2            120.0           0.08        0.6        6.0    0.710181   \n",
       "3            120.0           0.08        0.8        6.0    0.712191   \n",
       "4            120.0           0.08        1.0        6.0    0.712756   \n",
       "\n",
       "   gini_test  auroc_train  auroc_test  train_test_change  \n",
       "0   0.673233     0.849536    0.836616          -0.036963  \n",
       "1   0.682113     0.854073    0.841056          -0.036762  \n",
       "2   0.682494     0.855090    0.841247          -0.038985  \n",
       "3   0.685598     0.856095    0.842799          -0.037339  \n",
       "4   0.685642     0.856378    0.842821          -0.038041  "
      ]
     },
     "execution_count": 41,
     "metadata": {},
     "output_type": "execute_result"
    }
   ],
   "source": [
    "data_hypertune_ss"
   ]
  },
  {
   "cell_type": "code",
   "execution_count": 42,
   "metadata": {},
   "outputs": [
    {
     "data": {
      "image/png": "[encoded data removed]",
      "text/plain": [
       "<Figure size 1440x360 with 1 Axes>"
      ]
     },
     "metadata": {
      "needs_background": "light"
     },
     "output_type": "display_data"
    }
   ],
   "source": [
    "plot_search_results(data_hypertune_ss,'subsample')"
   ]
  },
  {
   "cell_type": "markdown",
   "metadata": {},
   "source": [
    "### 2.2.4. Finetune the maximum depth"
   ]
  },
  {
   "cell_type": "code",
   "execution_count": 43,
   "metadata": {
    "tags": []
   },
   "outputs": [
    {
     "name": "stdout",
     "output_type": "stream",
     "text": [
      "\n",
      "\n",
      "***** Run:  0  |  Maximum depth : 2\n",
      "[01:52:22] WARNING: ../src/learner.cc:767: \n",
      "Parameters: { \"num_round\" } are not used.\n",
      "\n"
     ]
    },
    {
     "name": "stderr",
     "output_type": "stream",
     "text": [
      "/tmp/ipykernel_2741/3687071205.py:40: FutureWarning: The frame.append method is deprecated and will be removed from pandas in a future version. Use pandas.concat instead.\n",
      "  results_data = results_data.append(ara_data,ignore_index=True)\n"
     ]
    },
    {
     "name": "stdout",
     "output_type": "stream",
     "text": [
      "   gini_train  gini_test\n",
      "0    0.596962    0.59281\n",
      "Execution time: 00:03:01\n",
      "\n",
      "\n",
      "***** Run:  1  |  Maximum depth : 4\n",
      "[01:55:24] WARNING: ../src/learner.cc:767: \n",
      "Parameters: { \"num_round\" } are not used.\n",
      "\n"
     ]
    },
    {
     "name": "stderr",
     "output_type": "stream",
     "text": [
      "/tmp/ipykernel_2741/3687071205.py:40: FutureWarning: The frame.append method is deprecated and will be removed from pandas in a future version. Use pandas.concat instead.\n",
      "  results_data = results_data.append(ara_data,ignore_index=True)\n"
     ]
    },
    {
     "name": "stdout",
     "output_type": "stream",
     "text": [
      "   gini_train  gini_test\n",
      "0    0.642292   0.633301\n",
      "Execution time: 00:05:01\n",
      "\n",
      "\n",
      "***** Run:  2  |  Maximum depth : 6\n",
      "[02:00:25] WARNING: ../src/learner.cc:767: \n",
      "Parameters: { \"num_round\" } are not used.\n",
      "\n"
     ]
    },
    {
     "name": "stderr",
     "output_type": "stream",
     "text": [
      "/tmp/ipykernel_2741/3687071205.py:40: FutureWarning: The frame.append method is deprecated and will be removed from pandas in a future version. Use pandas.concat instead.\n",
      "  results_data = results_data.append(ara_data,ignore_index=True)\n"
     ]
    },
    {
     "name": "stdout",
     "output_type": "stream",
     "text": [
      "   gini_train  gini_test\n",
      "0    0.712191   0.685598\n",
      "Execution time: 00:07:04\n",
      "\n",
      "\n",
      "***** Run:  3  |  Maximum depth : 8\n",
      "[02:07:30] WARNING: ../src/learner.cc:767: \n",
      "Parameters: { \"num_round\" } are not used.\n",
      "\n"
     ]
    },
    {
     "name": "stderr",
     "output_type": "stream",
     "text": [
      "/tmp/ipykernel_2741/3687071205.py:40: FutureWarning: The frame.append method is deprecated and will be removed from pandas in a future version. Use pandas.concat instead.\n",
      "  results_data = results_data.append(ara_data,ignore_index=True)\n"
     ]
    },
    {
     "name": "stdout",
     "output_type": "stream",
     "text": [
      "   gini_train  gini_test\n",
      "0    0.838605   0.769623\n",
      "Execution time: 00:09:34\n",
      "\n",
      "\n",
      "***** Run:  4  |  Maximum depth : 10\n",
      "[02:17:04] WARNING: ../src/learner.cc:767: \n",
      "Parameters: { \"num_round\" } are not used.\n",
      "\n",
      "   gini_train  gini_test\n",
      "0    0.959428   0.852305\n",
      "Execution time: 00:12:44\n"
     ]
    },
    {
     "name": "stderr",
     "output_type": "stream",
     "text": [
      "/tmp/ipykernel_2741/3687071205.py:40: FutureWarning: The frame.append method is deprecated and will be removed from pandas in a future version. Use pandas.concat instead.\n",
      "  results_data = results_data.append(ara_data,ignore_index=True)\n"
     ]
    }
   ],
   "source": [
    "xgboost_type = \"Train\"\n",
    "learning_rate = [0.08]\n",
    "n_estimators = [120]\n",
    "subsample = [0.8]\n",
    "max_depth = [2, 4, 6, 8, 10]\n",
    "seed = 1024\n",
    "data_hypertune_md = xgboost_fine01(xgboost_type,max_depth,'md')"
   ]
  },
  {
   "cell_type": "code",
   "execution_count": 44,
   "metadata": {},
   "outputs": [
    {
     "data": {
      "text/html": [
       "<div>\n",
       "<style scoped>\n",
       "    .dataframe tbody tr th:only-of-type {\n",
       "        vertical-align: middle;\n",
       "    }\n",
       "\n",
       "    .dataframe tbody tr th {\n",
       "        vertical-align: top;\n",
       "    }\n",
       "\n",
       "    .dataframe thead th {\n",
       "        text-align: right;\n",
       "    }\n",
       "</style>\n",
       "<table border=\"1\" class=\"dataframe\">\n",
       "  <thead>\n",
       "    <tr style=\"text-align: right;\">\n",
       "      <th></th>\n",
       "      <th>num_boost_round</th>\n",
       "      <th>learning_rate</th>\n",
       "      <th>subsample</th>\n",
       "      <th>max_depth</th>\n",
       "      <th>gini_train</th>\n",
       "      <th>gini_test</th>\n",
       "      <th>auroc_train</th>\n",
       "      <th>auroc_test</th>\n",
       "      <th>train_test_change</th>\n",
       "    </tr>\n",
       "  </thead>\n",
       "  <tbody>\n",
       "    <tr>\n",
       "      <th>0</th>\n",
       "      <td>120.0</td>\n",
       "      <td>0.08</td>\n",
       "      <td>0.8</td>\n",
       "      <td>2.0</td>\n",
       "      <td>0.596962</td>\n",
       "      <td>0.592810</td>\n",
       "      <td>0.798481</td>\n",
       "      <td>0.796405</td>\n",
       "      <td>-0.006955</td>\n",
       "    </tr>\n",
       "    <tr>\n",
       "      <th>1</th>\n",
       "      <td>120.0</td>\n",
       "      <td>0.08</td>\n",
       "      <td>0.8</td>\n",
       "      <td>4.0</td>\n",
       "      <td>0.642292</td>\n",
       "      <td>0.633301</td>\n",
       "      <td>0.821146</td>\n",
       "      <td>0.816651</td>\n",
       "      <td>-0.013997</td>\n",
       "    </tr>\n",
       "    <tr>\n",
       "      <th>2</th>\n",
       "      <td>120.0</td>\n",
       "      <td>0.08</td>\n",
       "      <td>0.8</td>\n",
       "      <td>6.0</td>\n",
       "      <td>0.712191</td>\n",
       "      <td>0.685598</td>\n",
       "      <td>0.856095</td>\n",
       "      <td>0.842799</td>\n",
       "      <td>-0.037339</td>\n",
       "    </tr>\n",
       "    <tr>\n",
       "      <th>3</th>\n",
       "      <td>120.0</td>\n",
       "      <td>0.08</td>\n",
       "      <td>0.8</td>\n",
       "      <td>8.0</td>\n",
       "      <td>0.838605</td>\n",
       "      <td>0.769623</td>\n",
       "      <td>0.919303</td>\n",
       "      <td>0.884811</td>\n",
       "      <td>-0.082259</td>\n",
       "    </tr>\n",
       "    <tr>\n",
       "      <th>4</th>\n",
       "      <td>120.0</td>\n",
       "      <td>0.08</td>\n",
       "      <td>0.8</td>\n",
       "      <td>10.0</td>\n",
       "      <td>0.959428</td>\n",
       "      <td>0.852305</td>\n",
       "      <td>0.979714</td>\n",
       "      <td>0.926153</td>\n",
       "      <td>-0.111653</td>\n",
       "    </tr>\n",
       "  </tbody>\n",
       "</table>\n",
       "</div>"
      ],
      "text/plain": [
       "   num_boost_round  learning_rate  subsample  max_depth  gini_train  \\\n",
       "0            120.0           0.08        0.8        2.0    0.596962   \n",
       "1            120.0           0.08        0.8        4.0    0.642292   \n",
       "2            120.0           0.08        0.8        6.0    0.712191   \n",
       "3            120.0           0.08        0.8        8.0    0.838605   \n",
       "4            120.0           0.08        0.8       10.0    0.959428   \n",
       "\n",
       "   gini_test  auroc_train  auroc_test  train_test_change  \n",
       "0   0.592810     0.798481    0.796405          -0.006955  \n",
       "1   0.633301     0.821146    0.816651          -0.013997  \n",
       "2   0.685598     0.856095    0.842799          -0.037339  \n",
       "3   0.769623     0.919303    0.884811          -0.082259  \n",
       "4   0.852305     0.979714    0.926153          -0.111653  "
      ]
     },
     "execution_count": 44,
     "metadata": {},
     "output_type": "execute_result"
    }
   ],
   "source": [
    "data_hypertune_md"
   ]
  },
  {
   "cell_type": "code",
   "execution_count": 45,
   "metadata": {},
   "outputs": [
    {
     "data": {
      "image/png": "[encoded data removed]",
      "text/plain": [
       "<Figure size 1440x360 with 1 Axes>"
      ]
     },
     "metadata": {
      "needs_background": "light"
     },
     "output_type": "display_data"
    }
   ],
   "source": [
    "plot_search_results(data_hypertune_md,'max_depth')"
   ]
  },
  {
   "cell_type": "markdown",
   "metadata": {},
   "source": [
    "## 2.3. Execute and save the best configuration"
   ]
  },
  {
   "cell_type": "code",
   "execution_count": 27,
   "metadata": {},
   "outputs": [
    {
     "name": "stdout",
     "output_type": "stream",
     "text": [
      "[13:32:25] WARNING: ../src/learner.cc:767: \n",
      "Parameters: { \"num_round\" } are not used.\n",
      "\n"
     ]
    }
   ],
   "source": [
    "lr = 0.08\n",
    "n = 120\n",
    "ss = 0.08\n",
    "md = 6\n",
    "seed = 1024\n",
    "\n",
    "params_train={\n",
    "    'objective': 'binary:logistic',\n",
    "    'num_round':n,\n",
    "    'learning_rate':lr,\n",
    "    'subsample':ss,    \n",
    "    'max_depth':md,\n",
    "    'seed':seed,\n",
    "    'eval_metric':'auc'\n",
    "}\n",
    "\n",
    "watchlist = [(data_dmatrix_test, 'eval'), (data_dmatrix_train, 'train')]\n",
    "best_model_train = xgb.train(\n",
    "    params_train, \n",
    "    data_dmatrix_train, \n",
    "    n,\n",
    "    evals=watchlist,\n",
    "    verbose_eval=False\n",
    ")"
   ]
  },
  {
   "cell_type": "code",
   "execution_count": 28,
   "metadata": {},
   "outputs": [
    {
     "name": "stdout",
     "output_type": "stream",
     "text": [
      "Gini train: 0.674757095329086\n",
      "Gini test: 0.6538710673832604\n"
     ]
    }
   ],
   "source": [
    "y_train_pred = best_model_train.predict(data_dmatrix_train) \n",
    "roc_auc_train = roc_auc_score(y_train, y_train_pred)\n",
    "gini_train = 2*roc_auc_train - 1\n",
    "\n",
    "y_test_pred = best_model_train.predict(data_dmatrix_test) \n",
    "roc_auc_test = roc_auc_score(y_test, y_test_pred)\n",
    "gini_test = 2*roc_auc_test - 1\n",
    "train_test_change = (gini_test/gini_train)-1\n",
    "\n",
    "print(\"Gini train:\", gini_train)\n",
    "print(\"Gini test:\", gini_test)"
   ]
  },
  {
   "cell_type": "code",
   "execution_count": 29,
   "metadata": {},
   "outputs": [
    {
     "data": {
      "text/plain": [
       "<AxesSubplot: >"
      ]
     },
     "execution_count": 29,
     "metadata": {},
     "output_type": "execute_result"
    },
    {
     "data": {
      "image/png": "[encoded data removed]",
      "text/plain": [
       "<Figure size 1440x720 with 1 Axes>"
      ]
     },
     "metadata": {
      "needs_background": "light"
     },
     "output_type": "display_data"
    }
   ],
   "source": [
    "feature_important = best_model_train.get_score(importance_type='weight')\n",
    "keys = list(feature_important.keys())\n",
    "values = list(feature_important.values())\n",
    "\n",
    "data_features = pd.DataFrame(data=values, index=keys, columns=[\"score\"]).sort_values(by = \"score\", ascending=False)\n",
    "data_features.nlargest(20, columns=\"score\").plot(kind='barh', figsize = (20,10)) ## plot top 20 features"
   ]
  },
  {
   "cell_type": "code",
   "execution_count": 30,
   "metadata": {},
   "outputs": [
    {
     "data": {
      "text/plain": [
       "333"
      ]
     },
     "execution_count": 30,
     "metadata": {},
     "output_type": "execute_result"
    }
   ],
   "source": [
    "num = data_features.shape[0]\n",
    "num"
   ]
  },
  {
   "cell_type": "code",
   "execution_count": 31,
   "metadata": {},
   "outputs": [
    {
     "data": {
      "text/html": [
       "<div>\n",
       "<style scoped>\n",
       "    .dataframe tbody tr th:only-of-type {\n",
       "        vertical-align: middle;\n",
       "    }\n",
       "\n",
       "    .dataframe tbody tr th {\n",
       "        vertical-align: top;\n",
       "    }\n",
       "\n",
       "    .dataframe thead th {\n",
       "        text-align: right;\n",
       "    }\n",
       "</style>\n",
       "<table border=\"1\" class=\"dataframe\">\n",
       "  <thead>\n",
       "    <tr style=\"text-align: right;\">\n",
       "      <th></th>\n",
       "      <th>top_features_num</th>\n",
       "      <th>gini_train</th>\n",
       "      <th>gini_test</th>\n",
       "      <th>auc_train</th>\n",
       "      <th>auc_test</th>\n",
       "      <th>train_test_change</th>\n",
       "    </tr>\n",
       "  </thead>\n",
       "  <tbody>\n",
       "    <tr>\n",
       "      <th>0</th>\n",
       "      <td>333.0</td>\n",
       "      <td>0.674757</td>\n",
       "      <td>0.653871</td>\n",
       "      <td>0.837379</td>\n",
       "      <td>0.826936</td>\n",
       "      <td>-0.030953</td>\n",
       "    </tr>\n",
       "  </tbody>\n",
       "</table>\n",
       "</div>"
      ],
      "text/plain": [
       "   top_features_num  gini_train  gini_test  auc_train  auc_test  \\\n",
       "0             333.0    0.674757   0.653871   0.837379  0.826936   \n",
       "\n",
       "   train_test_change  \n",
       "0          -0.030953  "
      ]
     },
     "execution_count": 31,
     "metadata": {},
     "output_type": "execute_result"
    }
   ],
   "source": [
    "num = data_features.shape[0]\n",
    "results_data_model_optimized = pd.DataFrame(columns=['top_features_num','gini_train','gini_test','auc_train','auc_test','train_test_change'])\n",
    "results_data_model_optimized.loc[0] = [num,gini_train,gini_test,roc_auc_train,roc_auc_test,train_test_change]\n",
    "results_data_model_optimized"
   ]
  },
  {
   "cell_type": "markdown",
   "metadata": {},
   "source": [
    "## 2.4. Execute the xgboost using the most important features"
   ]
  },
  {
   "cell_type": "code",
   "execution_count": 32,
   "metadata": {},
   "outputs": [],
   "source": [
    "def func_xgboost_selfeatures(num_selected_features):\n",
    "    global results_data\n",
    "    results_data = pd.DataFrame(columns=['top_features_num','gini_train','gini_test','auc_train','auc_test','train_test_change'])\n",
    "    i = 0\n",
    "    for num in num_selected_features:\n",
    "        st = time.time()\n",
    "        print(\"\")\n",
    "        print(\"**********************************************************************************************************\")\n",
    "        print(\"Number of top features:\", num)\n",
    "        data_selected_features = data_features[:num]\n",
    "\n",
    "        selected_features = data_selected_features.index.to_list()\n",
    "        X_train2 = X_train[selected_features]\n",
    "        X_test2 = X_test[selected_features]\n",
    "        data_dmatrix_train2 = xgb.DMatrix(data=X_train2,label=y_train)\n",
    "        data_dmatrix_test2 = xgb.DMatrix(data=X_test2,label=y_test)\n",
    "\n",
    "        lr = 0.1\n",
    "        n = 250\n",
    "        ss = 1\n",
    "        md = 6\n",
    "        seed = 1024\n",
    "\n",
    "        params_train={\n",
    "        'objective': 'binary:logistic',\n",
    "        'num_round':n,\n",
    "        'learning_rate':lr,\n",
    "        'subsample':ss,    \n",
    "        'max_depth':md,\n",
    "        'seed':seed,\n",
    "        'eval_metric':'auc'\n",
    "        }\n",
    "\n",
    "        watchlist = [(data_dmatrix_test2, 'eval'), (data_dmatrix_train2, 'train')]\n",
    "        best_model_train2 = xgb.train(\n",
    "            params_train, \n",
    "            data_dmatrix_train2, \n",
    "            n,\n",
    "            evals=watchlist,\n",
    "            verbose_eval=False\n",
    "        )\n",
    "\n",
    "        y_train_pred = best_model_train2.predict(data_dmatrix_train2) \n",
    "        roc_auc_train = roc_auc_score(y_train, y_train_pred)\n",
    "        gini_train = 2*roc_auc_train - 1\n",
    "\n",
    "        y_test_pred = best_model_train2.predict(data_dmatrix_test2) \n",
    "        roc_auc_test = roc_auc_score(y_test, y_test_pred)\n",
    "        gini_test = 2*roc_auc_test - 1\n",
    "        train_test_change = (gini_test/gini_train)-1\n",
    "\n",
    "        print(\"Gini train:\", gini_train)\n",
    "        print(\"Gini test:\", gini_test)\n",
    "\n",
    "        ara_data = pd.DataFrame(\n",
    "            columns=[\n",
    "                'top_features_num',\n",
    "                'gini_train',\n",
    "                'gini_test',\n",
    "                'auc_train',\n",
    "                'auc_test',\n",
    "                'train_test_change'\n",
    "                ]\n",
    "        )\n",
    "\n",
    "        ara_data.loc[0] = [num,gini_train,gini_test,roc_auc_train,roc_auc_test,train_test_change]\n",
    "\n",
    "        results_data = results_data.append(ara_data, ignore_index=True)\n",
    "\n",
    "        del ara_data\n",
    "\n",
    "        i = i + 1\n",
    "\n",
    "        et = time.time()\n",
    "        elapsed_time = et - st\n",
    "        print('Execution time:', time.strftime(\"%H:%M:%S\", time.gmtime(elapsed_time)))\n",
    "        \n",
    "    return results_data"
   ]
  },
  {
   "cell_type": "code",
   "execution_count": 52,
   "metadata": {
    "collapsed": true,
    "jupyter": {
     "outputs_hidden": true
    },
    "tags": []
   },
   "outputs": [
    {
     "name": "stdout",
     "output_type": "stream",
     "text": [
      "\n",
      "**********************************************************************************************************\n",
      "Number of top features: 10\n",
      "[02:46:00] WARNING: ../src/learner.cc:767: \n",
      "Parameters: { \"num_round\" } are not used.\n",
      "\n",
      "Gini train: 0.6334761128047737\n",
      "Gini test: 0.5989570546692686\n",
      "Execution time: 00:01:14\n",
      "\n",
      "**********************************************************************************************************\n",
      "Number of top features: 15\n"
     ]
    },
    {
     "name": "stderr",
     "output_type": "stream",
     "text": [
      "/tmp/ipykernel_2741/1343551098.py:68: FutureWarning: The frame.append method is deprecated and will be removed from pandas in a future version. Use pandas.concat instead.\n",
      "  results_data = results_data.append(ara_data, ignore_index=True)\n"
     ]
    },
    {
     "name": "stdout",
     "output_type": "stream",
     "text": [
      "[02:47:15] WARNING: ../src/learner.cc:767: \n",
      "Parameters: { \"num_round\" } are not used.\n",
      "\n",
      "Gini train: 0.6755339041450532\n",
      "Gini test: 0.6412447364389171\n",
      "Execution time: 00:01:25\n",
      "\n",
      "**********************************************************************************************************\n",
      "Number of top features: 20\n"
     ]
    },
    {
     "name": "stderr",
     "output_type": "stream",
     "text": [
      "/tmp/ipykernel_2741/1343551098.py:68: FutureWarning: The frame.append method is deprecated and will be removed from pandas in a future version. Use pandas.concat instead.\n",
      "  results_data = results_data.append(ara_data, ignore_index=True)\n"
     ]
    },
    {
     "name": "stdout",
     "output_type": "stream",
     "text": [
      "[02:48:41] WARNING: ../src/learner.cc:767: \n",
      "Parameters: { \"num_round\" } are not used.\n",
      "\n",
      "Gini train: 0.6935470178389864\n",
      "Gini test: 0.6551609405875685\n",
      "Execution time: 00:01:43\n",
      "\n",
      "**********************************************************************************************************\n",
      "Number of top features: 25\n"
     ]
    },
    {
     "name": "stderr",
     "output_type": "stream",
     "text": [
      "/tmp/ipykernel_2741/1343551098.py:68: FutureWarning: The frame.append method is deprecated and will be removed from pandas in a future version. Use pandas.concat instead.\n",
      "  results_data = results_data.append(ara_data, ignore_index=True)\n"
     ]
    },
    {
     "name": "stdout",
     "output_type": "stream",
     "text": [
      "[02:50:24] WARNING: ../src/learner.cc:767: \n",
      "Parameters: { \"num_round\" } are not used.\n",
      "\n",
      "Gini train: 0.7107725155600957\n",
      "Gini test: 0.6684303035485335\n",
      "Execution time: 00:01:57\n",
      "\n",
      "**********************************************************************************************************\n",
      "Number of top features: 30\n"
     ]
    },
    {
     "name": "stderr",
     "output_type": "stream",
     "text": [
      "/tmp/ipykernel_2741/1343551098.py:68: FutureWarning: The frame.append method is deprecated and will be removed from pandas in a future version. Use pandas.concat instead.\n",
      "  results_data = results_data.append(ara_data, ignore_index=True)\n"
     ]
    },
    {
     "name": "stdout",
     "output_type": "stream",
     "text": [
      "[02:52:22] WARNING: ../src/learner.cc:767: \n",
      "Parameters: { \"num_round\" } are not used.\n",
      "\n",
      "Gini train: 0.7192703949506023\n",
      "Gini test: 0.6768425277154715\n",
      "Execution time: 00:02:07\n",
      "\n",
      "**********************************************************************************************************\n",
      "Number of top features: 40\n"
     ]
    },
    {
     "name": "stderr",
     "output_type": "stream",
     "text": [
      "/tmp/ipykernel_2741/1343551098.py:68: FutureWarning: The frame.append method is deprecated and will be removed from pandas in a future version. Use pandas.concat instead.\n",
      "  results_data = results_data.append(ara_data, ignore_index=True)\n"
     ]
    },
    {
     "name": "stdout",
     "output_type": "stream",
     "text": [
      "[02:54:29] WARNING: ../src/learner.cc:767: \n",
      "Parameters: { \"num_round\" } are not used.\n",
      "\n",
      "Gini train: 0.7314635675197845\n",
      "Gini test: 0.6891444953317993\n",
      "Execution time: 00:02:33\n",
      "\n",
      "**********************************************************************************************************\n",
      "Number of top features: 50\n"
     ]
    },
    {
     "name": "stderr",
     "output_type": "stream",
     "text": [
      "/tmp/ipykernel_2741/1343551098.py:68: FutureWarning: The frame.append method is deprecated and will be removed from pandas in a future version. Use pandas.concat instead.\n",
      "  results_data = results_data.append(ara_data, ignore_index=True)\n"
     ]
    },
    {
     "name": "stdout",
     "output_type": "stream",
     "text": [
      "[02:57:03] WARNING: ../src/learner.cc:767: \n",
      "Parameters: { \"num_round\" } are not used.\n",
      "\n",
      "Gini train: 0.7447804192946446\n",
      "Gini test: 0.7001030228120668\n",
      "Execution time: 00:02:56\n",
      "\n",
      "**********************************************************************************************************\n",
      "Number of top features: 75\n"
     ]
    },
    {
     "name": "stderr",
     "output_type": "stream",
     "text": [
      "/tmp/ipykernel_2741/1343551098.py:68: FutureWarning: The frame.append method is deprecated and will be removed from pandas in a future version. Use pandas.concat instead.\n",
      "  results_data = results_data.append(ara_data, ignore_index=True)\n"
     ]
    },
    {
     "name": "stdout",
     "output_type": "stream",
     "text": [
      "[03:00:00] WARNING: ../src/learner.cc:767: \n",
      "Parameters: { \"num_round\" } are not used.\n",
      "\n",
      "Gini train: 0.7692721328183922\n",
      "Gini test: 0.7207213307690354\n",
      "Execution time: 00:03:55\n",
      "\n",
      "**********************************************************************************************************\n",
      "Number of top features: 100\n"
     ]
    },
    {
     "name": "stderr",
     "output_type": "stream",
     "text": [
      "/tmp/ipykernel_2741/1343551098.py:68: FutureWarning: The frame.append method is deprecated and will be removed from pandas in a future version. Use pandas.concat instead.\n",
      "  results_data = results_data.append(ara_data, ignore_index=True)\n"
     ]
    },
    {
     "name": "stdout",
     "output_type": "stream",
     "text": [
      "[03:03:56] WARNING: ../src/learner.cc:767: \n",
      "Parameters: { \"num_round\" } are not used.\n",
      "\n",
      "Gini train: 0.7794805181766473\n",
      "Gini test: 0.7274057001040706\n",
      "Execution time: 00:05:06\n"
     ]
    },
    {
     "name": "stderr",
     "output_type": "stream",
     "text": [
      "/tmp/ipykernel_2741/1343551098.py:68: FutureWarning: The frame.append method is deprecated and will be removed from pandas in a future version. Use pandas.concat instead.\n",
      "  results_data = results_data.append(ara_data, ignore_index=True)\n"
     ]
    }
   ],
   "source": [
    "num_selected_features_inicial = [10, 15, 20, 25, 30, 40, 50, 75, 100]\n",
    "results_data = func_xgboost_selfeatures(num_selected_features_inicial)"
   ]
  },
  {
   "cell_type": "code",
   "execution_count": 53,
   "metadata": {
    "collapsed": true,
    "jupyter": {
     "outputs_hidden": true
    },
    "tags": []
   },
   "outputs": [
    {
     "name": "stderr",
     "output_type": "stream",
     "text": [
      "/tmp/ipykernel_2741/1829555331.py:1: FutureWarning: The frame.append method is deprecated and will be removed from pandas in a future version. Use pandas.concat instead.\n",
      "  results_data_all = results_data.append(results_data_model_optimized)\n"
     ]
    },
    {
     "data": {
      "text/html": [
       "<div>\n",
       "<style scoped>\n",
       "    .dataframe tbody tr th:only-of-type {\n",
       "        vertical-align: middle;\n",
       "    }\n",
       "\n",
       "    .dataframe tbody tr th {\n",
       "        vertical-align: top;\n",
       "    }\n",
       "\n",
       "    .dataframe thead th {\n",
       "        text-align: right;\n",
       "    }\n",
       "</style>\n",
       "<table border=\"1\" class=\"dataframe\">\n",
       "  <thead>\n",
       "    <tr style=\"text-align: right;\">\n",
       "      <th></th>\n",
       "      <th>top_features_num</th>\n",
       "      <th>gini_train</th>\n",
       "      <th>gini_test</th>\n",
       "      <th>auc_train</th>\n",
       "      <th>auc_test</th>\n",
       "      <th>train_test_change</th>\n",
       "    </tr>\n",
       "  </thead>\n",
       "  <tbody>\n",
       "    <tr>\n",
       "      <th>0</th>\n",
       "      <td>10.0</td>\n",
       "      <td>0.633476</td>\n",
       "      <td>0.598957</td>\n",
       "      <td>0.816738</td>\n",
       "      <td>0.799479</td>\n",
       "      <td>-0.054491</td>\n",
       "    </tr>\n",
       "    <tr>\n",
       "      <th>1</th>\n",
       "      <td>15.0</td>\n",
       "      <td>0.675534</td>\n",
       "      <td>0.641245</td>\n",
       "      <td>0.837767</td>\n",
       "      <td>0.820622</td>\n",
       "      <td>-0.050759</td>\n",
       "    </tr>\n",
       "    <tr>\n",
       "      <th>2</th>\n",
       "      <td>20.0</td>\n",
       "      <td>0.693547</td>\n",
       "      <td>0.655161</td>\n",
       "      <td>0.846774</td>\n",
       "      <td>0.827580</td>\n",
       "      <td>-0.055347</td>\n",
       "    </tr>\n",
       "    <tr>\n",
       "      <th>3</th>\n",
       "      <td>25.0</td>\n",
       "      <td>0.710773</td>\n",
       "      <td>0.668430</td>\n",
       "      <td>0.855386</td>\n",
       "      <td>0.834215</td>\n",
       "      <td>-0.059572</td>\n",
       "    </tr>\n",
       "    <tr>\n",
       "      <th>4</th>\n",
       "      <td>30.0</td>\n",
       "      <td>0.719270</td>\n",
       "      <td>0.676843</td>\n",
       "      <td>0.859635</td>\n",
       "      <td>0.838421</td>\n",
       "      <td>-0.058987</td>\n",
       "    </tr>\n",
       "    <tr>\n",
       "      <th>5</th>\n",
       "      <td>40.0</td>\n",
       "      <td>0.731464</td>\n",
       "      <td>0.689144</td>\n",
       "      <td>0.865732</td>\n",
       "      <td>0.844572</td>\n",
       "      <td>-0.057855</td>\n",
       "    </tr>\n",
       "    <tr>\n",
       "      <th>6</th>\n",
       "      <td>50.0</td>\n",
       "      <td>0.744780</td>\n",
       "      <td>0.700103</td>\n",
       "      <td>0.872390</td>\n",
       "      <td>0.850052</td>\n",
       "      <td>-0.059987</td>\n",
       "    </tr>\n",
       "    <tr>\n",
       "      <th>7</th>\n",
       "      <td>75.0</td>\n",
       "      <td>0.769272</td>\n",
       "      <td>0.720721</td>\n",
       "      <td>0.884636</td>\n",
       "      <td>0.860361</td>\n",
       "      <td>-0.063113</td>\n",
       "    </tr>\n",
       "    <tr>\n",
       "      <th>8</th>\n",
       "      <td>100.0</td>\n",
       "      <td>0.779481</td>\n",
       "      <td>0.727406</td>\n",
       "      <td>0.889740</td>\n",
       "      <td>0.863703</td>\n",
       "      <td>-0.066807</td>\n",
       "    </tr>\n",
       "    <tr>\n",
       "      <th>0</th>\n",
       "      <td>333.0</td>\n",
       "      <td>0.674757</td>\n",
       "      <td>0.653871</td>\n",
       "      <td>0.837379</td>\n",
       "      <td>0.826936</td>\n",
       "      <td>-0.030953</td>\n",
       "    </tr>\n",
       "  </tbody>\n",
       "</table>\n",
       "</div>"
      ],
      "text/plain": [
       "   top_features_num  gini_train  gini_test  auc_train  auc_test  \\\n",
       "0              10.0    0.633476   0.598957   0.816738  0.799479   \n",
       "1              15.0    0.675534   0.641245   0.837767  0.820622   \n",
       "2              20.0    0.693547   0.655161   0.846774  0.827580   \n",
       "3              25.0    0.710773   0.668430   0.855386  0.834215   \n",
       "4              30.0    0.719270   0.676843   0.859635  0.838421   \n",
       "5              40.0    0.731464   0.689144   0.865732  0.844572   \n",
       "6              50.0    0.744780   0.700103   0.872390  0.850052   \n",
       "7              75.0    0.769272   0.720721   0.884636  0.860361   \n",
       "8             100.0    0.779481   0.727406   0.889740  0.863703   \n",
       "0             333.0    0.674757   0.653871   0.837379  0.826936   \n",
       "\n",
       "   train_test_change  \n",
       "0          -0.054491  \n",
       "1          -0.050759  \n",
       "2          -0.055347  \n",
       "3          -0.059572  \n",
       "4          -0.058987  \n",
       "5          -0.057855  \n",
       "6          -0.059987  \n",
       "7          -0.063113  \n",
       "8          -0.066807  \n",
       "0          -0.030953  "
      ]
     },
     "execution_count": 53,
     "metadata": {},
     "output_type": "execute_result"
    }
   ],
   "source": [
    "results_data_all = results_data.append(results_data_model_optimized)\n",
    "results_data_all"
   ]
  },
  {
   "cell_type": "code",
   "execution_count": 54,
   "metadata": {
    "collapsed": true,
    "jupyter": {
     "outputs_hidden": true
    },
    "tags": []
   },
   "outputs": [
    {
     "data": {
      "image/png": "[encoded data removed]",
      "text/plain": [
       "<Figure size 1440x360 with 1 Axes>"
      ]
     },
     "metadata": {
      "needs_background": "light"
     },
     "output_type": "display_data"
    }
   ],
   "source": [
    "plot_search_results(results_data_all,'top_features_num')"
   ]
  },
  {
   "cell_type": "markdown",
   "metadata": {},
   "source": [
    "## 2.5. Check whether the model's performance - where the model has been estimated with the selected features - can be increased "
   ]
  },
  {
   "cell_type": "code",
   "execution_count": 33,
   "metadata": {},
   "outputs": [
    {
     "name": "stdout",
     "output_type": "stream",
     "text": [
      "['var_241', 'var_248', 'var_113', 'var_249', 'var_240', 'var_372', 'var_242', 'var_11', 'var_114', 'var_14', 'var_145', 'var_389', 'var_252', 'var_250', 'var_9', 'var_146', 'var_301', 'var_116', 'var_54', 'var_290', 'var_262', 'var_179', 'var_438', 'var_273', 'var_264']\n"
     ]
    }
   ],
   "source": [
    "data_selected_features = data_features[:25]\n",
    "selected_features = data_selected_features.index.to_list() \n",
    "print(selected_features)\n",
    "X_train = df_train_panda2[selected_features]\n",
    "X_test = df_test_panda2[selected_features]\n",
    "\n",
    "data_dmatrix_train = xgb.DMatrix(data=X_train,label=y_train)\n",
    "data_dmatrix_test = xgb.DMatrix(data=X_test,label=y_test)\n",
    "\n",
    "df = pd.DataFrame({'variable':selected_features})\n",
    "df.to_csv(ruta_reportes_mv + 'df_xgboost_topvars_varlist.csv', index=False)"
   ]
  },
  {
   "cell_type": "markdown",
   "metadata": {},
   "source": [
    "### 2.5.1. Finetune the learning rate"
   ]
  },
  {
   "cell_type": "code",
   "execution_count": 56,
   "metadata": {
    "tags": []
   },
   "outputs": [
    {
     "name": "stdout",
     "output_type": "stream",
     "text": [
      "\n",
      "\n",
      "***** Run:  0  |  Learning rate : 0.01\n",
      "[03:11:02] WARNING: ../src/learner.cc:767: \n",
      "Parameters: { \"num_round\" } are not used.\n",
      "\n"
     ]
    },
    {
     "name": "stderr",
     "output_type": "stream",
     "text": [
      "/tmp/ipykernel_2741/3687071205.py:40: FutureWarning: The frame.append method is deprecated and will be removed from pandas in a future version. Use pandas.concat instead.\n",
      "  results_data = results_data.append(ara_data,ignore_index=True)\n"
     ]
    },
    {
     "name": "stdout",
     "output_type": "stream",
     "text": [
      "   gini_train  gini_test\n",
      "0    0.561529   0.559378\n",
      "Execution time: 00:00:47\n",
      "\n",
      "\n",
      "***** Run:  1  |  Learning rate : 0.05\n",
      "[03:11:50] WARNING: ../src/learner.cc:767: \n",
      "Parameters: { \"num_round\" } are not used.\n",
      "\n"
     ]
    },
    {
     "name": "stderr",
     "output_type": "stream",
     "text": [
      "/tmp/ipykernel_2741/3687071205.py:40: FutureWarning: The frame.append method is deprecated and will be removed from pandas in a future version. Use pandas.concat instead.\n",
      "  results_data = results_data.append(ara_data,ignore_index=True)\n"
     ]
    },
    {
     "name": "stdout",
     "output_type": "stream",
     "text": [
      "   gini_train  gini_test\n",
      "0    0.612497   0.600271\n",
      "Execution time: 00:00:46\n",
      "\n",
      "\n",
      "***** Run:  2  |  Learning rate : 0.1\n",
      "[03:12:37] WARNING: ../src/learner.cc:767: \n",
      "Parameters: { \"num_round\" } are not used.\n",
      "\n"
     ]
    },
    {
     "name": "stderr",
     "output_type": "stream",
     "text": [
      "/tmp/ipykernel_2741/3687071205.py:40: FutureWarning: The frame.append method is deprecated and will be removed from pandas in a future version. Use pandas.concat instead.\n",
      "  results_data = results_data.append(ara_data,ignore_index=True)\n"
     ]
    },
    {
     "name": "stdout",
     "output_type": "stream",
     "text": [
      "   gini_train  gini_test\n",
      "0    0.646984   0.625594\n",
      "Execution time: 00:00:48\n",
      "\n",
      "\n",
      "***** Run:  3  |  Learning rate : 0.15\n",
      "[03:13:25] WARNING: ../src/learner.cc:767: \n",
      "Parameters: { \"num_round\" } are not used.\n",
      "\n"
     ]
    },
    {
     "name": "stderr",
     "output_type": "stream",
     "text": [
      "/tmp/ipykernel_2741/3687071205.py:40: FutureWarning: The frame.append method is deprecated and will be removed from pandas in a future version. Use pandas.concat instead.\n",
      "  results_data = results_data.append(ara_data,ignore_index=True)\n"
     ]
    },
    {
     "name": "stdout",
     "output_type": "stream",
     "text": [
      "   gini_train  gini_test\n",
      "0    0.668353   0.639335\n",
      "Execution time: 00:00:46\n",
      "\n",
      "\n",
      "***** Run:  4  |  Learning rate : 0.2\n",
      "[03:14:11] WARNING: ../src/learner.cc:767: \n",
      "Parameters: { \"num_round\" } are not used.\n",
      "\n"
     ]
    },
    {
     "name": "stderr",
     "output_type": "stream",
     "text": [
      "/tmp/ipykernel_2741/3687071205.py:40: FutureWarning: The frame.append method is deprecated and will be removed from pandas in a future version. Use pandas.concat instead.\n",
      "  results_data = results_data.append(ara_data,ignore_index=True)\n"
     ]
    },
    {
     "name": "stdout",
     "output_type": "stream",
     "text": [
      "   gini_train  gini_test\n",
      "0    0.689858   0.652158\n",
      "Execution time: 00:00:46\n",
      "\n",
      "\n",
      "***** Run:  5  |  Learning rate : 0.25\n",
      "[03:14:57] WARNING: ../src/learner.cc:767: \n",
      "Parameters: { \"num_round\" } are not used.\n",
      "\n"
     ]
    },
    {
     "name": "stderr",
     "output_type": "stream",
     "text": [
      "/tmp/ipykernel_2741/3687071205.py:40: FutureWarning: The frame.append method is deprecated and will be removed from pandas in a future version. Use pandas.concat instead.\n",
      "  results_data = results_data.append(ara_data,ignore_index=True)\n"
     ]
    },
    {
     "name": "stdout",
     "output_type": "stream",
     "text": [
      "   gini_train  gini_test\n",
      "0    0.707282   0.665248\n",
      "Execution time: 00:00:47\n",
      "\n",
      "\n",
      "***** Run:  6  |  Learning rate : 0.3\n",
      "[03:15:44] WARNING: ../src/learner.cc:767: \n",
      "Parameters: { \"num_round\" } are not used.\n",
      "\n"
     ]
    },
    {
     "name": "stderr",
     "output_type": "stream",
     "text": [
      "/tmp/ipykernel_2741/3687071205.py:40: FutureWarning: The frame.append method is deprecated and will be removed from pandas in a future version. Use pandas.concat instead.\n",
      "  results_data = results_data.append(ara_data,ignore_index=True)\n"
     ]
    },
    {
     "name": "stdout",
     "output_type": "stream",
     "text": [
      "   gini_train  gini_test\n",
      "0    0.720127   0.669572\n",
      "Execution time: 00:00:46\n",
      "\n",
      "\n",
      "***** Run:  7  |  Learning rate : 0.4\n",
      "[03:16:31] WARNING: ../src/learner.cc:767: \n",
      "Parameters: { \"num_round\" } are not used.\n",
      "\n"
     ]
    },
    {
     "name": "stderr",
     "output_type": "stream",
     "text": [
      "/tmp/ipykernel_2741/3687071205.py:40: FutureWarning: The frame.append method is deprecated and will be removed from pandas in a future version. Use pandas.concat instead.\n",
      "  results_data = results_data.append(ara_data,ignore_index=True)\n"
     ]
    },
    {
     "name": "stdout",
     "output_type": "stream",
     "text": [
      "   gini_train  gini_test\n",
      "0    0.745996   0.684683\n",
      "Execution time: 00:00:47\n",
      "\n",
      "\n",
      "***** Run:  8  |  Learning rate : 0.5\n",
      "[03:17:18] WARNING: ../src/learner.cc:767: \n",
      "Parameters: { \"num_round\" } are not used.\n",
      "\n"
     ]
    },
    {
     "name": "stderr",
     "output_type": "stream",
     "text": [
      "/tmp/ipykernel_2741/3687071205.py:40: FutureWarning: The frame.append method is deprecated and will be removed from pandas in a future version. Use pandas.concat instead.\n",
      "  results_data = results_data.append(ara_data,ignore_index=True)\n"
     ]
    },
    {
     "name": "stdout",
     "output_type": "stream",
     "text": [
      "   gini_train  gini_test\n",
      "0    0.757971   0.688677\n",
      "Execution time: 00:00:46\n",
      "\n",
      "\n",
      "***** Run:  9  |  Learning rate : 0.75\n",
      "[03:18:05] WARNING: ../src/learner.cc:767: \n",
      "Parameters: { \"num_round\" } are not used.\n",
      "\n",
      "   gini_train  gini_test\n",
      "0    0.782222   0.689886\n",
      "Execution time: 00:00:47\n",
      "   num_boost_round  learning_rate  subsample  max_depth  gini_train  \\\n",
      "0            100.0           0.01        1.0        6.0    0.561529   \n",
      "1            100.0           0.05        1.0        6.0    0.612497   \n",
      "2            100.0           0.10        1.0        6.0    0.646984   \n",
      "3            100.0           0.15        1.0        6.0    0.668353   \n",
      "4            100.0           0.20        1.0        6.0    0.689858   \n",
      "5            100.0           0.25        1.0        6.0    0.707282   \n",
      "6            100.0           0.30        1.0        6.0    0.720127   \n",
      "7            100.0           0.40        1.0        6.0    0.745996   \n",
      "8            100.0           0.50        1.0        6.0    0.757971   \n",
      "9            100.0           0.75        1.0        6.0    0.782222   \n",
      "\n",
      "   gini_test  auroc_train  auroc_test  train_test_change  \n",
      "0   0.559378     0.780765    0.779689          -0.003831  \n",
      "1   0.600271     0.806249    0.800135          -0.019962  \n",
      "2   0.625594     0.823492    0.812797          -0.033062  \n",
      "3   0.639335     0.834177    0.819667          -0.043418  \n",
      "4   0.652158     0.844929    0.826079          -0.054650  \n",
      "5   0.665248     0.853641    0.832624          -0.059430  \n",
      "6   0.669572     0.860063    0.834786          -0.070203  \n",
      "7   0.684683     0.872998    0.842342          -0.082189  \n",
      "8   0.688677     0.878985    0.844338          -0.091421  \n",
      "9   0.689886     0.891111    0.844943          -0.118043  \n"
     ]
    },
    {
     "name": "stderr",
     "output_type": "stream",
     "text": [
      "/tmp/ipykernel_2741/3687071205.py:40: FutureWarning: The frame.append method is deprecated and will be removed from pandas in a future version. Use pandas.concat instead.\n",
      "  results_data = results_data.append(ara_data,ignore_index=True)\n"
     ]
    }
   ],
   "source": [
    "xgboost_type = \"Train\"\n",
    "learning_rate = [0.01, 0.05, 0.1, 0.15, 0.2, 0.25, 0.3, 0.4, 0.5, 0.75]\n",
    "n_estimators = [100]\n",
    "subsample = [1]\n",
    "max_depth = [6]\n",
    "seed = 1024\n",
    "\n",
    "data_hypertune_selected_lr = xgboost_fine01(xgboost_type,learning_rate,'lr')\n",
    "print(data_hypertune_selected_lr)"
   ]
  },
  {
   "cell_type": "code",
   "execution_count": 57,
   "metadata": {},
   "outputs": [
    {
     "data": {
      "text/html": [
       "<div>\n",
       "<style scoped>\n",
       "    .dataframe tbody tr th:only-of-type {\n",
       "        vertical-align: middle;\n",
       "    }\n",
       "\n",
       "    .dataframe tbody tr th {\n",
       "        vertical-align: top;\n",
       "    }\n",
       "\n",
       "    .dataframe thead th {\n",
       "        text-align: right;\n",
       "    }\n",
       "</style>\n",
       "<table border=\"1\" class=\"dataframe\">\n",
       "  <thead>\n",
       "    <tr style=\"text-align: right;\">\n",
       "      <th></th>\n",
       "      <th>num_boost_round</th>\n",
       "      <th>learning_rate</th>\n",
       "      <th>subsample</th>\n",
       "      <th>max_depth</th>\n",
       "      <th>gini_train</th>\n",
       "      <th>gini_test</th>\n",
       "      <th>auroc_train</th>\n",
       "      <th>auroc_test</th>\n",
       "      <th>train_test_change</th>\n",
       "    </tr>\n",
       "  </thead>\n",
       "  <tbody>\n",
       "    <tr>\n",
       "      <th>0</th>\n",
       "      <td>100.0</td>\n",
       "      <td>0.01</td>\n",
       "      <td>1.0</td>\n",
       "      <td>6.0</td>\n",
       "      <td>0.561529</td>\n",
       "      <td>0.559378</td>\n",
       "      <td>0.780765</td>\n",
       "      <td>0.779689</td>\n",
       "      <td>-0.003831</td>\n",
       "    </tr>\n",
       "    <tr>\n",
       "      <th>1</th>\n",
       "      <td>100.0</td>\n",
       "      <td>0.05</td>\n",
       "      <td>1.0</td>\n",
       "      <td>6.0</td>\n",
       "      <td>0.612497</td>\n",
       "      <td>0.600271</td>\n",
       "      <td>0.806249</td>\n",
       "      <td>0.800135</td>\n",
       "      <td>-0.019962</td>\n",
       "    </tr>\n",
       "    <tr>\n",
       "      <th>2</th>\n",
       "      <td>100.0</td>\n",
       "      <td>0.10</td>\n",
       "      <td>1.0</td>\n",
       "      <td>6.0</td>\n",
       "      <td>0.646984</td>\n",
       "      <td>0.625594</td>\n",
       "      <td>0.823492</td>\n",
       "      <td>0.812797</td>\n",
       "      <td>-0.033062</td>\n",
       "    </tr>\n",
       "    <tr>\n",
       "      <th>3</th>\n",
       "      <td>100.0</td>\n",
       "      <td>0.15</td>\n",
       "      <td>1.0</td>\n",
       "      <td>6.0</td>\n",
       "      <td>0.668353</td>\n",
       "      <td>0.639335</td>\n",
       "      <td>0.834177</td>\n",
       "      <td>0.819667</td>\n",
       "      <td>-0.043418</td>\n",
       "    </tr>\n",
       "    <tr>\n",
       "      <th>4</th>\n",
       "      <td>100.0</td>\n",
       "      <td>0.20</td>\n",
       "      <td>1.0</td>\n",
       "      <td>6.0</td>\n",
       "      <td>0.689858</td>\n",
       "      <td>0.652158</td>\n",
       "      <td>0.844929</td>\n",
       "      <td>0.826079</td>\n",
       "      <td>-0.054650</td>\n",
       "    </tr>\n",
       "    <tr>\n",
       "      <th>5</th>\n",
       "      <td>100.0</td>\n",
       "      <td>0.25</td>\n",
       "      <td>1.0</td>\n",
       "      <td>6.0</td>\n",
       "      <td>0.707282</td>\n",
       "      <td>0.665248</td>\n",
       "      <td>0.853641</td>\n",
       "      <td>0.832624</td>\n",
       "      <td>-0.059430</td>\n",
       "    </tr>\n",
       "    <tr>\n",
       "      <th>6</th>\n",
       "      <td>100.0</td>\n",
       "      <td>0.30</td>\n",
       "      <td>1.0</td>\n",
       "      <td>6.0</td>\n",
       "      <td>0.720127</td>\n",
       "      <td>0.669572</td>\n",
       "      <td>0.860063</td>\n",
       "      <td>0.834786</td>\n",
       "      <td>-0.070203</td>\n",
       "    </tr>\n",
       "    <tr>\n",
       "      <th>7</th>\n",
       "      <td>100.0</td>\n",
       "      <td>0.40</td>\n",
       "      <td>1.0</td>\n",
       "      <td>6.0</td>\n",
       "      <td>0.745996</td>\n",
       "      <td>0.684683</td>\n",
       "      <td>0.872998</td>\n",
       "      <td>0.842342</td>\n",
       "      <td>-0.082189</td>\n",
       "    </tr>\n",
       "    <tr>\n",
       "      <th>8</th>\n",
       "      <td>100.0</td>\n",
       "      <td>0.50</td>\n",
       "      <td>1.0</td>\n",
       "      <td>6.0</td>\n",
       "      <td>0.757971</td>\n",
       "      <td>0.688677</td>\n",
       "      <td>0.878985</td>\n",
       "      <td>0.844338</td>\n",
       "      <td>-0.091421</td>\n",
       "    </tr>\n",
       "    <tr>\n",
       "      <th>9</th>\n",
       "      <td>100.0</td>\n",
       "      <td>0.75</td>\n",
       "      <td>1.0</td>\n",
       "      <td>6.0</td>\n",
       "      <td>0.782222</td>\n",
       "      <td>0.689886</td>\n",
       "      <td>0.891111</td>\n",
       "      <td>0.844943</td>\n",
       "      <td>-0.118043</td>\n",
       "    </tr>\n",
       "  </tbody>\n",
       "</table>\n",
       "</div>"
      ],
      "text/plain": [
       "   num_boost_round  learning_rate  subsample  max_depth  gini_train  \\\n",
       "0            100.0           0.01        1.0        6.0    0.561529   \n",
       "1            100.0           0.05        1.0        6.0    0.612497   \n",
       "2            100.0           0.10        1.0        6.0    0.646984   \n",
       "3            100.0           0.15        1.0        6.0    0.668353   \n",
       "4            100.0           0.20        1.0        6.0    0.689858   \n",
       "5            100.0           0.25        1.0        6.0    0.707282   \n",
       "6            100.0           0.30        1.0        6.0    0.720127   \n",
       "7            100.0           0.40        1.0        6.0    0.745996   \n",
       "8            100.0           0.50        1.0        6.0    0.757971   \n",
       "9            100.0           0.75        1.0        6.0    0.782222   \n",
       "\n",
       "   gini_test  auroc_train  auroc_test  train_test_change  \n",
       "0   0.559378     0.780765    0.779689          -0.003831  \n",
       "1   0.600271     0.806249    0.800135          -0.019962  \n",
       "2   0.625594     0.823492    0.812797          -0.033062  \n",
       "3   0.639335     0.834177    0.819667          -0.043418  \n",
       "4   0.652158     0.844929    0.826079          -0.054650  \n",
       "5   0.665248     0.853641    0.832624          -0.059430  \n",
       "6   0.669572     0.860063    0.834786          -0.070203  \n",
       "7   0.684683     0.872998    0.842342          -0.082189  \n",
       "8   0.688677     0.878985    0.844338          -0.091421  \n",
       "9   0.689886     0.891111    0.844943          -0.118043  "
      ]
     },
     "execution_count": 57,
     "metadata": {},
     "output_type": "execute_result"
    }
   ],
   "source": [
    "data_hypertune_selected_lr"
   ]
  },
  {
   "cell_type": "code",
   "execution_count": 58,
   "metadata": {},
   "outputs": [
    {
     "data": {
      "image/png": "[encoded data removed]",
      "text/plain": [
       "<Figure size 1440x360 with 1 Axes>"
      ]
     },
     "metadata": {
      "needs_background": "light"
     },
     "output_type": "display_data"
    }
   ],
   "source": [
    "plot_search_results(data_hypertune_selected_lr,'learning_rate')"
   ]
  },
  {
   "cell_type": "markdown",
   "metadata": {},
   "source": [
    "### 2.5.2. Finetune the number of boosts"
   ]
  },
  {
   "cell_type": "code",
   "execution_count": 59,
   "metadata": {
    "tags": []
   },
   "outputs": [
    {
     "name": "stdout",
     "output_type": "stream",
     "text": [
      "\n",
      "\n",
      "***** Run:  0  |  Number of boosts : 50\n",
      "[03:28:54] WARNING: ../src/learner.cc:767: \n",
      "Parameters: { \"num_round\" } are not used.\n",
      "\n"
     ]
    },
    {
     "name": "stderr",
     "output_type": "stream",
     "text": [
      "/tmp/ipykernel_2741/3687071205.py:40: FutureWarning: The frame.append method is deprecated and will be removed from pandas in a future version. Use pandas.concat instead.\n",
      "  results_data = results_data.append(ara_data,ignore_index=True)\n"
     ]
    },
    {
     "name": "stdout",
     "output_type": "stream",
     "text": [
      "   gini_train  gini_test\n",
      "0     0.63148   0.613569\n",
      "Execution time: 00:00:24\n",
      "\n",
      "\n",
      "***** Run:  1  |  Number of boosts : 75\n",
      "[03:29:18] WARNING: ../src/learner.cc:767: \n",
      "Parameters: { \"num_round\" } are not used.\n",
      "\n"
     ]
    },
    {
     "name": "stderr",
     "output_type": "stream",
     "text": [
      "/tmp/ipykernel_2741/3687071205.py:40: FutureWarning: The frame.append method is deprecated and will be removed from pandas in a future version. Use pandas.concat instead.\n",
      "  results_data = results_data.append(ara_data,ignore_index=True)\n"
     ]
    },
    {
     "name": "stdout",
     "output_type": "stream",
     "text": [
      "   gini_train  gini_test\n",
      "0    0.650873   0.627445\n",
      "Execution time: 00:00:34\n",
      "\n",
      "\n",
      "***** Run:  2  |  Number of boosts : 100\n",
      "[03:29:53] WARNING: ../src/learner.cc:767: \n",
      "Parameters: { \"num_round\" } are not used.\n",
      "\n"
     ]
    },
    {
     "name": "stderr",
     "output_type": "stream",
     "text": [
      "/tmp/ipykernel_2741/3687071205.py:40: FutureWarning: The frame.append method is deprecated and will be removed from pandas in a future version. Use pandas.concat instead.\n",
      "  results_data = results_data.append(ara_data,ignore_index=True)\n"
     ]
    },
    {
     "name": "stdout",
     "output_type": "stream",
     "text": [
      "   gini_train  gini_test\n",
      "0    0.668353   0.639335\n",
      "Execution time: 00:00:47\n",
      "\n",
      "\n",
      "***** Run:  3  |  Number of boosts : 120\n",
      "[03:30:40] WARNING: ../src/learner.cc:767: \n",
      "Parameters: { \"num_round\" } are not used.\n",
      "\n"
     ]
    },
    {
     "name": "stderr",
     "output_type": "stream",
     "text": [
      "/tmp/ipykernel_2741/3687071205.py:40: FutureWarning: The frame.append method is deprecated and will be removed from pandas in a future version. Use pandas.concat instead.\n",
      "  results_data = results_data.append(ara_data,ignore_index=True)\n"
     ]
    },
    {
     "name": "stdout",
     "output_type": "stream",
     "text": [
      "   gini_train  gini_test\n",
      "0    0.681517   0.649289\n",
      "Execution time: 00:00:55\n",
      "\n",
      "\n",
      "***** Run:  4  |  Number of boosts : 150\n",
      "[03:31:36] WARNING: ../src/learner.cc:767: \n",
      "Parameters: { \"num_round\" } are not used.\n",
      "\n"
     ]
    },
    {
     "name": "stderr",
     "output_type": "stream",
     "text": [
      "/tmp/ipykernel_2741/3687071205.py:40: FutureWarning: The frame.append method is deprecated and will be removed from pandas in a future version. Use pandas.concat instead.\n",
      "  results_data = results_data.append(ara_data,ignore_index=True)\n"
     ]
    },
    {
     "name": "stdout",
     "output_type": "stream",
     "text": [
      "   gini_train  gini_test\n",
      "0    0.699755   0.660779\n",
      "Execution time: 00:01:09\n",
      "\n",
      "\n",
      "***** Run:  5  |  Number of boosts : 180\n",
      "[03:32:46] WARNING: ../src/learner.cc:767: \n",
      "Parameters: { \"num_round\" } are not used.\n",
      "\n"
     ]
    },
    {
     "name": "stderr",
     "output_type": "stream",
     "text": [
      "/tmp/ipykernel_2741/3687071205.py:40: FutureWarning: The frame.append method is deprecated and will be removed from pandas in a future version. Use pandas.concat instead.\n",
      "  results_data = results_data.append(ara_data,ignore_index=True)\n"
     ]
    },
    {
     "name": "stdout",
     "output_type": "stream",
     "text": [
      "   gini_train  gini_test\n",
      "0    0.716531   0.671102\n",
      "Execution time: 00:01:24\n",
      "\n",
      "\n",
      "***** Run:  6  |  Number of boosts : 200\n",
      "[03:34:10] WARNING: ../src/learner.cc:767: \n",
      "Parameters: { \"num_round\" } are not used.\n",
      "\n",
      "   gini_train  gini_test\n",
      "0    0.726179    0.67699\n",
      "Execution time: 00:01:34\n",
      "   num_boost_round  learning_rate  subsample  max_depth  gini_train  \\\n",
      "0             50.0           0.15        1.0        6.0    0.631480   \n",
      "1             75.0           0.15        1.0        6.0    0.650873   \n",
      "2            100.0           0.15        1.0        6.0    0.668353   \n",
      "3            120.0           0.15        1.0        6.0    0.681517   \n",
      "4            150.0           0.15        1.0        6.0    0.699755   \n",
      "5            180.0           0.15        1.0        6.0    0.716531   \n",
      "6            200.0           0.15        1.0        6.0    0.726179   \n",
      "\n",
      "   gini_test  auroc_train  auroc_test  train_test_change  \n",
      "0   0.613569     0.815740    0.806785          -0.028363  \n",
      "1   0.627445     0.825436    0.813723          -0.035994  \n",
      "2   0.639335     0.834177    0.819667          -0.043418  \n",
      "3   0.649289     0.840759    0.824644          -0.047289  \n",
      "4   0.660779     0.849878    0.830389          -0.055700  \n",
      "5   0.671102     0.858265    0.835551          -0.063401  \n",
      "6   0.676990     0.863089    0.838495          -0.067737  \n"
     ]
    },
    {
     "name": "stderr",
     "output_type": "stream",
     "text": [
      "/tmp/ipykernel_2741/3687071205.py:40: FutureWarning: The frame.append method is deprecated and will be removed from pandas in a future version. Use pandas.concat instead.\n",
      "  results_data = results_data.append(ara_data,ignore_index=True)\n"
     ]
    }
   ],
   "source": [
    "xgboost_type = \"Train\"\n",
    "learning_rate = [0.15]\n",
    "n_estimators = [50, 75, 100, 120, 150, 180, 200]\n",
    "subsample = [1]\n",
    "max_depth = [6]\n",
    "seed = 1024\n",
    "\n",
    "data_hypertune_selected_n = xgboost_fine01(xgboost_type,n_estimators,'n')\n",
    "print(data_hypertune_selected_n)"
   ]
  },
  {
   "cell_type": "code",
   "execution_count": 60,
   "metadata": {
    "tags": []
   },
   "outputs": [
    {
     "name": "stdout",
     "output_type": "stream",
     "text": [
      "\n",
      "\n",
      "***** Run:  0  |  Number of boosts : 500\n",
      "[03:35:45] WARNING: ../src/learner.cc:767: \n",
      "Parameters: { \"num_round\" } are not used.\n",
      "\n",
      "   gini_train  gini_test\n",
      "0    0.828682   0.738325\n",
      "Execution time: 00:04:06\n"
     ]
    },
    {
     "name": "stderr",
     "output_type": "stream",
     "text": [
      "/tmp/ipykernel_2741/3687071205.py:40: FutureWarning: The frame.append method is deprecated and will be removed from pandas in a future version. Use pandas.concat instead.\n",
      "  results_data = results_data.append(ara_data,ignore_index=True)\n"
     ]
    }
   ],
   "source": [
    "xgboost_type = \"Train\"\n",
    "learning_rate = [0.15]\n",
    "n_estimators = [500]\n",
    "subsample = [1]\n",
    "max_depth = [6]\n",
    "seed = 1024\n",
    "data_hypertune_selected_n2 = xgboost_fine01(xgboost_type,n_estimators,'n')"
   ]
  },
  {
   "cell_type": "code",
   "execution_count": 61,
   "metadata": {},
   "outputs": [
    {
     "name": "stderr",
     "output_type": "stream",
     "text": [
      "/tmp/ipykernel_2741/1252718386.py:1: FutureWarning: The frame.append method is deprecated and will be removed from pandas in a future version. Use pandas.concat instead.\n",
      "  data_hypertune_selected_n3 = data_hypertune_selected_n.append(data_hypertune_selected_n2)\n"
     ]
    }
   ],
   "source": [
    "data_hypertune_selected_n3 = data_hypertune_selected_n.append(data_hypertune_selected_n2)"
   ]
  },
  {
   "cell_type": "code",
   "execution_count": 62,
   "metadata": {},
   "outputs": [
    {
     "data": {
      "text/html": [
       "<div>\n",
       "<style scoped>\n",
       "    .dataframe tbody tr th:only-of-type {\n",
       "        vertical-align: middle;\n",
       "    }\n",
       "\n",
       "    .dataframe tbody tr th {\n",
       "        vertical-align: top;\n",
       "    }\n",
       "\n",
       "    .dataframe thead th {\n",
       "        text-align: right;\n",
       "    }\n",
       "</style>\n",
       "<table border=\"1\" class=\"dataframe\">\n",
       "  <thead>\n",
       "    <tr style=\"text-align: right;\">\n",
       "      <th></th>\n",
       "      <th>num_boost_round</th>\n",
       "      <th>learning_rate</th>\n",
       "      <th>subsample</th>\n",
       "      <th>max_depth</th>\n",
       "      <th>gini_train</th>\n",
       "      <th>gini_test</th>\n",
       "      <th>auroc_train</th>\n",
       "      <th>auroc_test</th>\n",
       "      <th>train_test_change</th>\n",
       "    </tr>\n",
       "  </thead>\n",
       "  <tbody>\n",
       "    <tr>\n",
       "      <th>0</th>\n",
       "      <td>50.0</td>\n",
       "      <td>0.15</td>\n",
       "      <td>1.0</td>\n",
       "      <td>6.0</td>\n",
       "      <td>0.631480</td>\n",
       "      <td>0.613569</td>\n",
       "      <td>0.815740</td>\n",
       "      <td>0.806785</td>\n",
       "      <td>-0.028363</td>\n",
       "    </tr>\n",
       "    <tr>\n",
       "      <th>1</th>\n",
       "      <td>75.0</td>\n",
       "      <td>0.15</td>\n",
       "      <td>1.0</td>\n",
       "      <td>6.0</td>\n",
       "      <td>0.650873</td>\n",
       "      <td>0.627445</td>\n",
       "      <td>0.825436</td>\n",
       "      <td>0.813723</td>\n",
       "      <td>-0.035994</td>\n",
       "    </tr>\n",
       "    <tr>\n",
       "      <th>2</th>\n",
       "      <td>100.0</td>\n",
       "      <td>0.15</td>\n",
       "      <td>1.0</td>\n",
       "      <td>6.0</td>\n",
       "      <td>0.668353</td>\n",
       "      <td>0.639335</td>\n",
       "      <td>0.834177</td>\n",
       "      <td>0.819667</td>\n",
       "      <td>-0.043418</td>\n",
       "    </tr>\n",
       "    <tr>\n",
       "      <th>3</th>\n",
       "      <td>120.0</td>\n",
       "      <td>0.15</td>\n",
       "      <td>1.0</td>\n",
       "      <td>6.0</td>\n",
       "      <td>0.681517</td>\n",
       "      <td>0.649289</td>\n",
       "      <td>0.840759</td>\n",
       "      <td>0.824644</td>\n",
       "      <td>-0.047289</td>\n",
       "    </tr>\n",
       "    <tr>\n",
       "      <th>4</th>\n",
       "      <td>150.0</td>\n",
       "      <td>0.15</td>\n",
       "      <td>1.0</td>\n",
       "      <td>6.0</td>\n",
       "      <td>0.699755</td>\n",
       "      <td>0.660779</td>\n",
       "      <td>0.849878</td>\n",
       "      <td>0.830389</td>\n",
       "      <td>-0.055700</td>\n",
       "    </tr>\n",
       "    <tr>\n",
       "      <th>5</th>\n",
       "      <td>180.0</td>\n",
       "      <td>0.15</td>\n",
       "      <td>1.0</td>\n",
       "      <td>6.0</td>\n",
       "      <td>0.716531</td>\n",
       "      <td>0.671102</td>\n",
       "      <td>0.858265</td>\n",
       "      <td>0.835551</td>\n",
       "      <td>-0.063401</td>\n",
       "    </tr>\n",
       "    <tr>\n",
       "      <th>6</th>\n",
       "      <td>200.0</td>\n",
       "      <td>0.15</td>\n",
       "      <td>1.0</td>\n",
       "      <td>6.0</td>\n",
       "      <td>0.726179</td>\n",
       "      <td>0.676990</td>\n",
       "      <td>0.863089</td>\n",
       "      <td>0.838495</td>\n",
       "      <td>-0.067737</td>\n",
       "    </tr>\n",
       "    <tr>\n",
       "      <th>0</th>\n",
       "      <td>500.0</td>\n",
       "      <td>0.15</td>\n",
       "      <td>1.0</td>\n",
       "      <td>6.0</td>\n",
       "      <td>0.828682</td>\n",
       "      <td>0.738325</td>\n",
       "      <td>0.914341</td>\n",
       "      <td>0.869162</td>\n",
       "      <td>-0.109038</td>\n",
       "    </tr>\n",
       "  </tbody>\n",
       "</table>\n",
       "</div>"
      ],
      "text/plain": [
       "   num_boost_round  learning_rate  subsample  max_depth  gini_train  \\\n",
       "0             50.0           0.15        1.0        6.0    0.631480   \n",
       "1             75.0           0.15        1.0        6.0    0.650873   \n",
       "2            100.0           0.15        1.0        6.0    0.668353   \n",
       "3            120.0           0.15        1.0        6.0    0.681517   \n",
       "4            150.0           0.15        1.0        6.0    0.699755   \n",
       "5            180.0           0.15        1.0        6.0    0.716531   \n",
       "6            200.0           0.15        1.0        6.0    0.726179   \n",
       "0            500.0           0.15        1.0        6.0    0.828682   \n",
       "\n",
       "   gini_test  auroc_train  auroc_test  train_test_change  \n",
       "0   0.613569     0.815740    0.806785          -0.028363  \n",
       "1   0.627445     0.825436    0.813723          -0.035994  \n",
       "2   0.639335     0.834177    0.819667          -0.043418  \n",
       "3   0.649289     0.840759    0.824644          -0.047289  \n",
       "4   0.660779     0.849878    0.830389          -0.055700  \n",
       "5   0.671102     0.858265    0.835551          -0.063401  \n",
       "6   0.676990     0.863089    0.838495          -0.067737  \n",
       "0   0.738325     0.914341    0.869162          -0.109038  "
      ]
     },
     "execution_count": 62,
     "metadata": {},
     "output_type": "execute_result"
    }
   ],
   "source": [
    "data_hypertune_selected_n3"
   ]
  },
  {
   "cell_type": "code",
   "execution_count": 63,
   "metadata": {},
   "outputs": [
    {
     "data": {
      "image/png": "[encoded data removed]",
      "text/plain": [
       "<Figure size 1440x360 with 1 Axes>"
      ]
     },
     "metadata": {
      "needs_background": "light"
     },
     "output_type": "display_data"
    }
   ],
   "source": [
    "plot_search_results(data_hypertune_selected_n3,'num_boost_round')"
   ]
  },
  {
   "cell_type": "markdown",
   "metadata": {},
   "source": [
    "### 2.5.3. Finetune the subsample"
   ]
  },
  {
   "cell_type": "code",
   "execution_count": 64,
   "metadata": {
    "tags": []
   },
   "outputs": [
    {
     "name": "stdout",
     "output_type": "stream",
     "text": [
      "\n",
      "\n",
      "***** Run:  0  |  Subsample size : 0.2\n",
      "[03:43:46] WARNING: ../src/learner.cc:767: \n",
      "Parameters: { \"num_round\" } are not used.\n",
      "\n"
     ]
    },
    {
     "name": "stderr",
     "output_type": "stream",
     "text": [
      "/tmp/ipykernel_2741/3687071205.py:40: FutureWarning: The frame.append method is deprecated and will be removed from pandas in a future version. Use pandas.concat instead.\n",
      "  results_data = results_data.append(ara_data,ignore_index=True)\n"
     ]
    },
    {
     "name": "stdout",
     "output_type": "stream",
     "text": [
      "   gini_train  gini_test\n",
      "0    0.660161   0.625664\n",
      "Execution time: 00:00:58\n",
      "\n",
      "\n",
      "***** Run:  1  |  Subsample size : 0.4\n",
      "[03:44:44] WARNING: ../src/learner.cc:767: \n",
      "Parameters: { \"num_round\" } are not used.\n",
      "\n"
     ]
    },
    {
     "name": "stderr",
     "output_type": "stream",
     "text": [
      "/tmp/ipykernel_2741/3687071205.py:40: FutureWarning: The frame.append method is deprecated and will be removed from pandas in a future version. Use pandas.concat instead.\n",
      "  results_data = results_data.append(ara_data,ignore_index=True)\n"
     ]
    },
    {
     "name": "stdout",
     "output_type": "stream",
     "text": [
      "   gini_train  gini_test\n",
      "0    0.676914   0.643712\n",
      "Execution time: 00:01:07\n",
      "\n",
      "\n",
      "***** Run:  2  |  Subsample size : 0.6\n",
      "[03:45:52] WARNING: ../src/learner.cc:767: \n",
      "Parameters: { \"num_round\" } are not used.\n",
      "\n"
     ]
    },
    {
     "name": "stderr",
     "output_type": "stream",
     "text": [
      "/tmp/ipykernel_2741/3687071205.py:40: FutureWarning: The frame.append method is deprecated and will be removed from pandas in a future version. Use pandas.concat instead.\n",
      "  results_data = results_data.append(ara_data,ignore_index=True)\n"
     ]
    },
    {
     "name": "stdout",
     "output_type": "stream",
     "text": [
      "   gini_train  gini_test\n",
      "0    0.683577   0.649879\n",
      "Execution time: 00:01:09\n",
      "\n",
      "\n",
      "***** Run:  3  |  Subsample size : 0.8\n",
      "[03:47:01] WARNING: ../src/learner.cc:767: \n",
      "Parameters: { \"num_round\" } are not used.\n",
      "\n"
     ]
    },
    {
     "name": "stderr",
     "output_type": "stream",
     "text": [
      "/tmp/ipykernel_2741/3687071205.py:40: FutureWarning: The frame.append method is deprecated and will be removed from pandas in a future version. Use pandas.concat instead.\n",
      "  results_data = results_data.append(ara_data,ignore_index=True)\n"
     ]
    },
    {
     "name": "stdout",
     "output_type": "stream",
     "text": [
      "   gini_train  gini_test\n",
      "0    0.686447    0.64921\n",
      "Execution time: 00:01:06\n",
      "\n",
      "\n",
      "***** Run:  4  |  Subsample size : 1\n",
      "[03:48:07] WARNING: ../src/learner.cc:767: \n",
      "Parameters: { \"num_round\" } are not used.\n",
      "\n",
      "   gini_train  gini_test\n",
      "0    0.681517   0.649289\n",
      "Execution time: 00:01:00\n"
     ]
    },
    {
     "name": "stderr",
     "output_type": "stream",
     "text": [
      "/tmp/ipykernel_2741/3687071205.py:40: FutureWarning: The frame.append method is deprecated and will be removed from pandas in a future version. Use pandas.concat instead.\n",
      "  results_data = results_data.append(ara_data,ignore_index=True)\n"
     ]
    }
   ],
   "source": [
    "xgboost_type = \"Train\"\n",
    "learning_rate = [0.15]\n",
    "n_estimators = [120]\n",
    "subsample = [0.2, 0.4, 0.6, 0.8, 1]\n",
    "max_depth = [6]\n",
    "seed = 1024\n",
    "data_hypertune_selected_ss = xgboost_fine01(xgboost_type,subsample,'ss')"
   ]
  },
  {
   "cell_type": "code",
   "execution_count": 65,
   "metadata": {},
   "outputs": [
    {
     "data": {
      "text/html": [
       "<div>\n",
       "<style scoped>\n",
       "    .dataframe tbody tr th:only-of-type {\n",
       "        vertical-align: middle;\n",
       "    }\n",
       "\n",
       "    .dataframe tbody tr th {\n",
       "        vertical-align: top;\n",
       "    }\n",
       "\n",
       "    .dataframe thead th {\n",
       "        text-align: right;\n",
       "    }\n",
       "</style>\n",
       "<table border=\"1\" class=\"dataframe\">\n",
       "  <thead>\n",
       "    <tr style=\"text-align: right;\">\n",
       "      <th></th>\n",
       "      <th>num_boost_round</th>\n",
       "      <th>learning_rate</th>\n",
       "      <th>subsample</th>\n",
       "      <th>max_depth</th>\n",
       "      <th>gini_train</th>\n",
       "      <th>gini_test</th>\n",
       "      <th>auroc_train</th>\n",
       "      <th>auroc_test</th>\n",
       "      <th>train_test_change</th>\n",
       "    </tr>\n",
       "  </thead>\n",
       "  <tbody>\n",
       "    <tr>\n",
       "      <th>0</th>\n",
       "      <td>120.0</td>\n",
       "      <td>0.15</td>\n",
       "      <td>0.2</td>\n",
       "      <td>6.0</td>\n",
       "      <td>0.660161</td>\n",
       "      <td>0.625664</td>\n",
       "      <td>0.830081</td>\n",
       "      <td>0.812832</td>\n",
       "      <td>-0.052256</td>\n",
       "    </tr>\n",
       "    <tr>\n",
       "      <th>1</th>\n",
       "      <td>120.0</td>\n",
       "      <td>0.15</td>\n",
       "      <td>0.4</td>\n",
       "      <td>6.0</td>\n",
       "      <td>0.676914</td>\n",
       "      <td>0.643712</td>\n",
       "      <td>0.838457</td>\n",
       "      <td>0.821856</td>\n",
       "      <td>-0.049049</td>\n",
       "    </tr>\n",
       "    <tr>\n",
       "      <th>2</th>\n",
       "      <td>120.0</td>\n",
       "      <td>0.15</td>\n",
       "      <td>0.6</td>\n",
       "      <td>6.0</td>\n",
       "      <td>0.683577</td>\n",
       "      <td>0.649879</td>\n",
       "      <td>0.841789</td>\n",
       "      <td>0.824940</td>\n",
       "      <td>-0.049296</td>\n",
       "    </tr>\n",
       "    <tr>\n",
       "      <th>3</th>\n",
       "      <td>120.0</td>\n",
       "      <td>0.15</td>\n",
       "      <td>0.8</td>\n",
       "      <td>6.0</td>\n",
       "      <td>0.686447</td>\n",
       "      <td>0.649210</td>\n",
       "      <td>0.843224</td>\n",
       "      <td>0.824605</td>\n",
       "      <td>-0.054246</td>\n",
       "    </tr>\n",
       "    <tr>\n",
       "      <th>4</th>\n",
       "      <td>120.0</td>\n",
       "      <td>0.15</td>\n",
       "      <td>1.0</td>\n",
       "      <td>6.0</td>\n",
       "      <td>0.681517</td>\n",
       "      <td>0.649289</td>\n",
       "      <td>0.840759</td>\n",
       "      <td>0.824644</td>\n",
       "      <td>-0.047289</td>\n",
       "    </tr>\n",
       "  </tbody>\n",
       "</table>\n",
       "</div>"
      ],
      "text/plain": [
       "   num_boost_round  learning_rate  subsample  max_depth  gini_train  \\\n",
       "0            120.0           0.15        0.2        6.0    0.660161   \n",
       "1            120.0           0.15        0.4        6.0    0.676914   \n",
       "2            120.0           0.15        0.6        6.0    0.683577   \n",
       "3            120.0           0.15        0.8        6.0    0.686447   \n",
       "4            120.0           0.15        1.0        6.0    0.681517   \n",
       "\n",
       "   gini_test  auroc_train  auroc_test  train_test_change  \n",
       "0   0.625664     0.830081    0.812832          -0.052256  \n",
       "1   0.643712     0.838457    0.821856          -0.049049  \n",
       "2   0.649879     0.841789    0.824940          -0.049296  \n",
       "3   0.649210     0.843224    0.824605          -0.054246  \n",
       "4   0.649289     0.840759    0.824644          -0.047289  "
      ]
     },
     "execution_count": 65,
     "metadata": {},
     "output_type": "execute_result"
    }
   ],
   "source": [
    "data_hypertune_selected_ss"
   ]
  },
  {
   "cell_type": "code",
   "execution_count": 66,
   "metadata": {},
   "outputs": [
    {
     "data": {
      "image/png": "[encoded data removed]",
      "text/plain": [
       "<Figure size 1440x360 with 1 Axes>"
      ]
     },
     "metadata": {
      "needs_background": "light"
     },
     "output_type": "display_data"
    }
   ],
   "source": [
    "plot_search_results(data_hypertune_selected_ss,'subsample')"
   ]
  },
  {
   "cell_type": "markdown",
   "metadata": {},
   "source": [
    "### 2.5.4. Finetune the maximum depth"
   ]
  },
  {
   "cell_type": "code",
   "execution_count": 67,
   "metadata": {
    "tags": []
   },
   "outputs": [
    {
     "name": "stdout",
     "output_type": "stream",
     "text": [
      "\n",
      "\n",
      "***** Run:  0  |  Maximum depth : 2\n",
      "[03:51:52] WARNING: ../src/learner.cc:767: \n",
      "Parameters: { \"num_round\" } are not used.\n",
      "\n"
     ]
    },
    {
     "name": "stderr",
     "output_type": "stream",
     "text": [
      "/tmp/ipykernel_2741/3687071205.py:40: FutureWarning: The frame.append method is deprecated and will be removed from pandas in a future version. Use pandas.concat instead.\n",
      "  results_data = results_data.append(ara_data,ignore_index=True)\n"
     ]
    },
    {
     "name": "stdout",
     "output_type": "stream",
     "text": [
      "   gini_train  gini_test\n",
      "0    0.586766   0.580275\n",
      "Execution time: 00:00:29\n",
      "\n",
      "\n",
      "***** Run:  1  |  Maximum depth : 4\n",
      "[03:52:22] WARNING: ../src/learner.cc:767: \n",
      "Parameters: { \"num_round\" } are not used.\n",
      "\n"
     ]
    },
    {
     "name": "stderr",
     "output_type": "stream",
     "text": [
      "/tmp/ipykernel_2741/3687071205.py:40: FutureWarning: The frame.append method is deprecated and will be removed from pandas in a future version. Use pandas.concat instead.\n",
      "  results_data = results_data.append(ara_data,ignore_index=True)\n"
     ]
    },
    {
     "name": "stdout",
     "output_type": "stream",
     "text": [
      "   gini_train  gini_test\n",
      "0    0.619382   0.607405\n",
      "Execution time: 00:00:44\n",
      "\n",
      "\n",
      "***** Run:  2  |  Maximum depth : 6\n",
      "[03:53:06] WARNING: ../src/learner.cc:767: \n",
      "Parameters: { \"num_round\" } are not used.\n",
      "\n"
     ]
    },
    {
     "name": "stderr",
     "output_type": "stream",
     "text": [
      "/tmp/ipykernel_2741/3687071205.py:40: FutureWarning: The frame.append method is deprecated and will be removed from pandas in a future version. Use pandas.concat instead.\n",
      "  results_data = results_data.append(ara_data,ignore_index=True)\n"
     ]
    },
    {
     "name": "stdout",
     "output_type": "stream",
     "text": [
      "   gini_train  gini_test\n",
      "0    0.686447    0.64921\n",
      "Execution time: 00:01:06\n",
      "\n",
      "\n",
      "***** Run:  3  |  Maximum depth : 8\n",
      "[03:54:12] WARNING: ../src/learner.cc:767: \n",
      "Parameters: { \"num_round\" } are not used.\n",
      "\n"
     ]
    },
    {
     "name": "stderr",
     "output_type": "stream",
     "text": [
      "/tmp/ipykernel_2741/3687071205.py:40: FutureWarning: The frame.append method is deprecated and will be removed from pandas in a future version. Use pandas.concat instead.\n",
      "  results_data = results_data.append(ara_data,ignore_index=True)\n"
     ]
    },
    {
     "name": "stdout",
     "output_type": "stream",
     "text": [
      "   gini_train  gini_test\n",
      "0    0.810184   0.729722\n",
      "Execution time: 00:01:34\n",
      "\n",
      "\n",
      "***** Run:  4  |  Maximum depth : 10\n",
      "[03:55:46] WARNING: ../src/learner.cc:767: \n",
      "Parameters: { \"num_round\" } are not used.\n",
      "\n",
      "   gini_train  gini_test\n",
      "0    0.942988   0.812005\n",
      "Execution time: 00:02:04\n"
     ]
    },
    {
     "name": "stderr",
     "output_type": "stream",
     "text": [
      "/tmp/ipykernel_2741/3687071205.py:40: FutureWarning: The frame.append method is deprecated and will be removed from pandas in a future version. Use pandas.concat instead.\n",
      "  results_data = results_data.append(ara_data,ignore_index=True)\n"
     ]
    }
   ],
   "source": [
    "xgboost_type = \"Train\"\n",
    "learning_rate = [0.15]\n",
    "n_estimators = [120]\n",
    "subsample = [0.8]\n",
    "max_depth = [2, 4, 6, 8, 10]\n",
    "seed = 1024\n",
    "data_hypertune_selected_md = xgboost_fine01(xgboost_type,max_depth,'md')"
   ]
  },
  {
   "cell_type": "code",
   "execution_count": 68,
   "metadata": {},
   "outputs": [
    {
     "data": {
      "text/html": [
       "<div>\n",
       "<style scoped>\n",
       "    .dataframe tbody tr th:only-of-type {\n",
       "        vertical-align: middle;\n",
       "    }\n",
       "\n",
       "    .dataframe tbody tr th {\n",
       "        vertical-align: top;\n",
       "    }\n",
       "\n",
       "    .dataframe thead th {\n",
       "        text-align: right;\n",
       "    }\n",
       "</style>\n",
       "<table border=\"1\" class=\"dataframe\">\n",
       "  <thead>\n",
       "    <tr style=\"text-align: right;\">\n",
       "      <th></th>\n",
       "      <th>num_boost_round</th>\n",
       "      <th>learning_rate</th>\n",
       "      <th>subsample</th>\n",
       "      <th>max_depth</th>\n",
       "      <th>gini_train</th>\n",
       "      <th>gini_test</th>\n",
       "      <th>auroc_train</th>\n",
       "      <th>auroc_test</th>\n",
       "      <th>train_test_change</th>\n",
       "    </tr>\n",
       "  </thead>\n",
       "  <tbody>\n",
       "    <tr>\n",
       "      <th>0</th>\n",
       "      <td>120.0</td>\n",
       "      <td>0.15</td>\n",
       "      <td>0.8</td>\n",
       "      <td>2.0</td>\n",
       "      <td>0.586766</td>\n",
       "      <td>0.580275</td>\n",
       "      <td>0.793383</td>\n",
       "      <td>0.790138</td>\n",
       "      <td>-0.011061</td>\n",
       "    </tr>\n",
       "    <tr>\n",
       "      <th>1</th>\n",
       "      <td>120.0</td>\n",
       "      <td>0.15</td>\n",
       "      <td>0.8</td>\n",
       "      <td>4.0</td>\n",
       "      <td>0.619382</td>\n",
       "      <td>0.607405</td>\n",
       "      <td>0.809691</td>\n",
       "      <td>0.803702</td>\n",
       "      <td>-0.019337</td>\n",
       "    </tr>\n",
       "    <tr>\n",
       "      <th>2</th>\n",
       "      <td>120.0</td>\n",
       "      <td>0.15</td>\n",
       "      <td>0.8</td>\n",
       "      <td>6.0</td>\n",
       "      <td>0.686447</td>\n",
       "      <td>0.649210</td>\n",
       "      <td>0.843224</td>\n",
       "      <td>0.824605</td>\n",
       "      <td>-0.054246</td>\n",
       "    </tr>\n",
       "    <tr>\n",
       "      <th>3</th>\n",
       "      <td>120.0</td>\n",
       "      <td>0.15</td>\n",
       "      <td>0.8</td>\n",
       "      <td>8.0</td>\n",
       "      <td>0.810184</td>\n",
       "      <td>0.729722</td>\n",
       "      <td>0.905092</td>\n",
       "      <td>0.864861</td>\n",
       "      <td>-0.099313</td>\n",
       "    </tr>\n",
       "    <tr>\n",
       "      <th>4</th>\n",
       "      <td>120.0</td>\n",
       "      <td>0.15</td>\n",
       "      <td>0.8</td>\n",
       "      <td>10.0</td>\n",
       "      <td>0.942988</td>\n",
       "      <td>0.812005</td>\n",
       "      <td>0.971494</td>\n",
       "      <td>0.906002</td>\n",
       "      <td>-0.138902</td>\n",
       "    </tr>\n",
       "  </tbody>\n",
       "</table>\n",
       "</div>"
      ],
      "text/plain": [
       "   num_boost_round  learning_rate  subsample  max_depth  gini_train  \\\n",
       "0            120.0           0.15        0.8        2.0    0.586766   \n",
       "1            120.0           0.15        0.8        4.0    0.619382   \n",
       "2            120.0           0.15        0.8        6.0    0.686447   \n",
       "3            120.0           0.15        0.8        8.0    0.810184   \n",
       "4            120.0           0.15        0.8       10.0    0.942988   \n",
       "\n",
       "   gini_test  auroc_train  auroc_test  train_test_change  \n",
       "0   0.580275     0.793383    0.790138          -0.011061  \n",
       "1   0.607405     0.809691    0.803702          -0.019337  \n",
       "2   0.649210     0.843224    0.824605          -0.054246  \n",
       "3   0.729722     0.905092    0.864861          -0.099313  \n",
       "4   0.812005     0.971494    0.906002          -0.138902  "
      ]
     },
     "execution_count": 68,
     "metadata": {},
     "output_type": "execute_result"
    }
   ],
   "source": [
    "data_hypertune_selected_md3 = data_hypertune_selected_md\n",
    "data_hypertune_selected_md3"
   ]
  },
  {
   "cell_type": "code",
   "execution_count": 69,
   "metadata": {},
   "outputs": [
    {
     "data": {
      "image/png": "[encoded data removed]",
      "text/plain": [
       "<Figure size 1440x360 with 1 Axes>"
      ]
     },
     "metadata": {
      "needs_background": "light"
     },
     "output_type": "display_data"
    }
   ],
   "source": [
    "plot_search_results(data_hypertune_selected_md3,'max_depth')"
   ]
  },
  {
   "cell_type": "markdown",
   "metadata": {},
   "source": [
    "## 2.6. Execute and save the best configuration 2"
   ]
  },
  {
   "cell_type": "code",
   "execution_count": 34,
   "metadata": {},
   "outputs": [
    {
     "name": "stdout",
     "output_type": "stream",
     "text": [
      "[13:36:30] WARNING: ../src/learner.cc:767: \n",
      "Parameters: { \"num_round\" } are not used.\n",
      "\n"
     ]
    }
   ],
   "source": [
    "lr = 0.15\n",
    "n = 120\n",
    "ss = 0.8\n",
    "md = 6\n",
    "seed = 1024\n",
    "\n",
    "params_train={\n",
    "    'objective': 'binary:logistic',\n",
    "    'num_round':n,\n",
    "    'learning_rate':lr,\n",
    "    'subsample':ss,    \n",
    "    'max_depth':md,\n",
    "    'seed':seed,\n",
    "    'eval_metric':'auc'\n",
    "}\n",
    "\n",
    "watchlist = [(data_dmatrix_test, 'eval'), (data_dmatrix_train, 'train')]\n",
    "best_model_train = xgb.train(\n",
    "    params_train, \n",
    "    data_dmatrix_train, \n",
    "    n,\n",
    "    evals=watchlist,\n",
    "    verbose_eval=False\n",
    ")"
   ]
  },
  {
   "cell_type": "code",
   "execution_count": 35,
   "metadata": {},
   "outputs": [
    {
     "name": "stdout",
     "output_type": "stream",
     "text": [
      "Gini train: 0.6864470155633813\n",
      "Gini test: 0.6492096680516564\n"
     ]
    }
   ],
   "source": [
    "y_train_pred = best_model_train.predict(data_dmatrix_train) \n",
    "roc_auc_train = roc_auc_score(y_train, y_train_pred)\n",
    "gini_train = 2*roc_auc_train - 1\n",
    "\n",
    "y_test_pred = best_model_train.predict(data_dmatrix_test) \n",
    "roc_auc_test = roc_auc_score(y_test, y_test_pred)\n",
    "gini_test = 2*roc_auc_test - 1\n",
    "train_test_change = (gini_test/gini_train)-1\n",
    "\n",
    "print(\"Gini train:\", gini_train)\n",
    "print(\"Gini test:\", gini_test)"
   ]
  },
  {
   "cell_type": "code",
   "execution_count": 36,
   "metadata": {},
   "outputs": [
    {
     "data": {
      "text/plain": [
       "<AxesSubplot: >"
      ]
     },
     "execution_count": 36,
     "metadata": {},
     "output_type": "execute_result"
    },
    {
     "data": {
      "image/png": "[encoded data removed]",
      "text/plain": [
       "<Figure size 1440x720 with 1 Axes>"
      ]
     },
     "metadata": {
      "needs_background": "light"
     },
     "output_type": "display_data"
    }
   ],
   "source": [
    "feature_important = best_model_train.get_score(importance_type='weight')\n",
    "keys = list(feature_important.keys())\n",
    "values = list(feature_important.values())\n",
    "\n",
    "data_features = pd.DataFrame(data=values, index=keys, columns=[\"score\"]).sort_values(by = \"score\", ascending=False)\n",
    "data_features.nlargest(30, columns=\"score\").plot(kind='barh', figsize = (20,10)) ## plot top 20 features"
   ]
  },
  {
   "cell_type": "code",
   "execution_count": 37,
   "metadata": {},
   "outputs": [],
   "source": [
    "\n",
    "best_model_train.save_model(WS_PATH_Reportes + \"best_model.json\")\n",
    "best_model_train.save_model(WS_PATH_Reportes + \"best_model.txt\")"
   ]
  },
  {
   "cell_type": "code",
   "execution_count": 38,
   "metadata": {},
   "outputs": [],
   "source": [
    "features= pd.DataFrame(data_dmatrix_train.feature_names)\n",
    "features.to_csv(WS_PATH_Reportes + \"best_model_features_2.csv\", index=False)"
   ]
  },
  {
   "cell_type": "code",
   "execution_count": 41,
   "metadata": {},
   "outputs": [
    {
     "data": {
      "text/html": [
       "<div>\n",
       "<style scoped>\n",
       "    .dataframe tbody tr th:only-of-type {\n",
       "        vertical-align: middle;\n",
       "    }\n",
       "\n",
       "    .dataframe tbody tr th {\n",
       "        vertical-align: top;\n",
       "    }\n",
       "\n",
       "    .dataframe thead th {\n",
       "        text-align: right;\n",
       "    }\n",
       "</style>\n",
       "<table border=\"1\" class=\"dataframe\">\n",
       "  <thead>\n",
       "    <tr style=\"text-align: right;\">\n",
       "      <th></th>\n",
       "      <th>0</th>\n",
       "    </tr>\n",
       "  </thead>\n",
       "  <tbody>\n",
       "    <tr>\n",
       "      <th>0</th>\n",
       "      <td>var_241</td>\n",
       "    </tr>\n",
       "    <tr>\n",
       "      <th>1</th>\n",
       "      <td>var_248</td>\n",
       "    </tr>\n",
       "    <tr>\n",
       "      <th>2</th>\n",
       "      <td>var_113</td>\n",
       "    </tr>\n",
       "    <tr>\n",
       "      <th>3</th>\n",
       "      <td>var_249</td>\n",
       "    </tr>\n",
       "    <tr>\n",
       "      <th>4</th>\n",
       "      <td>var_240</td>\n",
       "    </tr>\n",
       "    <tr>\n",
       "      <th>5</th>\n",
       "      <td>var_372</td>\n",
       "    </tr>\n",
       "    <tr>\n",
       "      <th>6</th>\n",
       "      <td>var_242</td>\n",
       "    </tr>\n",
       "    <tr>\n",
       "      <th>7</th>\n",
       "      <td>var_11</td>\n",
       "    </tr>\n",
       "    <tr>\n",
       "      <th>8</th>\n",
       "      <td>var_114</td>\n",
       "    </tr>\n",
       "    <tr>\n",
       "      <th>9</th>\n",
       "      <td>var_14</td>\n",
       "    </tr>\n",
       "    <tr>\n",
       "      <th>10</th>\n",
       "      <td>var_145</td>\n",
       "    </tr>\n",
       "    <tr>\n",
       "      <th>11</th>\n",
       "      <td>var_389</td>\n",
       "    </tr>\n",
       "    <tr>\n",
       "      <th>12</th>\n",
       "      <td>var_252</td>\n",
       "    </tr>\n",
       "    <tr>\n",
       "      <th>13</th>\n",
       "      <td>var_250</td>\n",
       "    </tr>\n",
       "    <tr>\n",
       "      <th>14</th>\n",
       "      <td>var_9</td>\n",
       "    </tr>\n",
       "    <tr>\n",
       "      <th>15</th>\n",
       "      <td>var_146</td>\n",
       "    </tr>\n",
       "    <tr>\n",
       "      <th>16</th>\n",
       "      <td>var_301</td>\n",
       "    </tr>\n",
       "    <tr>\n",
       "      <th>17</th>\n",
       "      <td>var_116</td>\n",
       "    </tr>\n",
       "    <tr>\n",
       "      <th>18</th>\n",
       "      <td>var_54</td>\n",
       "    </tr>\n",
       "    <tr>\n",
       "      <th>19</th>\n",
       "      <td>var_290</td>\n",
       "    </tr>\n",
       "    <tr>\n",
       "      <th>20</th>\n",
       "      <td>var_262</td>\n",
       "    </tr>\n",
       "    <tr>\n",
       "      <th>21</th>\n",
       "      <td>var_179</td>\n",
       "    </tr>\n",
       "    <tr>\n",
       "      <th>22</th>\n",
       "      <td>var_438</td>\n",
       "    </tr>\n",
       "    <tr>\n",
       "      <th>23</th>\n",
       "      <td>var_273</td>\n",
       "    </tr>\n",
       "    <tr>\n",
       "      <th>24</th>\n",
       "      <td>var_264</td>\n",
       "    </tr>\n",
       "  </tbody>\n",
       "</table>\n",
       "</div>"
      ],
      "text/plain": [
       "          0\n",
       "0   var_241\n",
       "1   var_248\n",
       "2   var_113\n",
       "3   var_249\n",
       "4   var_240\n",
       "5   var_372\n",
       "6   var_242\n",
       "7    var_11\n",
       "8   var_114\n",
       "9    var_14\n",
       "10  var_145\n",
       "11  var_389\n",
       "12  var_252\n",
       "13  var_250\n",
       "14    var_9\n",
       "15  var_146\n",
       "16  var_301\n",
       "17  var_116\n",
       "18   var_54\n",
       "19  var_290\n",
       "20  var_262\n",
       "21  var_179\n",
       "22  var_438\n",
       "23  var_273\n",
       "24  var_264"
      ]
     },
     "execution_count": 41,
     "metadata": {},
     "output_type": "execute_result"
    }
   ],
   "source": [
    "features"
   ]
  },
  {
   "cell_type": "code",
   "execution_count": 40,
   "metadata": {},
   "outputs": [
    {
     "data": {
      "text/html": [
       "<div>\n",
       "<style scoped>\n",
       "    .dataframe tbody tr th:only-of-type {\n",
       "        vertical-align: middle;\n",
       "    }\n",
       "\n",
       "    .dataframe tbody tr th {\n",
       "        vertical-align: top;\n",
       "    }\n",
       "\n",
       "    .dataframe thead th {\n",
       "        text-align: right;\n",
       "    }\n",
       "</style>\n",
       "<table border=\"1\" class=\"dataframe\">\n",
       "  <thead>\n",
       "    <tr style=\"text-align: right;\">\n",
       "      <th></th>\n",
       "      <th>score</th>\n",
       "    </tr>\n",
       "  </thead>\n",
       "  <tbody>\n",
       "    <tr>\n",
       "      <th>var_372</th>\n",
       "      <td>371.0</td>\n",
       "    </tr>\n",
       "    <tr>\n",
       "      <th>var_262</th>\n",
       "      <td>352.0</td>\n",
       "    </tr>\n",
       "    <tr>\n",
       "      <th>var_241</th>\n",
       "      <td>349.0</td>\n",
       "    </tr>\n",
       "    <tr>\n",
       "      <th>var_250</th>\n",
       "      <td>337.0</td>\n",
       "    </tr>\n",
       "    <tr>\n",
       "      <th>var_14</th>\n",
       "      <td>336.0</td>\n",
       "    </tr>\n",
       "    <tr>\n",
       "      <th>var_113</th>\n",
       "      <td>334.0</td>\n",
       "    </tr>\n",
       "    <tr>\n",
       "      <th>var_146</th>\n",
       "      <td>325.0</td>\n",
       "    </tr>\n",
       "    <tr>\n",
       "      <th>var_273</th>\n",
       "      <td>325.0</td>\n",
       "    </tr>\n",
       "    <tr>\n",
       "      <th>var_248</th>\n",
       "      <td>318.0</td>\n",
       "    </tr>\n",
       "    <tr>\n",
       "      <th>var_389</th>\n",
       "      <td>317.0</td>\n",
       "    </tr>\n",
       "    <tr>\n",
       "      <th>var_11</th>\n",
       "      <td>295.0</td>\n",
       "    </tr>\n",
       "    <tr>\n",
       "      <th>var_240</th>\n",
       "      <td>290.0</td>\n",
       "    </tr>\n",
       "    <tr>\n",
       "      <th>var_242</th>\n",
       "      <td>286.0</td>\n",
       "    </tr>\n",
       "    <tr>\n",
       "      <th>var_116</th>\n",
       "      <td>282.0</td>\n",
       "    </tr>\n",
       "    <tr>\n",
       "      <th>var_252</th>\n",
       "      <td>280.0</td>\n",
       "    </tr>\n",
       "    <tr>\n",
       "      <th>var_249</th>\n",
       "      <td>280.0</td>\n",
       "    </tr>\n",
       "    <tr>\n",
       "      <th>var_264</th>\n",
       "      <td>271.0</td>\n",
       "    </tr>\n",
       "    <tr>\n",
       "      <th>var_114</th>\n",
       "      <td>260.0</td>\n",
       "    </tr>\n",
       "    <tr>\n",
       "      <th>var_179</th>\n",
       "      <td>258.0</td>\n",
       "    </tr>\n",
       "    <tr>\n",
       "      <th>var_145</th>\n",
       "      <td>249.0</td>\n",
       "    </tr>\n",
       "    <tr>\n",
       "      <th>var_9</th>\n",
       "      <td>246.0</td>\n",
       "    </tr>\n",
       "    <tr>\n",
       "      <th>var_54</th>\n",
       "      <td>243.0</td>\n",
       "    </tr>\n",
       "    <tr>\n",
       "      <th>var_301</th>\n",
       "      <td>237.0</td>\n",
       "    </tr>\n",
       "    <tr>\n",
       "      <th>var_290</th>\n",
       "      <td>226.0</td>\n",
       "    </tr>\n",
       "    <tr>\n",
       "      <th>var_438</th>\n",
       "      <td>199.0</td>\n",
       "    </tr>\n",
       "  </tbody>\n",
       "</table>\n",
       "</div>"
      ],
      "text/plain": [
       "         score\n",
       "var_372  371.0\n",
       "var_262  352.0\n",
       "var_241  349.0\n",
       "var_250  337.0\n",
       "var_14   336.0\n",
       "var_113  334.0\n",
       "var_146  325.0\n",
       "var_273  325.0\n",
       "var_248  318.0\n",
       "var_389  317.0\n",
       "var_11   295.0\n",
       "var_240  290.0\n",
       "var_242  286.0\n",
       "var_116  282.0\n",
       "var_252  280.0\n",
       "var_249  280.0\n",
       "var_264  271.0\n",
       "var_114  260.0\n",
       "var_179  258.0\n",
       "var_145  249.0\n",
       "var_9    246.0\n",
       "var_54   243.0\n",
       "var_301  237.0\n",
       "var_290  226.0\n",
       "var_438  199.0"
      ]
     },
     "execution_count": 40,
     "metadata": {},
     "output_type": "execute_result"
    }
   ],
   "source": [
    "data_features"
   ]
  }
 ],
 "metadata": {
  "kernelspec": {
   "display_name": "spark-python",
   "language": "python",
   "name": "spark-python-spark-python"
  },
  "language_info": {
   "codemirror_mode": {
    "name": "ipython",
    "version": 3
   },
   "file_extension": ".py",
   "mimetype": "text/x-python",
   "name": "python",
   "nbconvert_exporter": "python",
   "pygments_lexer": "ipython3",
   "version": "3.9.7"
  }
 },
 "nbformat": 4,
 "nbformat_minor": 4
}
